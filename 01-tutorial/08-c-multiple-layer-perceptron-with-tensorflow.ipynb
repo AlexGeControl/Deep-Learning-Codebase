{
 "cells": [
  {
   "cell_type": "markdown",
   "metadata": {},
   "source": [
    "# Deep Neural Network in Tensorflow"
   ]
  },
  {
   "cell_type": "markdown",
   "metadata": {},
   "source": [
    "## Set Up Session"
   ]
  },
  {
   "cell_type": "code",
   "execution_count": 1,
   "metadata": {},
   "outputs": [
    {
     "name": "stderr",
     "output_type": "stream",
     "text": [
      "Using TensorFlow backend.\n"
     ]
    }
   ],
   "source": [
    "# dataset:\n",
    "from preprocessed_mnist import load_dataset\n",
    "# processing:\n",
    "import numpy as np\n",
    "import tensorflow as tf\n",
    "# visualization:\n",
    "import matplotlib.pyplot as plt\n",
    "%matplotlib inline"
   ]
  },
  {
   "cell_type": "markdown",
   "metadata": {},
   "source": [
    "## Prepare Dataset"
   ]
  },
  {
   "cell_type": "code",
   "execution_count": 2,
   "metadata": {},
   "outputs": [],
   "source": [
    "# load dataset:\n",
    "X_train, y_train, X_val, y_val, X_test, y_test = load_dataset()"
   ]
  },
  {
   "cell_type": "code",
   "execution_count": 3,
   "metadata": {},
   "outputs": [
    {
     "data": {
      "text/plain": [
       "dtype('uint8')"
      ]
     },
     "execution_count": 3,
     "metadata": {},
     "output_type": "execute_result"
    }
   ],
   "source": [
    "y_train.dtype"
   ]
  },
  {
   "cell_type": "markdown",
   "metadata": {},
   "source": [
    "## Exploratory Analysis"
   ]
  },
  {
   "cell_type": "code",
   "execution_count": 4,
   "metadata": {},
   "outputs": [
    {
     "name": "stdout",
     "output_type": "stream",
     "text": [
      "[Feature Size]: (50000, 28, 28)\n",
      "[Label Size]: (50000, 10)\n"
     ]
    }
   ],
   "source": [
    "# dataset dimensions:\n",
    "N, H, W = X_train.shape\n",
    "C = len(np.unique(y_train))\n",
    "\n",
    "print(\"[Feature Size]: ({}, {}, {})\".format(N, H, W))\n",
    "print(\"[Label Size]: ({}, {})\".format(N, C))"
   ]
  },
  {
   "cell_type": "code",
   "execution_count": 5,
   "metadata": {},
   "outputs": [
    {
     "data": {
      "image/png": "[encoded data removed]",
      "text/plain": [
       "<matplotlib.figure.Figure at 0x7fa42a6f8048>"
      ]
     },
     "metadata": {},
     "output_type": "display_data"
    }
   ],
   "source": [
    "# draw samples:\n",
    "num_samples = 3\n",
    "indices = np.random.choice(N, num_samples)\n",
    "# visualize them:\n",
    "for plot_index, sample_index in enumerate(indices):\n",
    "    plt.subplot(1, num_samples, plot_index + 1)\n",
    "    plt.imshow(X_train[sample_index], cmap=\"Greys\");\n",
    "    plt.title(\"Number {}\".format(y_train[sample_index]))\n",
    "# adjust layout:\n",
    "plt.tight_layout()"
   ]
  },
  {
   "cell_type": "markdown",
   "metadata": {},
   "source": [
    "## Build Model"
   ]
  },
  {
   "cell_type": "code",
   "execution_count": 6,
   "metadata": {
    "collapsed": true
   },
   "outputs": [],
   "source": [
    "# init session:\n",
    "sess = tf.InteractiveSession()"
   ]
  },
  {
   "cell_type": "markdown",
   "metadata": {},
   "source": [
    "### Input Placeholders"
   ]
  },
  {
   "cell_type": "code",
   "execution_count": 7,
   "metadata": {
    "collapsed": true
   },
   "outputs": [],
   "source": [
    "# raw inputs:\n",
    "feature = tf.placeholder(\n",
    "    dtype = tf.float32, \n",
    "    shape = (None, H, W),\n",
    "    name = 'feature'\n",
    ")\n",
    "label = tf.placeholder(\n",
    "    dtype = tf.uint8,\n",
    "    shape = [None],\n",
    "    name = 'label'\n",
    ")"
   ]
  },
  {
   "cell_type": "markdown",
   "metadata": {},
   "source": [
    "### Processed Input"
   ]
  },
  {
   "cell_type": "code",
   "execution_count": 8,
   "metadata": {},
   "outputs": [],
   "source": [
    "# processed inputs:\n",
    "flattened = tf.reshape(\n",
    "    feature,\n",
    "    shape = (-1, H * W)\n",
    ")\n",
    "encoded = tf.one_hot(\n",
    "    label,\n",
    "    depth = C,\n",
    "    dtype = tf.float32,\n",
    "    name = 'encoded'\n",
    ")"
   ]
  },
  {
   "cell_type": "markdown",
   "metadata": {},
   "source": [
    "### Model Definition"
   ]
  },
  {
   "cell_type": "code",
   "execution_count": 9,
   "metadata": {},
   "outputs": [],
   "source": [
    "# convolution layers:\n",
    "num_hidden_1 = 128\n",
    "num_hidden_2 = 64\n",
    "\n",
    "# firstr:\n",
    "W1 = tf.Variable(\n",
    "    tf.truncated_normal((H * W, num_hidden_1), stddev=0.1),\n",
    "    name = 'W1'\n",
    ")\n",
    "b1 = tf.Variable(\n",
    "    tf.constant(0.1, shape=(num_hidden_1,)),\n",
    "    name = 'b1'\n",
    ")\n",
    "h1 = tf.nn.relu(\n",
    "    tf.matmul(flattened, W1) + b1,\n",
    "    name = 'h1'\n",
    ")\n",
    "# second:\n",
    "W2 = tf.Variable(\n",
    "    tf.truncated_normal((num_hidden_1, num_hidden_2), stddev=0.1),\n",
    "    name = 'W2'\n",
    ")\n",
    "b2 = tf.Variable(\n",
    "    tf.constant(0.1, shape=(num_hidden_2,)),\n",
    "    name = 'b2'\n",
    ")\n",
    "h2 = tf.nn.relu(\n",
    "    tf.matmul(h1, W2) + b2,\n",
    "    name = 'h2'\n",
    ")\n",
    "# logits:\n",
    "W_logits = tf.Variable(\n",
    "    tf.truncated_normal((num_hidden_2, C), stddev=0.1),\n",
    "    name = 'W_logits'\n",
    ")\n",
    "b_logits = tf.Variable(\n",
    "    tf.constant(0.1, shape=(C,)),\n",
    "    name = 'b_logits'\n",
    ")\n",
    "logits = tf.matmul(h2, W_logits) + b_logits\n",
    "# loss:\n",
    "loss = tf.reduce_mean(\n",
    "    tf.nn.softmax_cross_entropy_with_logits(\n",
    "        labels = encoded, \n",
    "        logits = logits\n",
    "    )\n",
    ")\n",
    "# accuracy:\n",
    "accuracy = tf.reduce_mean(\n",
    "    tf.cast(\n",
    "        tf.equal(tf.argmax(encoded, 1), tf.argmax(logits,1)), \n",
    "        tf.float32\n",
    "    )\n",
    ")"
   ]
  },
  {
   "cell_type": "markdown",
   "metadata": {},
   "source": [
    "### Training"
   ]
  },
  {
   "cell_type": "code",
   "execution_count": 10,
   "metadata": {
    "collapsed": true
   },
   "outputs": [],
   "source": [
    "# config:\n",
    "num_epoches = 25\n",
    "\n",
    "batch_size = 25000\n",
    "num_iterations = int(N / batch_size) + 1\n",
    "\n",
    "evaluation_step = 5\n",
    "\n",
    "learning_rate = 5e-3"
   ]
  },
  {
   "cell_type": "code",
   "execution_count": 11,
   "metadata": {
    "scrolled": true
   },
   "outputs": [
    {
     "name": "stdout",
     "output_type": "stream",
     "text": [
      "[Training]: 73.57%    [Validation]: 79.41%\n",
      "[Training]: 84.54%    [Validation]: 88.16%\n",
      "[Training]: 88.61%    [Validation]: 90.32%\n",
      "[Training]: 90.41%    [Validation]: 91.95%\n",
      "[Training]: 91.78%    [Validation]: 92.58%\n",
      "[Training]: 92.62%    [Validation]: 93.59%\n",
      "[Training]: 93.42%    [Validation]: 94.00%\n",
      "[Training]: 94.26%    [Validation]: 94.53%\n",
      "[Training]: 94.80%    [Validation]: 95.08%\n",
      "[Training]: 95.37%    [Validation]: 95.29%\n",
      "[Training]: 95.40%    [Validation]: 95.58%\n",
      "[Training]: 95.65%    [Validation]: 95.81%\n",
      "[Training]: 96.15%    [Validation]: 96.00%\n",
      "[Training]: 96.36%    [Validation]: 96.22%\n",
      "[Training]: 96.74%    [Validation]: 96.29%\n"
     ]
    }
   ],
   "source": [
    "# optimizer:\n",
    "optimizer = tf.train.AdamOptimizer(learning_rate).minimize(loss)\n",
    "# initialize variables:\n",
    "sess.run(tf.global_variables_initializer())\n",
    "# logging:\n",
    "train_accuracies = []\n",
    "valid_accuracies = []\n",
    "# training:\n",
    "step_index = 0\n",
    "for epoch_index in range(num_epoches):\n",
    "    for iteration_index in range(num_iterations):\n",
    "        # draw mini batch:\n",
    "        batch_indices = np.random.choice(N, batch_size)\n",
    "        X_batch, y_batch = X_train[batch_indices], y_train[batch_indices]\n",
    "        # train on mini batch\n",
    "        _, train_accuracy = sess.run(\n",
    "            [optimizer, accuracy],\n",
    "            feed_dict = {\n",
    "                feature: X_batch,\n",
    "                label: y_batch\n",
    "            }\n",
    "        )\n",
    "        # evaluation:\n",
    "        step_index += 1\n",
    "        if step_index % evaluation_step == 0:\n",
    "            valid_accuracy = sess.run(\n",
    "                accuracy,\n",
    "                feed_dict = {\n",
    "                    feature: X_val,\n",
    "                    label: y_val\n",
    "                }           \n",
    "            )\n",
    "            print(\n",
    "                \"[Training]: {:.2f}%    [Validation]: {:.2f}%\".format(\n",
    "                    100*train_accuracy, \n",
    "                    100*valid_accuracy\n",
    "                )\n",
    "            )\n",
    "            train_accuracies.append(train_accuracy)\n",
    "            valid_accuracies.append(valid_accuracy)"
   ]
  },
  {
   "cell_type": "code",
   "execution_count": 12,
   "metadata": {},
   "outputs": [
    {
     "data": {
      "image/png": "[encoded data removed]",
      "text/plain": [
       "<matplotlib.figure.Figure at 0x7fa427f4ca20>"
      ]
     },
     "metadata": {},
     "output_type": "display_data"
    }
   ],
   "source": [
    "# visualize process:\n",
    "steps = range(1, len(train_accuracies) + 1)\n",
    "plt.plot(steps, train_accuracies, 'r--', steps, valid_accuracies, 'g^')\n",
    "plt.ylabel('accuracy')\n",
    "plt.xlabel(\"iterations (per {})\".format(evaluation_step))\n",
    "plt.title(\"Learning rate =\" + str(learning_rate))\n",
    "plt.show()"
   ]
  },
  {
   "cell_type": "markdown",
   "metadata": {},
   "source": [
    "## Evaluation"
   ]
  },
  {
   "cell_type": "code",
   "execution_count": 13,
   "metadata": {
    "collapsed": true
   },
   "outputs": [],
   "source": [
    "test_accuracy = sess.run(\n",
    "    accuracy,\n",
    "    feed_dict = {\n",
    "        feature: X_test,\n",
    "        label: y_test\n",
    "    }           \n",
    ")"
   ]
  },
  {
   "cell_type": "code",
   "execution_count": 14,
   "metadata": {},
   "outputs": [
    {
     "name": "stdout",
     "output_type": "stream",
     "text": [
      "[Testing]: 96.08%\n"
     ]
    }
   ],
   "source": [
    "print(\"[Testing]: {:.2f}%\".format(100*test_accuracy))"
   ]
  }
 ],
 "metadata": {
  "kernelspec": {
   "display_name": "Python 3",
   "language": "python",
   "name": "python3"
  },
  "language_info": {
   "codemirror_mode": {
    "name": "ipython",
    "version": 3
   },
   "file_extension": ".py",
   "mimetype": "text/x-python",
   "name": "python",
   "nbconvert_exporter": "python",
   "pygments_lexer": "ipython3",
   "version": "3.6.0"
  }
 },
 "nbformat": 4,
 "nbformat_minor": 2
}
