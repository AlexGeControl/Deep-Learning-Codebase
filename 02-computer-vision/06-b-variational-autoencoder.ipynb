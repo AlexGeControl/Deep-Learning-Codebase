{
 "cells": [
  {
   "cell_type": "markdown",
   "metadata": {},
   "source": [
    "# Variational Autoencoder"
   ]
  },
  {
   "cell_type": "markdown",
   "metadata": {},
   "source": [
    "In this assignment, you will build Variational Autoencoder, train it on the MNIST dataset, and play with its architecture and hyperparameters."
   ]
  },
  {
   "cell_type": "markdown",
   "metadata": {},
   "source": [
    "### Installation\n",
    "\n",
    "You will need ```numpy```, ```tensorflow```, ```keras```, ```matplotlib``` libraries for this assignment"
   ]
  },
  {
   "cell_type": "code",
   "execution_count": 1,
   "metadata": {
    "collapsed": false
   },
   "outputs": [
    {
     "name": "stderr",
     "output_type": "stream",
     "text": [
      "/home/alexge/anaconda3/envs/carnd-term1/lib/python3.5/site-packages/h5py/__init__.py:34: FutureWarning: Conversion of the second argument of issubdtype from `float` to `np.floating` is deprecated. In future, it will be treated as `np.float64 == np.dtype(float).type`.\n",
      "  from ._conv import register_converters as _register_converters\n",
      "Using TensorFlow backend.\n"
     ]
    }
   ],
   "source": [
    "import tensorflow as tf\n",
    "import keras\n",
    "import numpy as np\n",
    "import matplotlib.pyplot as plt\n",
    "\n",
    "from keras.layers import Input, Dense, Lambda, InputLayer, concatenate\n",
    "from keras.models import Model, Sequential\n",
    "from keras.losses import binary_crossentropy\n",
    "from keras import backend as K\n",
    "from keras import metrics\n",
    "from keras.datasets import mnist\n",
    "from keras.utils import np_utils\n",
    "from grader import Grader"
   ]
  },
  {
   "cell_type": "markdown",
   "metadata": {},
   "source": [
    "### Grading\n",
    "We will create a grader instance below and use it to collect your answers. Note that these outputs will be stored locally inside grader and will be uploaded to the platform only after running submit function in the last part of this assignment. If you want to make a partial submission, you can run that cell anytime you want."
   ]
  },
  {
   "cell_type": "code",
   "execution_count": 2,
   "metadata": {
    "collapsed": true
   },
   "outputs": [],
   "source": [
    "grader = Grader()"
   ]
  },
  {
   "cell_type": "markdown",
   "metadata": {},
   "source": [
    "### Variational Autoencoder"
   ]
  },
  {
   "cell_type": "markdown",
   "metadata": {},
   "source": [
    "Recall that Variational Autoencoder is a probabilistic model of data based on a continious mixture of distributions. In the lecture we covered the mixture of gaussians case, but here we will apply VAE to binary MNIST images (each pixel is either black or white). To better model binary data we will use a continuous mixture of binomial distributions: $p(x \\mid w) = \\int p(x \\mid t, w) p(t) dt$, where the prior distribution on the latent code $t$ is standard normal $p(t) = \\mathcal{N}(0, I)$, but probability that $(i, j)$-th pixel is black equals to $(i, j)$-th output of the decoder neural detwork: $p(x_{i, j} \\mid t, w) = \\text{decoder}(t, w)_{i, j}$.\n",
    "\n",
    "To train this model we would like to maximize marginal log-likelihood of our dataset $\\max_w \\log p(X \\mid w)$, but it's very hard to do computationally, so instead we maximize the Variational Lower Bound w.r.t. both the original parameters $w$ and variational distribution $q$ which we define as encoder neural network with parameters $\\phi$ which takes input image $x$ and outputs parameters of the gaussian distribution $q(t \\mid x, \\phi)$: $\\log p(X \\mid w) \\geq \\mathcal{L}(w, \\phi) \\rightarrow \\max_{w, \\phi}$.\n",
    "\n",
    "So overall our model looks as follows: encoder takes an image $x$, produces a distribution over latent codes $q(t \\mid x)$ which should approximate the posterior distribution $p(t \\mid x)$ (at least after training), samples a point from this distribution $\\widehat{t} \\sim q(t \\mid x, \\phi)$, and finally feeds it into a decoder that outputs a distribution over images.\n",
    "\n",
    "<img src=\"images/06-b-variational-autoencoder/01-variational-autoencoder.png\" style=\"width:100%\">\n",
    "\n",
    "In the lecture, we also discussed that variational lower bound has an expected value inside which we are going to approximate with sampling. But it is not trivial since we need to differentiate through this approximation. However, we learned about _reparametrization trick_ which suggests instead of sampling from distribution $\\widehat{t} \\sim q(t \\mid x, \\phi)$ sample from a distribution which doesn't depend on any parameters, e.g. standard normal, and then deterministically transform this sample to the desired one: $\\varepsilon \\sim \\mathcal{N}(0, I); ~~\\widehat{t} = m(x, \\phi) + \\varepsilon \\sigma(x, \\phi)$. This way we don't have to worry about our stochastic gradient being biased and can straightforwardly differentiate our loss w.r.t. all the parameters while treating the current sample $\\varepsilon$ as constant.\n",
    "\n",
    "\n"
   ]
  },
  {
   "cell_type": "markdown",
   "metadata": {},
   "source": [
    "### Variational Lower Bound"
   ]
  },
  {
   "cell_type": "markdown",
   "metadata": {},
   "source": [
    "**Task 1** Derive and implement Variational Lower Bound for the continuous mixture of Binomial distributions.\n",
    "\n",
    "**Note** that to pass the test, your code should work with any mini-batch size.\n",
    "\n",
    "**Also note** that although we need a stochastic estimate of VLB: \n",
    "$$\\text{VLB} = \\sum_{i=1}^N \\text{VLB}_i \\approx \\frac{N}{M}\\sum_{i_s}^M \\text{VLB}_{i_s}$$\n",
    "where $N$ is the dataset size, $\\text{VLB}_i$ is the term of VLB corresponding to the $i$-th object, and $M$ is the mini-batch size; in the function below you need to return just average across the mini-batch $\\frac{1}{M}\\sum_{i_s}^M \\text{VLB}_{i_s}$. People usually optimize this unscaled version of VLB since it doesn't depend on the dataset set size - you can write VLB function once and use it for different datasets - and it doesn't affect optimization (it does affect the learning rate though). The correct value for this unscaled VLB should be around $100 - 170$."
   ]
  },
  {
   "cell_type": "code",
   "execution_count": 3,
   "metadata": {
    "collapsed": true
   },
   "outputs": [],
   "source": [
    "def vlb_binomial(x, x_decoded_mean, t_mean, t_log_var):\n",
    "    \"\"\"Returns the value of Variational Lower Bound\n",
    "    \n",
    "    The inputs are tf.Tensor\n",
    "        x: (batch_size x number_of_pixels) matrix with one image per row with zeros and ones\n",
    "        x_decoded_mean: (batch_size x number_of_pixels) mean of the distribution p(x | t), real numbers from 0 to 1\n",
    "        t_mean: (batch_size x latent_dim) mean vector of the (normal) distribution q(t | x)\n",
    "        t_log_var: (batch_size x latent_dim) logarithm of the variance vector of the (normal) distribution q(t | x)\n",
    "    \n",
    "    Returns:\n",
    "        A tf.Tensor with one element (averaged across the batch), VLB\n",
    "    \"\"\"\n",
    "    VLB = -tf.reduce_mean(\n",
    "        -784*binary_crossentropy(x, x_decoded_mean) +\n",
    "        tf.reduce_sum(0.5*(t_log_var + 1 - tf.exp(t_log_var) - t_mean**2), 1)\n",
    "    )\n",
    "    \n",
    "    return VLB"
   ]
  },
  {
   "cell_type": "code",
   "execution_count": 4,
   "metadata": {
    "collapsed": true
   },
   "outputs": [],
   "source": [
    "# Start tf session so we can run code.\n",
    "sess = tf.InteractiveSession()\n",
    "# Connect keras to the created session.\n",
    "K.set_session(sess)"
   ]
  },
  {
   "cell_type": "code",
   "execution_count": 5,
   "metadata": {
    "collapsed": false
   },
   "outputs": [
    {
     "name": "stdout",
     "output_type": "stream",
     "text": [
      "Current answer for task 1 (vlb) is: 157.59676\n"
     ]
    }
   ],
   "source": [
    "grader.submit_vlb(sess, vlb_binomial)"
   ]
  },
  {
   "cell_type": "markdown",
   "metadata": {},
   "source": [
    "## Encoder / decoder definition"
   ]
  },
  {
   "cell_type": "markdown",
   "metadata": {},
   "source": [
    "**Task 2** Read the code below that defines encoder and decoder networks and implement sampling with reparametrization trick in the provided space."
   ]
  },
  {
   "cell_type": "code",
   "execution_count": 6,
   "metadata": {
    "collapsed": true
   },
   "outputs": [],
   "source": [
    "# number of pixels in MNIST images.\n",
    "original_dim = 784\n",
    "# d, dimensionality of the latent code t.\n",
    "latent_dim = 4 \n",
    "# size of the hidden layer.\n",
    "intermediate_dim = 256 \n",
    "# batch size:\n",
    "batch_size = 500\n",
    "# number of epochs:\n",
    "epochs = 64\n",
    "\n",
    "x = Input(batch_shape=(batch_size, original_dim))\n",
    "def create_encoder(input_dim):\n",
    "    # Encoder network.\n",
    "    # We instantiate these layers separately so as to reuse them later\n",
    "    encoder = Sequential(name='encoder')\n",
    "    encoder.add(InputLayer([input_dim]))\n",
    "    encoder.add(Dense(intermediate_dim, activation='relu'))\n",
    "    encoder.add(Dense(2 * latent_dim))\n",
    "    return encoder\n",
    "encoder = create_encoder(original_dim)\n",
    "\n",
    "get_t_mean = Lambda(lambda h: h[:, :latent_dim])\n",
    "get_t_log_var = Lambda(lambda h: h[:, latent_dim:])\n",
    "h = encoder(x)\n",
    "t_mean = get_t_mean(h)\n",
    "t_log_var = get_t_log_var(h)\n",
    "\n",
    "# Sampling from the distribution \n",
    "#     q(t | x) = N(t_mean, exp(t_log_var))\n",
    "# with reparametrization trick.\n",
    "def sampling(args):\n",
    "    \"\"\"Returns sample from a distribution N(args[0], diag(args[1]))\n",
    "    \n",
    "    The sample should be computed with reparametrization trick.\n",
    "    \n",
    "    The inputs are tf.Tensor\n",
    "        args[0]: (batch_size x latent_dim) mean of the desired distribution\n",
    "        args[1]: (batch_size x latent_dim) logarithm of the variance vector of the desired distribution\n",
    "    \n",
    "    Returns:\n",
    "        A tf.Tensor of size (batch_size x latent_dim), the samples.\n",
    "    \"\"\"\n",
    "    # parse params:\n",
    "    t_mean, t_log_var = args\n",
    "    # latent variable sample:\n",
    "    epsilon = tf.random_normal(\n",
    "        shape = tf.shape(t_mean)\n",
    "    )\n",
    "    t = t_mean + epsilon * tf.exp(0.5*t_log_var)\n",
    "    \n",
    "    return t\n",
    "\n",
    "t = Lambda(sampling)([t_mean, t_log_var])\n",
    "\n",
    "def create_decoder(input_dim):\n",
    "    # Decoder network\n",
    "    # We instantiate these layers separately so as to reuse them later\n",
    "    decoder = Sequential(name='decoder')\n",
    "    decoder.add(InputLayer([input_dim]))\n",
    "    decoder.add(Dense(intermediate_dim, activation='relu'))\n",
    "    decoder.add(Dense(original_dim, activation='sigmoid'))\n",
    "    return decoder\n",
    "decoder = create_decoder(latent_dim)\n",
    "x_decoded_mean = decoder(t)"
   ]
  },
  {
   "cell_type": "code",
   "execution_count": 7,
   "metadata": {
    "collapsed": false
   },
   "outputs": [
    {
     "name": "stdout",
     "output_type": "stream",
     "text": [
      "Current answer for task 2.1 (samples mean) is: -0.118667945\n",
      "Current answer for task 2.2 (samples var) is: 0.037175804\n"
     ]
    }
   ],
   "source": [
    "grader.submit_samples(sess, sampling)"
   ]
  },
  {
   "cell_type": "markdown",
   "metadata": {},
   "source": [
    "## Training the model"
   ]
  },
  {
   "cell_type": "markdown",
   "metadata": {},
   "source": [
    "**Task 3** Run the cells below to train the model with the default settings. Modify the parameters to get better results. Especially pay attention the encoder / encoder architectures (e.g. using more layers, maybe making them convolutional), learning rate, and the number of epochs."
   ]
  },
  {
   "cell_type": "code",
   "execution_count": 8,
   "metadata": {
    "collapsed": true
   },
   "outputs": [],
   "source": [
    "loss = vlb_binomial(x, x_decoded_mean, t_mean, t_log_var)\n",
    "vae = Model(x, x_decoded_mean)\n",
    "# Keras will provide input (x) and output (x_decoded_mean) to the function that\n",
    "# should construct loss, but since our function also depends on other\n",
    "# things (e.g. t_means), it is easier to build the loss in advance and pass\n",
    "# a function that always returns it.\n",
    "vae.compile(optimizer=keras.optimizers.Adam(lr=1e-3), loss=lambda x, y: loss)"
   ]
  },
  {
   "cell_type": "markdown",
   "metadata": {},
   "source": [
    "#### Load and prepare the data"
   ]
  },
  {
   "cell_type": "code",
   "execution_count": 9,
   "metadata": {
    "collapsed": true
   },
   "outputs": [],
   "source": [
    "# train the VAE on MNIST digits\n",
    "(x_train, y_train), (x_test, y_test) = mnist.load_data()\n",
    "# One hot encoding.\n",
    "y_train = np_utils.to_categorical(y_train)\n",
    "y_test = np_utils.to_categorical(y_test)\n",
    "\n",
    "x_train = x_train.astype('float32') / 255.\n",
    "x_test = x_test.astype('float32') / 255.\n",
    "x_train = x_train.reshape((len(x_train), np.prod(x_train.shape[1:])))\n",
    "x_test = x_test.reshape((len(x_test), np.prod(x_test.shape[1:])))"
   ]
  },
  {
   "cell_type": "markdown",
   "metadata": {},
   "source": [
    "#### Train the model"
   ]
  },
  {
   "cell_type": "code",
   "execution_count": 10,
   "metadata": {
    "collapsed": false,
    "scrolled": false
   },
   "outputs": [
    {
     "name": "stdout",
     "output_type": "stream",
     "text": [
      "Train on 60000 samples, validate on 10000 samples\n",
      "Epoch 1/64\n",
      " - 4s - loss: 249.8762 - val_loss: 183.7062\n",
      "Epoch 2/64\n",
      " - 3s - loss: 173.0076 - val_loss: 164.6128\n",
      "Epoch 3/64\n",
      " - 3s - loss: 160.9473 - val_loss: 156.8619\n",
      "Epoch 4/64\n",
      " - 3s - loss: 155.0042 - val_loss: 152.1826\n",
      "Epoch 5/64\n",
      " - 3s - loss: 151.1299 - val_loss: 148.9038\n",
      "Epoch 6/64\n",
      " - 3s - loss: 148.4218 - val_loss: 146.6494\n",
      "Epoch 7/64\n",
      " - 3s - loss: 146.5310 - val_loss: 145.1323\n",
      "Epoch 8/64\n",
      " - 3s - loss: 145.1447 - val_loss: 143.9747\n",
      "Epoch 9/64\n",
      " - 4s - loss: 143.9924 - val_loss: 142.8791\n",
      "Epoch 10/64\n",
      " - 3s - loss: 143.0436 - val_loss: 142.0630\n",
      "Epoch 11/64\n",
      " - 3s - loss: 142.1657 - val_loss: 141.1399\n",
      "Epoch 12/64\n",
      " - 3s - loss: 141.3576 - val_loss: 140.4455\n",
      "Epoch 13/64\n",
      " - 3s - loss: 140.6452 - val_loss: 139.7056\n",
      "Epoch 14/64\n",
      " - 3s - loss: 140.0225 - val_loss: 139.2066\n",
      "Epoch 15/64\n",
      " - 3s - loss: 139.4421 - val_loss: 138.6749\n",
      "Epoch 16/64\n",
      " - 3s - loss: 138.9400 - val_loss: 138.2705\n",
      "Epoch 17/64\n",
      " - 3s - loss: 138.4516 - val_loss: 137.7824\n",
      "Epoch 18/64\n",
      " - 3s - loss: 138.0063 - val_loss: 137.4087\n",
      "Epoch 19/64\n",
      " - 3s - loss: 137.6027 - val_loss: 136.9766\n",
      "Epoch 20/64\n",
      " - 3s - loss: 137.1994 - val_loss: 136.7633\n",
      "Epoch 21/64\n",
      " - 3s - loss: 136.8210 - val_loss: 136.3315\n",
      "Epoch 22/64\n",
      " - 3s - loss: 136.4404 - val_loss: 136.0845\n",
      "Epoch 23/64\n",
      " - 3s - loss: 136.0999 - val_loss: 135.6977\n",
      "Epoch 24/64\n",
      " - 3s - loss: 135.7628 - val_loss: 135.4624\n",
      "Epoch 25/64\n",
      " - 3s - loss: 135.4445 - val_loss: 135.0659\n",
      "Epoch 26/64\n",
      " - 3s - loss: 135.1215 - val_loss: 134.7791\n",
      "Epoch 27/64\n",
      " - 3s - loss: 134.8121 - val_loss: 134.6450\n",
      "Epoch 28/64\n",
      " - 3s - loss: 134.5534 - val_loss: 134.2430\n",
      "Epoch 29/64\n",
      " - 3s - loss: 134.2527 - val_loss: 134.0529\n",
      "Epoch 30/64\n",
      " - 3s - loss: 134.0033 - val_loss: 133.8974\n",
      "Epoch 31/64\n",
      " - 3s - loss: 133.7118 - val_loss: 133.6208\n",
      "Epoch 32/64\n",
      " - 3s - loss: 133.4981 - val_loss: 133.4726\n",
      "Epoch 33/64\n",
      " - 3s - loss: 133.2287 - val_loss: 133.3221\n",
      "Epoch 34/64\n",
      " - 3s - loss: 133.0071 - val_loss: 133.0741\n",
      "Epoch 35/64\n",
      " - 3s - loss: 132.7782 - val_loss: 132.9110\n",
      "Epoch 36/64\n",
      " - 3s - loss: 132.5534 - val_loss: 132.6087\n",
      "Epoch 37/64\n",
      " - 3s - loss: 132.3287 - val_loss: 132.4927\n",
      "Epoch 38/64\n",
      " - 3s - loss: 132.1194 - val_loss: 132.2391\n",
      "Epoch 39/64\n",
      " - 3s - loss: 131.9284 - val_loss: 132.0221\n",
      "Epoch 40/64\n",
      " - 3s - loss: 131.7792 - val_loss: 131.9174\n",
      "Epoch 41/64\n",
      " - 3s - loss: 131.5772 - val_loss: 131.7485\n",
      "Epoch 42/64\n",
      " - 3s - loss: 131.3577 - val_loss: 131.6450\n",
      "Epoch 43/64\n",
      " - 3s - loss: 131.2079 - val_loss: 131.5487\n",
      "Epoch 44/64\n",
      " - 3s - loss: 131.0444 - val_loss: 131.4327\n",
      "Epoch 45/64\n",
      " - 3s - loss: 130.8964 - val_loss: 131.2476\n",
      "Epoch 46/64\n",
      " - 3s - loss: 130.7048 - val_loss: 131.1172\n",
      "Epoch 47/64\n",
      " - 4s - loss: 130.5642 - val_loss: 131.0673\n",
      "Epoch 48/64\n",
      " - 3s - loss: 130.4193 - val_loss: 130.9479\n",
      "Epoch 49/64\n",
      " - 3s - loss: 130.2753 - val_loss: 130.8838\n",
      "Epoch 50/64\n",
      " - 3s - loss: 130.1425 - val_loss: 130.7506\n",
      "Epoch 51/64\n",
      " - 3s - loss: 129.9852 - val_loss: 130.6171\n",
      "Epoch 52/64\n",
      " - 3s - loss: 129.8513 - val_loss: 130.5945\n",
      "Epoch 53/64\n",
      " - 3s - loss: 129.7277 - val_loss: 130.4973\n",
      "Epoch 54/64\n",
      " - 3s - loss: 129.6824 - val_loss: 130.4560\n",
      "Epoch 55/64\n",
      " - 3s - loss: 129.5412 - val_loss: 130.3523\n",
      "Epoch 56/64\n",
      " - 4s - loss: 129.3933 - val_loss: 130.1933\n",
      "Epoch 57/64\n",
      " - 3s - loss: 129.2891 - val_loss: 130.0709\n",
      "Epoch 58/64\n",
      " - 3s - loss: 129.1606 - val_loss: 130.1036\n",
      "Epoch 59/64\n",
      " - 3s - loss: 129.0776 - val_loss: 130.0315\n",
      "Epoch 60/64\n",
      " - 3s - loss: 128.9591 - val_loss: 129.8761\n",
      "Epoch 61/64\n",
      " - 3s - loss: 128.8675 - val_loss: 129.9041\n",
      "Epoch 62/64\n",
      " - 3s - loss: 128.7619 - val_loss: 129.7192\n",
      "Epoch 63/64\n",
      " - 3s - loss: 128.6441 - val_loss: 129.7606\n",
      "Epoch 64/64\n",
      " - 3s - loss: 128.5854 - val_loss: 129.5725\n"
     ]
    }
   ],
   "source": [
    "hist = vae.fit(\n",
    "    x=x_train, \n",
    "    y=x_train,\n",
    "    shuffle=True,\n",
    "    epochs=epochs,\n",
    "    batch_size=batch_size,\n",
    "    validation_data=(x_test, x_test),\n",
    "    verbose=2\n",
    ")"
   ]
  },
  {
   "cell_type": "markdown",
   "metadata": {},
   "source": [
    "### Visualize reconstructions for train and validation data\n",
    "In the picture below you can see the reconstruction ability of your network on training and validation data. In each of the two images, the left column is MNIST images and the right column is the corresponding image after passing through autoencoder (or more precisely the mean of the binomial distribution over the output images).\n",
    "\n",
    "Note that getting the best possible reconstruction is not the point of VAE, the KL term of the objective specifically hurts the reconstruction performance. But the reconstruction should be anyway reasonable and they provide a visual debugging tool."
   ]
  },
  {
   "cell_type": "code",
   "execution_count": 11,
   "metadata": {
    "collapsed": false
   },
   "outputs": [
    {
     "data": {
      "image/png": "[encoded data removed]",
      "text/plain": [
       "<matplotlib.figure.Figure at 0x7f9310df8160>"
      ]
     },
     "metadata": {},
     "output_type": "display_data"
    }
   ],
   "source": [
    "fig = plt.figure(figsize=(10, 10))\n",
    "for fid_idx, (data, title) in enumerate(\n",
    "            zip([x_train, x_test], ['Train', 'Validation'])):\n",
    "    n = 10  # figure with 10 x 2 digits\n",
    "    digit_size = 28\n",
    "    figure = np.zeros((digit_size * n, digit_size * 2))\n",
    "    decoded = sess.run(x_decoded_mean, feed_dict={x: data[:batch_size, :]})\n",
    "    for i in range(10):\n",
    "        figure[i * digit_size: (i + 1) * digit_size,\n",
    "               :digit_size] = data[i, :].reshape(digit_size, digit_size)\n",
    "        figure[i * digit_size: (i + 1) * digit_size,\n",
    "               digit_size:] = decoded[i, :].reshape(digit_size, digit_size)\n",
    "    ax = fig.add_subplot(1, 2, fid_idx + 1)\n",
    "    ax.imshow(figure, cmap='Greys_r')\n",
    "    ax.set_title(title)\n",
    "    ax.axis('off')\n",
    "plt.show()"
   ]
  },
  {
   "cell_type": "markdown",
   "metadata": {
    "collapsed": true
   },
   "source": [
    "### Sending the results of your best model as Task 3 submission"
   ]
  },
  {
   "cell_type": "code",
   "execution_count": 12,
   "metadata": {
    "collapsed": false
   },
   "outputs": [
    {
     "name": "stdout",
     "output_type": "stream",
     "text": [
      "Current answer for task 3 (best val loss) is: 129.57252922058106\n"
     ]
    }
   ],
   "source": [
    "grader.submit_best_val_loss(hist)"
   ]
  },
  {
   "cell_type": "markdown",
   "metadata": {},
   "source": [
    "## Hallucinating new data\n",
    "**Task 4** Write code to generate new samples of images from your trained VAE. To do that you have to sample from the prior distribution $p(t)$ and then from the likelihood $p(x \\mid t)$.\n",
    "\n",
    "**Note** that the sampling you've written in Task 2 was for the variational distribution $q(t \\mid x)$, while here you need to sample from the prior."
   ]
  },
  {
   "cell_type": "code",
   "execution_count": 13,
   "metadata": {
    "collapsed": true
   },
   "outputs": [],
   "source": [
    "# To pass automatic grading please use at least 2 samples here.\n",
    "n_samples = 10  \n",
    "\n",
    "# latent variable samples from prior:\n",
    "t = tf.random_normal(\n",
    "    shape = (n_samples, latent_dim)\n",
    ")\n",
    "\n",
    "# sampled_im_mean is a tf.Tensor of size 10 x 784 with 10 random\n",
    "# images sampled from the vae model.\n",
    "sampled_im_mean = x_decoded_mean = decoder(t)"
   ]
  },
  {
   "cell_type": "code",
   "execution_count": 14,
   "metadata": {
    "collapsed": false
   },
   "outputs": [
    {
     "data": {
      "image/png": "[encoded data removed]",
      "text/plain": [
       "<matplotlib.figure.Figure at 0x7f9375047eb8>"
      ]
     },
     "metadata": {},
     "output_type": "display_data"
    }
   ],
   "source": [
    "sampled_im_mean_np = sess.run(sampled_im_mean)\n",
    "# Show the sampled images.\n",
    "plt.figure()\n",
    "for i in range(n_samples):\n",
    "    ax = plt.subplot(n_samples // 5 + 1, 5, i + 1)\n",
    "    plt.imshow(sampled_im_mean_np[i, :].reshape(28, 28), cmap='gray')\n",
    "    ax.axis('off')\n",
    "plt.show()"
   ]
  },
  {
   "cell_type": "code",
   "execution_count": 15,
   "metadata": {
    "collapsed": false
   },
   "outputs": [
    {
     "name": "stdout",
     "output_type": "stream",
     "text": [
      "Current answer for task 4.1 (hallucinating mean) is: 0.1327158\n",
      "Current answer for task 4.2 (hallucinating var) is: 0.14027259\n"
     ]
    }
   ],
   "source": [
    "grader.submit_hallucinating(sess, sampled_im_mean)"
   ]
  },
  {
   "cell_type": "markdown",
   "metadata": {},
   "source": [
    "# Conditional VAE"
   ]
  },
  {
   "cell_type": "markdown",
   "metadata": {},
   "source": [
    "In the final task, you will modify your code to obtain Conditional Variational Autoencoder [1]. The idea is very simple: to be able to control the samples you generate, we condition all the distributions on some additional information. In our case, this additional information will be the class label (the digit on the image, from 0 to 9).\n",
    "\n",
    "<img src=\"images/06-b-variational-autoencoder/02-conditional-variational-autoencoder.png\" style=\"width:100%\">\n",
    "\n",
    "So now both the likelihood and the variational distributions are conditioned on the class label: $p(x \\mid t, \\text{label}, w)$, $q(t \\mid x, \\text{label}, \\phi)$.\n",
    "\n",
    "The only thing you have to change in your code is to concatenate input image $x$ with (one-hot) label of this image to pass into the encoder $q$ and to concatenate latent code $t$ with the same label to pass into the decoder $p$. Note that it's slightly harder to do with convolutional encoder / decoder model.\n",
    "\n",
    "[1] Sohn, Kihyuk, Honglak Lee, and Xinchen Yan. “Learning Structured Output Representation using Deep Conditional Generative Models.” Advances in Neural Information Processing Systems. 2015."
   ]
  },
  {
   "cell_type": "markdown",
   "metadata": {},
   "source": [
    "## Final task"
   ]
  },
  {
   "cell_type": "markdown",
   "metadata": {},
   "source": [
    "**Task 5.1** Implement CVAE model. You may reuse ```create_encoder``` and ```create_decoder``` modules defined previously (now you can see why they accept the input size as an argument ;) ). You may also need `concatenate` Keras layer to concat labels with input data and latent code.\n",
    "\n",
    "To finish this task, you should go to `Conditionally hallucinate data` section and find there Task 5.2"
   ]
  },
  {
   "cell_type": "code",
   "execution_count": 17,
   "metadata": {
    "collapsed": true
   },
   "outputs": [],
   "source": [
    "# number of pixels in MNIST images.\n",
    "original_dim = 784\n",
    "# d, dimensionality of the latent code t.\n",
    "latent_dim = 4 \n",
    "# size of the hidden layer.\n",
    "intermediate_dim = 256 \n",
    "# batch size:\n",
    "batch_size = 500\n",
    "# number of epochs:\n",
    "epochs = 64\n",
    "\n",
    "# one-hot labels placeholder:\n",
    "x = Input(batch_shape=(batch_size, original_dim))\n",
    "label = Input(batch_shape=(batch_size, 10))\n",
    "\n",
    "# conditional x:\n",
    "cond_x = concatenate([x, label])\n",
    "cond_input_dim = original_dim + 10\n",
    "\n",
    "# encoder:\n",
    "encoder = create_encoder(cond_input_dim)\n",
    "\n",
    "# latent variable distribution params:\n",
    "h = encoder(cond_x)\n",
    "cond_t_mean = get_t_mean(h)\n",
    "cond_t_log_var = get_t_log_var(h)\n",
    "\n",
    "# sampled latent variables:\n",
    "t = Lambda(sampling)([cond_t_mean, cond_t_log_var])\n",
    "\n",
    "# extended t:\n",
    "cond_t = concatenate([t, label])\n",
    "cond_latent_dim = latent_dim + 10\n",
    "\n",
    "# decoder:\n",
    "decoder = create_decoder(cond_latent_dim)\n",
    "\n",
    "# reconstructed x:\n",
    "cond_x_decoded_mean = decoder(cond_t)"
   ]
  },
  {
   "cell_type": "markdown",
   "metadata": {},
   "source": [
    "## Define the loss and the model"
   ]
  },
  {
   "cell_type": "code",
   "execution_count": 18,
   "metadata": {
    "collapsed": true
   },
   "outputs": [],
   "source": [
    "conditional_loss = vlb_binomial(\n",
    "    x, cond_x_decoded_mean, cond_t_mean, cond_t_log_var\n",
    ")\n",
    "cvae = Model(\n",
    "    [x, label], \n",
    "    cond_x_decoded_mean\n",
    ")\n",
    "\n",
    "cvae.compile(optimizer=keras.optimizers.Adam(lr=1e-3), loss=lambda x, y: conditional_loss)"
   ]
  },
  {
   "cell_type": "markdown",
   "metadata": {},
   "source": [
    "### Train the model"
   ]
  },
  {
   "cell_type": "code",
   "execution_count": 19,
   "metadata": {
    "collapsed": false
   },
   "outputs": [
    {
     "name": "stdout",
     "output_type": "stream",
     "text": [
      "Train on 60000 samples, validate on 10000 samples\n",
      "Epoch 1/64\n",
      " - 3s - loss: 247.4213 - val_loss: 178.6568\n",
      "Epoch 2/64\n",
      " - 3s - loss: 164.7367 - val_loss: 154.1915\n",
      "Epoch 3/64\n",
      " - 3s - loss: 150.0892 - val_loss: 145.5945\n",
      "Epoch 4/64\n",
      " - 3s - loss: 143.5466 - val_loss: 140.6060\n",
      "Epoch 5/64\n",
      " - 3s - loss: 139.4094 - val_loss: 137.1619\n",
      "Epoch 6/64\n",
      " - 3s - loss: 136.4946 - val_loss: 134.6096\n",
      "Epoch 7/64\n",
      " - 3s - loss: 134.2633 - val_loss: 132.7605\n",
      "Epoch 8/64\n",
      " - 3s - loss: 132.4892 - val_loss: 131.1341\n",
      "Epoch 9/64\n",
      " - 4s - loss: 131.1075 - val_loss: 129.8206\n",
      "Epoch 10/64\n",
      " - 3s - loss: 129.9956 - val_loss: 128.8320\n",
      "Epoch 11/64\n",
      " - 3s - loss: 129.0158 - val_loss: 128.0039\n",
      "Epoch 12/64\n",
      " - 3s - loss: 128.1804 - val_loss: 127.1507\n",
      "Epoch 13/64\n",
      " - 3s - loss: 127.4417 - val_loss: 126.5262\n",
      "Epoch 14/64\n",
      " - 3s - loss: 126.7955 - val_loss: 125.9611\n",
      "Epoch 15/64\n",
      " - 3s - loss: 126.2087 - val_loss: 125.3373\n",
      "Epoch 16/64\n",
      " - 3s - loss: 125.6592 - val_loss: 124.9429\n",
      "Epoch 17/64\n",
      " - 3s - loss: 125.1700 - val_loss: 124.4712\n",
      "Epoch 18/64\n",
      " - 3s - loss: 124.7210 - val_loss: 124.0873\n",
      "Epoch 19/64\n",
      " - 3s - loss: 124.2891 - val_loss: 123.7840\n",
      "Epoch 20/64\n",
      " - 3s - loss: 123.9531 - val_loss: 123.3580\n",
      "Epoch 21/64\n",
      " - 3s - loss: 123.5676 - val_loss: 123.0194\n",
      "Epoch 22/64\n",
      " - 3s - loss: 123.2572 - val_loss: 122.7346\n",
      "Epoch 23/64\n",
      " - 3s - loss: 122.9214 - val_loss: 122.5246\n",
      "Epoch 24/64\n",
      " - 3s - loss: 122.6412 - val_loss: 122.2003\n",
      "Epoch 25/64\n",
      " - 3s - loss: 122.3641 - val_loss: 121.9561\n",
      "Epoch 26/64\n",
      " - 3s - loss: 122.0841 - val_loss: 121.8288\n",
      "Epoch 27/64\n",
      " - 3s - loss: 121.8383 - val_loss: 121.5425\n",
      "Epoch 28/64\n",
      " - 4s - loss: 121.5940 - val_loss: 121.2279\n",
      "Epoch 29/64\n",
      " - 3s - loss: 121.3853 - val_loss: 121.0731\n",
      "Epoch 30/64\n",
      " - 3s - loss: 121.1896 - val_loss: 120.8515\n",
      "Epoch 31/64\n",
      " - 3s - loss: 120.9597 - val_loss: 120.8313\n",
      "Epoch 32/64\n",
      " - 3s - loss: 120.7666 - val_loss: 120.5923\n",
      "Epoch 33/64\n",
      " - 3s - loss: 120.5670 - val_loss: 120.3620\n",
      "Epoch 34/64\n",
      " - 3s - loss: 120.3757 - val_loss: 120.2511\n",
      "Epoch 35/64\n",
      " - 3s - loss: 120.2118 - val_loss: 120.1227\n",
      "Epoch 36/64\n",
      " - 3s - loss: 120.0422 - val_loss: 119.9815\n",
      "Epoch 37/64\n",
      " - 3s - loss: 119.8572 - val_loss: 119.8845\n",
      "Epoch 38/64\n",
      " - 3s - loss: 119.7023 - val_loss: 119.5704\n",
      "Epoch 39/64\n",
      " - 4s - loss: 119.6023 - val_loss: 119.5420\n",
      "Epoch 40/64\n",
      " - 3s - loss: 119.4487 - val_loss: 119.4908\n",
      "Epoch 41/64\n",
      " - 3s - loss: 119.3076 - val_loss: 119.2219\n",
      "Epoch 42/64\n",
      " - 4s - loss: 119.1943 - val_loss: 119.1879\n",
      "Epoch 43/64\n",
      " - 4s - loss: 119.0691 - val_loss: 119.1105\n",
      "Epoch 44/64\n",
      " - 3s - loss: 118.9119 - val_loss: 119.0188\n",
      "Epoch 45/64\n",
      " - 3s - loss: 118.8067 - val_loss: 119.0714\n",
      "Epoch 46/64\n",
      " - 3s - loss: 118.7378 - val_loss: 118.7821\n",
      "Epoch 47/64\n",
      " - 3s - loss: 118.5854 - val_loss: 118.7496\n",
      "Epoch 48/64\n",
      " - 3s - loss: 118.4679 - val_loss: 118.7624\n",
      "Epoch 49/64\n",
      " - 3s - loss: 118.3910 - val_loss: 118.5593\n",
      "Epoch 50/64\n",
      " - 3s - loss: 118.2696 - val_loss: 118.4527\n",
      "Epoch 51/64\n",
      " - 3s - loss: 118.2031 - val_loss: 118.3716\n",
      "Epoch 52/64\n",
      " - 3s - loss: 118.1009 - val_loss: 118.2551\n",
      "Epoch 53/64\n",
      " - 3s - loss: 118.0133 - val_loss: 118.3852\n",
      "Epoch 54/64\n",
      " - 3s - loss: 117.8963 - val_loss: 118.2611\n",
      "Epoch 55/64\n",
      " - 4s - loss: 117.8164 - val_loss: 118.0570\n",
      "Epoch 56/64\n",
      " - 3s - loss: 117.7656 - val_loss: 117.9874\n",
      "Epoch 57/64\n",
      " - 3s - loss: 117.6527 - val_loss: 117.9330\n",
      "Epoch 58/64\n",
      " - 3s - loss: 117.5858 - val_loss: 117.8768\n",
      "Epoch 59/64\n",
      " - 4s - loss: 117.5383 - val_loss: 117.8558\n",
      "Epoch 60/64\n",
      " - 3s - loss: 117.4320 - val_loss: 117.8351\n",
      "Epoch 61/64\n",
      " - 3s - loss: 117.3632 - val_loss: 117.8309\n",
      "Epoch 62/64\n",
      " - 4s - loss: 117.2856 - val_loss: 117.6829\n",
      "Epoch 63/64\n",
      " - 3s - loss: 117.2230 - val_loss: 117.6894\n",
      "Epoch 64/64\n",
      " - 3s - loss: 117.1593 - val_loss: 117.5860\n"
     ]
    }
   ],
   "source": [
    "hist = cvae.fit(\n",
    "    x = [x_train, y_train],\n",
    "    y = x_train,\n",
    "    shuffle = True,\n",
    "    epochs = epochs,\n",
    "    batch_size = batch_size,\n",
    "    validation_data = ([x_test, y_test], x_test),\n",
    "    verbose = 2\n",
    ")"
   ]
  },
  {
   "cell_type": "markdown",
   "metadata": {},
   "source": [
    "### Visualize reconstructions for train and validation data"
   ]
  },
  {
   "cell_type": "code",
   "execution_count": 20,
   "metadata": {
    "collapsed": false
   },
   "outputs": [
    {
     "data": {
      "image/png": "[encoded data removed]",
      "text/plain": [
       "<matplotlib.figure.Figure at 0x7f92bf90df28>"
      ]
     },
     "metadata": {},
     "output_type": "display_data"
    }
   ],
   "source": [
    "fig = plt.figure(figsize=(10, 10))\n",
    "for fid_idx, (x_data, y_data, title) in enumerate(\n",
    "            zip([x_train, x_test], [y_train, y_test], ['Train', 'Validation'])):\n",
    "    n = 10  # figure with 10 x 2 digits\n",
    "    digit_size = 28\n",
    "    figure = np.zeros((digit_size * n, digit_size * 2))\n",
    "    decoded = sess.run(cond_x_decoded_mean,\n",
    "                       feed_dict={x: x_data[:batch_size, :],\n",
    "                                  label: y_data[:batch_size, :]})\n",
    "    for i in range(10):\n",
    "        figure[i * digit_size: (i + 1) * digit_size,\n",
    "               :digit_size] = x_data[i, :].reshape(digit_size, digit_size)\n",
    "        figure[i * digit_size: (i + 1) * digit_size,\n",
    "               digit_size:] = decoded[i, :].reshape(digit_size, digit_size)\n",
    "    ax = fig.add_subplot(1, 2, fid_idx + 1)\n",
    "    ax.imshow(figure, cmap='Greys_r')\n",
    "    ax.set_title(title)\n",
    "    ax.axis('off')\n",
    "plt.show()"
   ]
  },
  {
   "cell_type": "markdown",
   "metadata": {},
   "source": [
    "## Conditionally hallucinate data\n",
    "**Task 5.2** Implement the conditional sampling from the distribution $p(x \\mid t, \\text{label})$ by firstly sampling from the prior $p(t)$ and then sampling from the likelihood $p(x \\mid t, \\text{label})$."
   ]
  },
  {
   "cell_type": "code",
   "execution_count": 22,
   "metadata": {
    "collapsed": true
   },
   "outputs": [],
   "source": [
    "# Prepare one hot labels of form\n",
    "#   0 0 0 0 0 1 1 1 1 1 2 2 2 2 2 ...\n",
    "# to sample five zeros, five ones, etc\n",
    "cond_labels = np.eye(10)\n",
    "cond_labels = np.repeat(cond_labels, 5, axis=0)  # Its shape is 50 x 10.\n",
    "cond_labels = tf.convert_to_tensor(cond_labels, np.float32)\n",
    "\n",
    "# latent variable samples from prior:\n",
    "n_samples = 50\n",
    "t = tf.random_normal(\n",
    "    shape = (n_samples, latent_dim)\n",
    ")\n",
    "cond_t = concatenate([t, cond_labels])\n",
    "\n",
    "# cond_sampled_im_mean is a tf.Tensor of size 50 x 784 with 5 random zeros,\n",
    "# then 5 random ones, etc sampled from the cvae model.\n",
    "cond_sampled_im_mean = decoder(cond_t)"
   ]
  },
  {
   "cell_type": "code",
   "execution_count": 23,
   "metadata": {
    "collapsed": false
   },
   "outputs": [
    {
     "data": {
      "image/png": "[encoded data removed]",
      "text/plain": [
       "<matplotlib.figure.Figure at 0x7f9310099cc0>"
      ]
     },
     "metadata": {},
     "output_type": "display_data"
    }
   ],
   "source": [
    "cond_sampled_im_mean_np = sess.run(cond_sampled_im_mean)\n",
    "# Show the sampled images.\n",
    "plt.figure(figsize=(10, 10))\n",
    "global_idx = 0\n",
    "for digit in range(10):\n",
    "    for _ in range(5):\n",
    "        ax = plt.subplot(10, 5, global_idx + 1)\n",
    "        plt.imshow(cond_sampled_im_mean_np[global_idx, :].reshape(28, 28), cmap='gray')\n",
    "        ax.axis('off')\n",
    "        global_idx += 1\n",
    "plt.show()"
   ]
  },
  {
   "cell_type": "code",
   "execution_count": 24,
   "metadata": {
    "collapsed": false
   },
   "outputs": [
    {
     "name": "stdout",
     "output_type": "stream",
     "text": [
      "Current answer for task 5.1 (conditional hallucinating mean) is: 0.08153620340570494\n",
      "Current answer for task 5.2 (conditional hallucinating var) is: 0.035057612784784135\n"
     ]
    }
   ],
   "source": [
    "# Submit Task 5 (both 5.1 and 5.2).\n",
    "grader.submit_conditional_hallucinating(sess, cond_sampled_im_mean)"
   ]
  },
  {
   "cell_type": "markdown",
   "metadata": {},
   "source": [
    "# Authorization & Submission\n",
    "To submit assignment parts to Cousera platform, please, enter your e-mail and token into variables below. You can generate the token on this programming assignment page. <b>Note:</b> Token expires 30 minutes after generation."
   ]
  },
  {
   "cell_type": "code",
   "execution_count": 25,
   "metadata": {
    "collapsed": false
   },
   "outputs": [
    {
     "name": "stdout",
     "output_type": "stream",
     "text": [
      "You want to submit these numbers:\n",
      "Task 1 (vlb): 157.59676\n",
      "Task 2.1 (samples mean): -0.118667945\n",
      "Task 2.2 (samples var): 0.037175804\n",
      "Task 3 (best val loss): 129.57252922058106\n",
      "Task 4.1 (hallucinating mean): 0.1327158\n",
      "Task 4.2 (hallucinating var): 0.14027259\n",
      "Task 5.1 (conditional hallucinating mean): 0.08153620340570494\n",
      "Task 5.2 (conditional hallucinating var): 0.035057612784784135\n"
     ]
    }
   ],
   "source": [
    "STUDENT_EMAIL = '937570601@qq.com'\n",
    "STUDENT_TOKEN = '22HeGWQciWOuYP6B'\n",
    "grader.status()"
   ]
  },
  {
   "cell_type": "code",
   "execution_count": 26,
   "metadata": {
    "collapsed": false
   },
   "outputs": [
    {
     "name": "stdout",
     "output_type": "stream",
     "text": [
      "Submitted to Coursera platform. See results on assignment page!\n"
     ]
    }
   ],
   "source": [
    "grader.submit(STUDENT_EMAIL, STUDENT_TOKEN)"
   ]
  },
  {
   "cell_type": "markdown",
   "metadata": {},
   "source": [
    "# Playtime (UNGRADED)\n",
    "Once you passed all the tests, modify the code below to work with the mixture of Gaussian distributions (in contrast to the mixture of Binomial distributions), and redo the experiments with CIFAR-10 dataset, which are much full color natural images."
   ]
  },
  {
   "cell_type": "code",
   "execution_count": null,
   "metadata": {
    "collapsed": true
   },
   "outputs": [],
   "source": [
    "from keras.datasets import cifar10\n",
    "(x_train, y_train), (x_test, y_test) = cifar10.load_data()"
   ]
  },
  {
   "cell_type": "code",
   "execution_count": null,
   "metadata": {
    "collapsed": true
   },
   "outputs": [],
   "source": [
    "plt.imshow(x_train[7, :])\n",
    "plt.show()"
   ]
  }
 ],
 "metadata": {
  "kernelspec": {
   "display_name": "Python 3",
   "language": "python",
   "name": "python3"
  },
  "language_info": {
   "codemirror_mode": {
    "name": "ipython",
    "version": 3
   },
   "file_extension": ".py",
   "mimetype": "text/x-python",
   "name": "python",
   "nbconvert_exporter": "python",
   "pygments_lexer": "ipython3",
   "version": "3.6.0"
  }
 },
 "nbformat": 4,
 "nbformat_minor": 2
}
