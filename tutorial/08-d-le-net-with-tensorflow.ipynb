{
 "cells": [
  {
   "cell_type": "markdown",
   "metadata": {},
   "source": [
    "# Deep Neural Network in Tensorflow"
   ]
  },
  {
   "cell_type": "markdown",
   "metadata": {},
   "source": [
    "## Set Up Session"
   ]
  },
  {
   "cell_type": "code",
   "execution_count": 1,
   "metadata": {},
   "outputs": [
    {
     "name": "stderr",
     "output_type": "stream",
     "text": [
      "/home/alexge/anaconda3/envs/carnd-term1/lib/python3.5/site-packages/h5py/__init__.py:34: FutureWarning: Conversion of the second argument of issubdtype from `float` to `np.floating` is deprecated. In future, it will be treated as `np.float64 == np.dtype(float).type`.\n",
      "  from ._conv import register_converters as _register_converters\n",
      "Using TensorFlow backend.\n"
     ]
    }
   ],
   "source": [
    "# dataset:\n",
    "from preprocessed_mnist import load_dataset\n",
    "# processing:\n",
    "import numpy as np\n",
    "import tensorflow as tf\n",
    "# visualization:\n",
    "import matplotlib.pyplot as plt\n",
    "%matplotlib inline"
   ]
  },
  {
   "cell_type": "markdown",
   "metadata": {},
   "source": [
    "## Prepare Dataset"
   ]
  },
  {
   "cell_type": "code",
   "execution_count": 2,
   "metadata": {
    "collapsed": true
   },
   "outputs": [],
   "source": [
    "# load dataset:\n",
    "X_train, y_train, X_val, y_val, X_test, y_test = load_dataset()"
   ]
  },
  {
   "cell_type": "code",
   "execution_count": 3,
   "metadata": {},
   "outputs": [
    {
     "data": {
      "text/plain": [
       "dtype('uint8')"
      ]
     },
     "execution_count": 3,
     "metadata": {},
     "output_type": "execute_result"
    }
   ],
   "source": [
    "y_train.dtype"
   ]
  },
  {
   "cell_type": "markdown",
   "metadata": {},
   "source": [
    "## Exploratory Analysis"
   ]
  },
  {
   "cell_type": "code",
   "execution_count": 4,
   "metadata": {},
   "outputs": [
    {
     "name": "stdout",
     "output_type": "stream",
     "text": [
      "[Feature Size]: (50000, 28, 28)\n",
      "[Label Size]: (50000, 10)\n"
     ]
    }
   ],
   "source": [
    "# dataset dimensions:\n",
    "N, H, W = X_train.shape\n",
    "C = len(np.unique(y_train))\n",
    "\n",
    "print(\"[Feature Size]: ({}, {}, {})\".format(N, H, W))\n",
    "print(\"[Label Size]: ({}, {})\".format(N, C))"
   ]
  },
  {
   "cell_type": "code",
   "execution_count": 5,
   "metadata": {},
   "outputs": [
    {
     "data": {
      "image/png": "[encoded data removed]",
      "text/plain": [
       "<matplotlib.figure.Figure at 0x7f6dd4620160>"
      ]
     },
     "metadata": {},
     "output_type": "display_data"
    }
   ],
   "source": [
    "# draw samples:\n",
    "num_samples = 3\n",
    "indices = np.random.choice(N, num_samples)\n",
    "# visualize them:\n",
    "for plot_index, sample_index in enumerate(indices):\n",
    "    plt.subplot(1, num_samples, plot_index + 1)\n",
    "    plt.imshow(X_train[sample_index], cmap=\"Greys\");\n",
    "    plt.title(\"Number {}\".format(y_train[sample_index]))\n",
    "# adjust layout:\n",
    "plt.tight_layout()"
   ]
  },
  {
   "cell_type": "markdown",
   "metadata": {},
   "source": [
    "## Build Model"
   ]
  },
  {
   "cell_type": "code",
   "execution_count": 6,
   "metadata": {
    "collapsed": true
   },
   "outputs": [],
   "source": [
    "# init session:\n",
    "sess = tf.InteractiveSession()"
   ]
  },
  {
   "cell_type": "markdown",
   "metadata": {},
   "source": [
    "### Input Placeholders"
   ]
  },
  {
   "cell_type": "code",
   "execution_count": 7,
   "metadata": {
    "collapsed": true
   },
   "outputs": [],
   "source": [
    "# raw inputs:\n",
    "feature = tf.placeholder(\n",
    "    dtype = tf.float32, \n",
    "    shape = (None, H, W),\n",
    "    name = 'feature'\n",
    ")\n",
    "label = tf.placeholder(\n",
    "    dtype = tf.uint8,\n",
    "    shape = [None],\n",
    "    name = 'label'\n",
    ")"
   ]
  },
  {
   "cell_type": "markdown",
   "metadata": {},
   "source": [
    "### Processed Input"
   ]
  },
  {
   "cell_type": "code",
   "execution_count": 8,
   "metadata": {
    "collapsed": true
   },
   "outputs": [],
   "source": [
    "# processed inputs:\n",
    "expanded = tf.reshape(\n",
    "    feature,\n",
    "    shape = (-1, H, W, 1)\n",
    ")\n",
    "encoded = tf.one_hot(\n",
    "    label,\n",
    "    depth = C,\n",
    "    dtype = tf.float32,\n",
    "    name = 'encoded'\n",
    ")"
   ]
  },
  {
   "cell_type": "markdown",
   "metadata": {},
   "source": [
    "### Model Definition"
   ]
  },
  {
   "cell_type": "code",
   "execution_count": 9,
   "metadata": {},
   "outputs": [
    {
     "name": "stdout",
     "output_type": "stream",
     "text": [
      "WARNING:tensorflow:From <ipython-input-9-e855faa46477>:70: softmax_cross_entropy_with_logits (from tensorflow.python.ops.nn_ops) is deprecated and will be removed in a future version.\n",
      "Instructions for updating:\n",
      "\n",
      "Future major versions of TensorFlow will allow gradients to flow\n",
      "into the labels input on backprop by default.\n",
      "\n",
      "See tf.nn.softmax_cross_entropy_with_logits_v2.\n",
      "\n"
     ]
    }
   ],
   "source": [
    "# convolution layers:\n",
    "num_conv_1 = 32\n",
    "num_conv_2 = 32\n",
    "# fully-connected layers:\n",
    "num_fully_connected_1 = 32\n",
    "\n",
    "# first conv layer:\n",
    "W1 = tf.Variable(\n",
    "    tf.truncated_normal((3, 3, 1, num_conv_1), stddev=0.1),\n",
    "    name = 'W1'\n",
    ")\n",
    "b1 = tf.Variable(\n",
    "    tf.constant(0.1, shape=(num_conv_1,)),\n",
    "    name = 'b1'\n",
    ")\n",
    "z1 = tf.nn.relu(\n",
    "    tf.nn.conv2d(expanded, W1, strides=[1, 1, 1, 1], padding='SAME') + b1,\n",
    "    name = 'z1'\n",
    ")\n",
    "h1 = tf.nn.max_pool(\n",
    "    z1, ksize=[1, 2, 2, 1], strides=[1, 2, 2, 1], padding='SAME', name = 'h1'\n",
    ")\n",
    "# second conv layer:\n",
    "W2 = tf.Variable(\n",
    "    tf.truncated_normal((3, 3, num_conv_1, num_conv_2), stddev=0.1),\n",
    "    name = 'W2'\n",
    ")\n",
    "b2 = tf.Variable(\n",
    "    tf.constant(0.1, shape=(num_conv_2,)),\n",
    "    name = 'b2'\n",
    ")\n",
    "z2 = tf.nn.relu(\n",
    "    tf.nn.conv2d(h1, W2, strides=[1, 1, 1, 1], padding='SAME') + b2,\n",
    "    name = 'z2'\n",
    ")\n",
    "h2 = tf.nn.max_pool(\n",
    "    z2, ksize=[1, 2, 2, 1], strides=[1, 2, 2, 1], padding='SAME', name = 'h2'\n",
    ")\n",
    "# flattended:\n",
    "flattended = tf.reshape(\n",
    "    h2, shape = (-1, 7*7*num_conv_2)\n",
    ")\n",
    "# fully-connected layer:\n",
    "W3 = tf.Variable(\n",
    "    tf.truncated_normal((7*7*num_conv_2, num_fully_connected_1), stddev=0.1),\n",
    "    name = 'W3'\n",
    ")\n",
    "b3 = tf.Variable(\n",
    "    tf.constant(0.1, shape=(num_fully_connected_1,)),\n",
    "    name = 'b3'\n",
    ")\n",
    "h3 = tf.nn.relu(\n",
    "    tf.matmul(flattended, W3) + b3,\n",
    "    name = 'h3'\n",
    ")\n",
    "# logits:\n",
    "W_logits = tf.Variable(\n",
    "    tf.truncated_normal((num_fully_connected_1, C), stddev=0.1),\n",
    "    name = 'W_logits'\n",
    ")\n",
    "b_logits = tf.Variable(\n",
    "    tf.constant(0.1, shape=(C,)),\n",
    "    name = 'b_logits'\n",
    ")\n",
    "logits = tf.matmul(h3, W_logits) + b_logits\n",
    "# loss:\n",
    "loss = tf.reduce_mean(\n",
    "    tf.nn.softmax_cross_entropy_with_logits(\n",
    "        labels = encoded, \n",
    "        logits = logits\n",
    "    )\n",
    ")\n",
    "# optimizer:\n",
    "optimizer = tf.train.AdamOptimizer(1e-3).minimize(loss)\n",
    "# accuracy:\n",
    "accuracy = tf.reduce_mean(\n",
    "    tf.cast(\n",
    "        tf.equal(tf.argmax(encoded, 1), tf.argmax(logits,1)), \n",
    "        tf.float32\n",
    "    )\n",
    ")"
   ]
  },
  {
   "cell_type": "markdown",
   "metadata": {},
   "source": [
    "### Training"
   ]
  },
  {
   "cell_type": "code",
   "execution_count": 10,
   "metadata": {
    "collapsed": true
   },
   "outputs": [],
   "source": [
    "# config:\n",
    "num_epoches = 25\n",
    "\n",
    "batch_size = 10000\n",
    "num_iterations = int(N / batch_size) + 1\n",
    "\n",
    "evaluation_step = 5\n",
    "\n",
    "learning_rate = 5e-3"
   ]
  },
  {
   "cell_type": "code",
   "execution_count": 11,
   "metadata": {},
   "outputs": [
    {
     "name": "stdout",
     "output_type": "stream",
     "text": [
      "[Training]: 10.42%    [Validation]: 33.99%\n",
      "[Training]: 49.91%    [Validation]: 55.66%\n",
      "[Training]: 69.81%    [Validation]: 72.61%\n",
      "[Training]: 78.09%    [Validation]: 79.37%\n",
      "[Training]: 83.88%    [Validation]: 83.02%\n",
      "[Training]: 84.02%    [Validation]: 86.86%\n",
      "[Training]: 86.79%    [Validation]: 88.65%\n",
      "[Training]: 87.94%    [Validation]: 89.90%\n",
      "[Training]: 89.72%    [Validation]: 90.91%\n",
      "[Training]: 90.68%    [Validation]: 91.83%\n",
      "[Training]: 90.97%    [Validation]: 91.97%\n",
      "[Training]: 91.74%    [Validation]: 92.54%\n",
      "[Training]: 91.85%    [Validation]: 93.24%\n",
      "[Training]: 92.31%    [Validation]: 93.72%\n",
      "[Training]: 92.94%    [Validation]: 94.22%\n",
      "[Training]: 93.68%    [Validation]: 94.70%\n",
      "[Training]: 94.04%    [Validation]: 94.96%\n",
      "[Training]: 94.53%    [Validation]: 95.25%\n",
      "[Training]: 94.80%    [Validation]: 95.50%\n",
      "[Training]: 95.11%    [Validation]: 95.84%\n",
      "[Training]: 95.49%    [Validation]: 96.03%\n",
      "[Training]: 95.87%    [Validation]: 96.20%\n",
      "[Training]: 96.21%    [Validation]: 96.33%\n",
      "[Training]: 96.06%    [Validation]: 96.52%\n",
      "[Training]: 96.17%    [Validation]: 96.71%\n",
      "[Training]: 96.68%    [Validation]: 96.94%\n",
      "[Training]: 96.50%    [Validation]: 97.07%\n",
      "[Training]: 97.13%    [Validation]: 97.38%\n",
      "[Training]: 96.78%    [Validation]: 97.32%\n",
      "[Training]: 97.41%    [Validation]: 97.36%\n"
     ]
    }
   ],
   "source": [
    "# optimizer:\n",
    "optimizer = tf.train.AdamOptimizer(learning_rate).minimize(loss)\n",
    "# initialize variables:\n",
    "sess.run(tf.global_variables_initializer())\n",
    "# logging:\n",
    "train_accuracies = []\n",
    "valid_accuracies = []\n",
    "# training:\n",
    "step_index = 0\n",
    "for epoch_index in range(num_epoches):\n",
    "    for iteration_index in range(num_iterations):\n",
    "        # draw mini batch:\n",
    "        batch_indices = np.random.choice(N, batch_size)\n",
    "        X_batch, y_batch = X_train[batch_indices], y_train[batch_indices]\n",
    "        # train on mini batch\n",
    "        _, train_accuracy = sess.run(\n",
    "            [optimizer, accuracy],\n",
    "            feed_dict = {\n",
    "                feature: X_batch,\n",
    "                label: y_batch\n",
    "            }\n",
    "        )\n",
    "        # evaluation:\n",
    "        step_index += 1\n",
    "        if step_index % evaluation_step == 0:\n",
    "            valid_accuracy = sess.run(\n",
    "                accuracy,\n",
    "                feed_dict = {\n",
    "                    feature: X_val,\n",
    "                    label: y_val\n",
    "                }           \n",
    "            )\n",
    "            print(\n",
    "                \"[Training]: {:.2f}%    [Validation]: {:.2f}%\".format(\n",
    "                    100*train_accuracy, \n",
    "                    100*valid_accuracy\n",
    "                )\n",
    "            )\n",
    "            # add to logging:\n",
    "            train_accuracies.append(train_accuracy)\n",
    "            valid_accuracies.append(valid_accuracy)"
   ]
  },
  {
   "cell_type": "code",
   "execution_count": 13,
   "metadata": {},
   "outputs": [
    {
     "data": {
      "image/png": "[encoded data removed]",
      "text/plain": [
       "<matplotlib.figure.Figure at 0x7f6dd11ffb38>"
      ]
     },
     "metadata": {},
     "output_type": "display_data"
    }
   ],
   "source": [
    "# visualize process:\n",
    "steps = range(1, len(train_accuracies) + 1)\n",
    "plt.plot(steps, train_accuracies, 'r--', steps, valid_accuracies, 'g^')\n",
    "plt.ylabel('accuracy')\n",
    "plt.xlabel(\"iterations (per {})\".format(evaluation_step))\n",
    "plt.title(\"Learning rate =\" + str(learning_rate))\n",
    "plt.show()"
   ]
  },
  {
   "cell_type": "markdown",
   "metadata": {},
   "source": [
    "## Evaluation"
   ]
  },
  {
   "cell_type": "code",
   "execution_count": 14,
   "metadata": {
    "collapsed": true
   },
   "outputs": [],
   "source": [
    "test_accuracy = sess.run(\n",
    "    accuracy,\n",
    "    feed_dict = {\n",
    "        feature: X_test,\n",
    "        label: y_test\n",
    "    }           \n",
    ")"
   ]
  },
  {
   "cell_type": "code",
   "execution_count": 15,
   "metadata": {},
   "outputs": [
    {
     "name": "stdout",
     "output_type": "stream",
     "text": [
      "[Testing]: 97.43%\n"
     ]
    }
   ],
   "source": [
    "print(\"[Testing]: {:.2f}%\".format(100*test_accuracy))"
   ]
  }
 ],
 "metadata": {
  "kernelspec": {
   "display_name": "Python 3",
   "language": "python",
   "name": "python3"
  },
  "language_info": {
   "codemirror_mode": {
    "name": "ipython",
    "version": 3
   },
   "file_extension": ".py",
   "mimetype": "text/x-python",
   "name": "python",
   "nbconvert_exporter": "python",
   "pygments_lexer": "ipython3",
   "version": "3.5.2"
  },
  "widgets": {
   "state": {},
   "version": "1.1.2"
  }
 },
 "nbformat": 4,
 "nbformat_minor": 2
}
