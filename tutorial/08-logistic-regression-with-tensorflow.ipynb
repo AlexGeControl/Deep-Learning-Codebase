{
 "cells": [
  {
   "cell_type": "markdown",
   "metadata": {
    "slideshow": {
     "slide_type": "slide"
    }
   },
   "source": [
    "# Going deeper with Tensorflow\n",
    "\n",
    "In this video, we're going to study the tools you'll use to build deep learning models. Namely, [Tensorflow](https://www.tensorflow.org/).\n",
    "\n",
    "If you're running this notebook outside the course environment, you'll need to install tensorflow:\n",
    "* `pip install tensorflow` should install cpu-only TF on Linux & Mac OS\n",
    "* If you want GPU support from offset, see [TF install page](https://www.tensorflow.org/install/)"
   ]
  },
  {
   "cell_type": "code",
   "execution_count": 1,
   "metadata": {
    "collapsed": true
   },
   "outputs": [],
   "source": [
    "import sys\n",
    "sys.path.append(\"..\")\n",
    "import grading"
   ]
  },
  {
   "cell_type": "markdown",
   "metadata": {},
   "source": [
    "# Grader Setup"
   ]
  },
  {
   "cell_type": "code",
   "execution_count": 2,
   "metadata": {
    "collapsed": true
   },
   "outputs": [],
   "source": [
    "# token expires every 30 min\n",
    "COURSERA_TOKEN = 'lIDkoojbUt9LEnys'\n",
    "COURSERA_EMAIL = '937570601@qq.com'"
   ]
  },
  {
   "cell_type": "markdown",
   "metadata": {},
   "source": [
    "# Visualization"
   ]
  },
  {
   "cell_type": "markdown",
   "metadata": {},
   "source": [
    "Plase note that if you are running on the Coursera platform, you won't be able to access the tensorboard instance due to the network setup there. If you run the notebook locally, you should be able to access TensorBoard on http://127.0.0.1:7007/"
   ]
  },
  {
   "cell_type": "code",
   "execution_count": 3,
   "metadata": {},
   "outputs": [
    {
     "name": "stdout",
     "output_type": "stream",
     "text": [
      "/bin/sh: 1: killall: not found\r\n"
     ]
    }
   ],
   "source": [
    "! killall tensorboard\n",
    "import os\n",
    "os.system(\"tensorboard --logdir=/tmp/tboard --port=7007 &\");"
   ]
  },
  {
   "cell_type": "code",
   "execution_count": 4,
   "metadata": {
    "collapsed": true
   },
   "outputs": [],
   "source": [
    "import tensorflow as tf\n",
    "s = tf.InteractiveSession()"
   ]
  },
  {
   "cell_type": "markdown",
   "metadata": {},
   "source": [
    "# Warming up\n",
    "For starters, let's implement a python function that computes the sum of squares of numbers from 0 to N-1."
   ]
  },
  {
   "cell_type": "code",
   "execution_count": 5,
   "metadata": {
    "collapsed": true
   },
   "outputs": [],
   "source": [
    "import numpy as np\n",
    "def sum_sin(N):\n",
    "    return np.sum(np.arange(N)**2)"
   ]
  },
  {
   "cell_type": "code",
   "execution_count": 6,
   "metadata": {},
   "outputs": [
    {
     "name": "stdout",
     "output_type": "stream",
     "text": [
      "CPU times: user 288 ms, sys: 1.75 s, total: 2.04 s\n",
      "Wall time: 2.63 s\n"
     ]
    },
    {
     "data": {
      "text/plain": [
       "662921401752298880"
      ]
     },
     "execution_count": 6,
     "metadata": {},
     "output_type": "execute_result"
    }
   ],
   "source": [
    "%%time\n",
    "sum_sin(10**8)"
   ]
  },
  {
   "cell_type": "markdown",
   "metadata": {},
   "source": [
    "# Tensoflow teaser\n",
    "\n",
    "Doing the very same thing"
   ]
  },
  {
   "cell_type": "code",
   "execution_count": 7,
   "metadata": {
    "collapsed": true
   },
   "outputs": [],
   "source": [
    "# An integer parameter\n",
    "N = tf.placeholder('int64', name=\"input_to_your_function\")\n",
    "\n",
    "# A recipe on how to produce the same result\n",
    "result = tf.reduce_sum(tf.range(N)**2)"
   ]
  },
  {
   "cell_type": "code",
   "execution_count": 8,
   "metadata": {},
   "outputs": [
    {
     "data": {
      "text/plain": [
       "<tf.Tensor 'Sum:0' shape=() dtype=int64>"
      ]
     },
     "execution_count": 8,
     "metadata": {},
     "output_type": "execute_result"
    }
   ],
   "source": [
    "result"
   ]
  },
  {
   "cell_type": "code",
   "execution_count": 9,
   "metadata": {},
   "outputs": [
    {
     "name": "stdout",
     "output_type": "stream",
     "text": [
      "CPU times: user 488 ms, sys: 348 ms, total: 836 ms\n",
      "Wall time: 737 ms\n"
     ]
    },
    {
     "data": {
      "text/plain": [
       "662921401752298880"
      ]
     },
     "execution_count": 9,
     "metadata": {},
     "output_type": "execute_result"
    }
   ],
   "source": [
    "%%time\n",
    "result.eval({N: 10**8})"
   ]
  },
  {
   "cell_type": "code",
   "execution_count": 10,
   "metadata": {
    "collapsed": true
   },
   "outputs": [],
   "source": [
    "writer = tf.summary.FileWriter(\"/tmp/tboard\", graph=s.graph)"
   ]
  },
  {
   "cell_type": "markdown",
   "metadata": {},
   "source": [
    "# How does it work?\n",
    "1. Define placeholders where you'll send inputs\n",
    "2. Make symbolic graph: a recipe for mathematical transformation of those placeholders\n",
    "3. Compute outputs of your graph with particular values for each placeholder\n",
    "  * `output.eval({placeholder:value})`\n",
    "  * `s.run(output, {placeholder:value})`\n",
    "\n",
    "So far there are two main entities: \"placeholder\" and \"transformation\"\n",
    "* Both can be numbers, vectors, matrices, tensors, etc.\n",
    "* Both can be int32/64, floats, booleans (uint8) of various size.\n",
    "\n",
    "* You can define new transformations as an arbitrary operation on placeholders and other transformations\n",
    " * `tf.reduce_sum(tf.arange(N)**2)` are 3 sequential transformations of placeholder `N`\n",
    " * There's a tensorflow symbolic version for every numpy function\n",
    "   * `a+b, a/b, a**b, ...` behave just like in numpy\n",
    "   * `np.mean` -> `tf.reduce_mean`\n",
    "   * `np.arange` -> `tf.range`\n",
    "   * `np.cumsum` -> `tf.cumsum`\n",
    "   * If if you can't find the op you need, see the [docs](https://www.tensorflow.org/api_docs/python).\n",
    "   \n",
    "`tf.contrib` has many high-level features, may be worth a look."
   ]
  },
  {
   "cell_type": "code",
   "execution_count": 11,
   "metadata": {
    "collapsed": true
   },
   "outputs": [],
   "source": [
    "with tf.name_scope(\"Placeholders_examples\"):\n",
    "    # Default placeholder that can be arbitrary float32\n",
    "    # scalar, vertor, matrix, etc.\n",
    "    arbitrary_input = tf.placeholder('float32')\n",
    "\n",
    "    # Input vector of arbitrary length\n",
    "    input_vector = tf.placeholder('float32', shape=(None,))\n",
    "\n",
    "    # Input vector that _must_ have 10 elements and integer type\n",
    "    fixed_vector = tf.placeholder('int32', shape=(10,))\n",
    "\n",
    "    # Matrix of arbitrary n_rows and 15 columns\n",
    "    # (e.g. a minibatch your data table)\n",
    "    input_matrix = tf.placeholder('float32', shape=(None, 15))\n",
    "    \n",
    "    # You can generally use None whenever you don't need a specific shape\n",
    "    input1 = tf.placeholder('float64', shape=(None, 100, None))\n",
    "    input2 = tf.placeholder('int32', shape=(None, None, 3, 224, 224))\n",
    "\n",
    "    # elementwise multiplication\n",
    "    double_the_vector = input_vector*2\n",
    "\n",
    "    # elementwise cosine\n",
    "    elementwise_cosine = tf.cos(input_vector)\n",
    "\n",
    "    # difference between squared vector and vector itself plus one\n",
    "    vector_squares = input_vector**2 - input_vector + 1"
   ]
  },
  {
   "cell_type": "code",
   "execution_count": 12,
   "metadata": {
    "collapsed": true
   },
   "outputs": [],
   "source": [
    "my_vector =  tf.placeholder('float32', shape=(None,), name=\"VECTOR_1\")\n",
    "my_vector2 = tf.placeholder('float32', shape=(None,))\n",
    "my_transformation = my_vector * my_vector2 / (tf.sin(my_vector) + 1)"
   ]
  },
  {
   "cell_type": "code",
   "execution_count": 13,
   "metadata": {},
   "outputs": [
    {
     "name": "stdout",
     "output_type": "stream",
     "text": [
      "Tensor(\"truediv:0\", shape=(?,), dtype=float32)\n"
     ]
    }
   ],
   "source": [
    "print(my_transformation)"
   ]
  },
  {
   "cell_type": "code",
   "execution_count": 14,
   "metadata": {},
   "outputs": [
    {
     "name": "stdout",
     "output_type": "stream",
     "text": [
      "[ 0.  1.  2.  3.  4.]\n"
     ]
    },
    {
     "data": {
      "text/plain": [
       "array([ 0.        ,  1.62913239,  2.09501147,  2.62899613,  0.        ], dtype=float32)"
      ]
     },
     "execution_count": 14,
     "metadata": {},
     "output_type": "execute_result"
    }
   ],
   "source": [
    "dummy = np.arange(5).astype('float32')\n",
    "print(dummy)\n",
    "my_transformation.eval({my_vector:dummy, my_vector2:dummy[::-1]})"
   ]
  },
  {
   "cell_type": "code",
   "execution_count": 15,
   "metadata": {
    "collapsed": true
   },
   "outputs": [],
   "source": [
    "writer.add_graph(my_transformation.graph)\n",
    "writer.flush()"
   ]
  },
  {
   "cell_type": "markdown",
   "metadata": {},
   "source": [
    "TensorBoard allows writing scalars, images, audio, histogram. You can read more on tensorboard usage [here](https://www.tensorflow.org/get_started/graph_viz)."
   ]
  },
  {
   "cell_type": "markdown",
   "metadata": {},
   "source": [
    "# Summary\n",
    "* Tensorflow is based on computation graphs\n",
    "* The graphs consist of placehlders and transformations"
   ]
  },
  {
   "cell_type": "markdown",
   "metadata": {},
   "source": [
    "# Mean squared error\n",
    "\n",
    "Your assignment is to implement mean squared error in tensorflow."
   ]
  },
  {
   "cell_type": "code",
   "execution_count": 16,
   "metadata": {},
   "outputs": [],
   "source": [
    "with tf.name_scope(\"MSE\"):\n",
    "    # true values:\n",
    "    y_true = tf.placeholder(\"float32\", shape=(None,), name=\"y_true\")\n",
    "    # predicted values:\n",
    "    y_predicted = tf.placeholder(\"float32\", shape=(None,), name=\"y_predicted\")\n",
    "    # mean square errors:\n",
    "    mse = tf.reduce_mean((y_true - y_predicted)**2)\n",
    "    \n",
    "def compute_mse(y_true_values, y_predicted_values):\n",
    "    \"\"\" evaluate mean square error\n",
    "    \"\"\"\n",
    "    return mse.eval(\n",
    "        {\n",
    "            y_true: y_true_values, \n",
    "            y_predicted: y_predicted_values\n",
    "        }\n",
    "    )"
   ]
  },
  {
   "cell_type": "code",
   "execution_count": 17,
   "metadata": {
    "collapsed": true
   },
   "outputs": [],
   "source": [
    "writer.add_graph(mse.graph)\n",
    "writer.flush()"
   ]
  },
  {
   "cell_type": "markdown",
   "metadata": {},
   "source": [
    "Tests and result submission. Please use the credentials obtained from the Coursera assignment page."
   ]
  },
  {
   "cell_type": "code",
   "execution_count": 18,
   "metadata": {
    "collapsed": true
   },
   "outputs": [],
   "source": [
    "import submit"
   ]
  },
  {
   "cell_type": "code",
   "execution_count": 19,
   "metadata": {},
   "outputs": [
    {
     "name": "stdout",
     "output_type": "stream",
     "text": [
      "You used a token for \"Logistic regression in TensorFlow\" in \"Introduction to Deep Learning\". Please use a token for the assignment you are submitting.\n"
     ]
    }
   ],
   "source": [
    "submit.submit_mse(compute_mse, COURSERA_EMAIL, COURSERA_TOKEN)"
   ]
  },
  {
   "cell_type": "markdown",
   "metadata": {},
   "source": [
    "# Variables\n",
    "\n",
    "The inputs and transformations have no value outside function call. This isn't too comfortable if you want your model to have parameters (e.g. network weights) that are always present, but can change their value over time.\n",
    "\n",
    "Tensorflow solves this with `tf.Variable` objects.\n",
    "* You can assign variable a value at any time in your graph\n",
    "* Unlike placeholders, there's no need to explicitly pass values to variables when `s.run(...)`-ing\n",
    "* You can use variables the same way you use transformations \n",
    " "
   ]
  },
  {
   "cell_type": "code",
   "execution_count": 20,
   "metadata": {
    "collapsed": true
   },
   "outputs": [],
   "source": [
    "# Creating a shared variable\n",
    "shared_vector_1 = tf.Variable(\n",
    "    initial_value=np.ones(5),\n",
    "    name=\"example_variable\"\n",
    ")"
   ]
  },
  {
   "cell_type": "code",
   "execution_count": 21,
   "metadata": {},
   "outputs": [
    {
     "name": "stdout",
     "output_type": "stream",
     "text": [
      "Initial value [ 1.  1.  1.  1.  1.]\n"
     ]
    }
   ],
   "source": [
    "# Initialize variable(s) with initial values\n",
    "s.run(tf.global_variables_initializer())\n",
    "\n",
    "# Evaluating shared variable (outside symbolicd graph)\n",
    "print(\"Initial value\", s.run(shared_vector_1))\n",
    "\n",
    "# Within symbolic graph you use them just\n",
    "# as any other inout or transformation, not \"get value\" needed"
   ]
  },
  {
   "cell_type": "code",
   "execution_count": 22,
   "metadata": {},
   "outputs": [
    {
     "name": "stdout",
     "output_type": "stream",
     "text": [
      "New value [ 0.  1.  2.  3.  4.]\n"
     ]
    }
   ],
   "source": [
    "# Setting a new value\n",
    "s.run(shared_vector_1.assign(np.arange(5)))\n",
    "\n",
    "# Getting that new value\n",
    "print(\"New value\", s.run(shared_vector_1))"
   ]
  },
  {
   "cell_type": "markdown",
   "metadata": {},
   "source": [
    "# tf.gradients - why graphs matter\n",
    "* Tensorflow can compute derivatives and gradients automatically using the computation graph\n",
    "* True to its name it can manage matrix derivatives\n",
    "* Gradients are computed as a product of elementary derivatives via the chain rule:\n",
    "\n",
    "$$ {\\partial f(g(x)) \\over \\partial x} = {\\partial f(g(x)) \\over \\partial g(x)}\\cdot {\\partial g(x) \\over \\partial x} $$\n",
    "\n",
    "It can get you the derivative of any graph as long as it knows how to differentiate elementary operations"
   ]
  },
  {
   "cell_type": "code",
   "execution_count": 23,
   "metadata": {
    "collapsed": true
   },
   "outputs": [],
   "source": [
    "my_scalar = tf.placeholder('float32')\n",
    "\n",
    "scalar_squared = my_scalar**2\n",
    "\n",
    "# A derivative of scalar_squared by my_scalar\n",
    "derivative = tf.gradients(\n",
    "    scalar_squared, \n",
    "    [my_scalar, ]\n",
    ")"
   ]
  },
  {
   "cell_type": "code",
   "execution_count": 24,
   "metadata": {},
   "outputs": [
    {
     "data": {
      "text/plain": [
       "[<tf.Tensor 'gradients/pow_1_grad/Reshape:0' shape=<unknown> dtype=float32>]"
      ]
     },
     "execution_count": 24,
     "metadata": {},
     "output_type": "execute_result"
    }
   ],
   "source": [
    "derivative"
   ]
  },
  {
   "cell_type": "code",
   "execution_count": 25,
   "metadata": {},
   "outputs": [
    {
     "data": {
      "image/png": "[encoded data removed]",
      "text/plain": [
       "<matplotlib.figure.Figure at 0x7fec5fe8f978>"
      ]
     },
     "metadata": {},
     "output_type": "display_data"
    }
   ],
   "source": [
    "import matplotlib.pyplot as plt\n",
    "%matplotlib inline\n",
    "\n",
    "x = np.linspace(-3, 3)\n",
    "x_squared, x_squared_der = s.run(\n",
    "    [scalar_squared, derivative[0]],\n",
    "    {my_scalar:x}\n",
    ")\n",
    "\n",
    "plt.plot(x, x_squared,label=\"$x^2$\")\n",
    "plt.plot(x, x_squared_der, label=r\"$\\frac{dx^2}{dx}$\")\n",
    "plt.legend();"
   ]
  },
  {
   "cell_type": "markdown",
   "metadata": {},
   "source": [
    "# Why that rocks"
   ]
  },
  {
   "cell_type": "code",
   "execution_count": 26,
   "metadata": {
    "collapsed": true
   },
   "outputs": [],
   "source": [
    "my_vector = tf.placeholder('float32', [None])\n",
    "# Compute the gradient of the next weird function over my_scalar and my_vector\n",
    "# Warning! Trying to understand the meaning of that function may result in permanent brain damage\n",
    "weird_psychotic_function = tf.reduce_mean(\n",
    "    (my_vector+my_scalar)**(1+tf.nn.moments(my_vector,[0])[1]) + \n",
    "    1./ tf.atan(my_scalar))/(my_scalar**2 + 1) + 0.01*tf.sin(\n",
    "    2*my_scalar**1.5)*(tf.reduce_sum(my_vector)* my_scalar**2\n",
    "                      )*tf.exp((my_scalar-4)**2)/(\n",
    "    1+tf.exp((my_scalar-4)**2))*(1.-(tf.exp(-(my_scalar-4)**2)\n",
    "                                    )/(1+tf.exp(-(my_scalar-4)**2)))**2\n",
    "\n",
    "der_by_scalar = tf.gradients(weird_psychotic_function, my_scalar)\n",
    "der_by_vector = tf.gradients(weird_psychotic_function, my_vector)"
   ]
  },
  {
   "cell_type": "code",
   "execution_count": 27,
   "metadata": {},
   "outputs": [
    {
     "data": {
      "image/png": "[encoded data removed]",
      "text/plain": [
       "<matplotlib.figure.Figure at 0x7fec5c9565f8>"
      ]
     },
     "metadata": {},
     "output_type": "display_data"
    }
   ],
   "source": [
    "# Plotting the derivative\n",
    "scalar_space = np.linspace(1, 7, 100)\n",
    "\n",
    "y = [s.run(weird_psychotic_function, {my_scalar:x, my_vector:[1, 2, 3]})\n",
    "     for x in scalar_space]\n",
    "\n",
    "plt.plot(scalar_space, y, label='function')\n",
    "\n",
    "y_der_by_scalar = [s.run(der_by_scalar,\n",
    "                         {my_scalar:x, my_vector:[1, 2, 3]})\n",
    "                   for x in scalar_space]\n",
    "\n",
    "plt.plot(scalar_space, y_der_by_scalar, label='derivative')\n",
    "plt.grid()\n",
    "plt.legend();"
   ]
  },
  {
   "cell_type": "markdown",
   "metadata": {},
   "source": [
    "# Almost done - optimizers\n",
    "\n",
    "While you can perform gradient descent by hand with automatic grads from above, tensorflow also has some optimization methods implemented for you. Recall momentum & rmsprop?"
   ]
  },
  {
   "cell_type": "code",
   "execution_count": 28,
   "metadata": {
    "collapsed": true
   },
   "outputs": [],
   "source": [
    "y_guess = tf.Variable(np.zeros(2, dtype='float32'))\n",
    "y_true = tf.range(1, 3, dtype='float32')\n",
    "loss = tf.reduce_mean((y_guess - y_true + tf.random_normal([2]))**2) \n",
    "#loss = tf.reduce_mean((y_guess - y_true)**2) \n",
    "optimizer = tf.train.MomentumOptimizer(0.01, 0.5).minimize(\n",
    "    loss, var_list=y_guess)"
   ]
  },
  {
   "cell_type": "code",
   "execution_count": 29,
   "metadata": {},
   "outputs": [
    {
     "data": {
      "image/png": "[encoded data removed]",
      "text/plain": [
       "<matplotlib.figure.Figure at 0x7fec5bd62630>"
      ]
     },
     "metadata": {},
     "output_type": "display_data"
    }
   ],
   "source": [
    "from matplotlib import animation, rc\n",
    "import matplotlib_utils\n",
    "from IPython.display import HTML, display_html\n",
    "\n",
    "fig, ax = plt.subplots()\n",
    "y_true_value = s.run(y_true)\n",
    "level_x = np.arange(0, 2, 0.02)\n",
    "level_y = np.arange(0, 3, 0.02)\n",
    "X, Y = np.meshgrid(level_x, level_y)\n",
    "Z = (X - y_true_value[0])**2 + (Y - y_true_value[1])**2\n",
    "ax.set_xlim(-0.02, 2)\n",
    "ax.set_ylim(-0.02, 3)\n",
    "s.run(tf.global_variables_initializer())\n",
    "ax.scatter(*s.run(y_true), c='red')\n",
    "contour = ax.contour(X, Y, Z, 10)\n",
    "ax.clabel(contour, inline=1, fontsize=10)\n",
    "line, = ax.plot([], [], lw=2)\n",
    "\n",
    "def init():\n",
    "    line.set_data([], [])\n",
    "    return (line,)\n",
    "\n",
    "guesses = [s.run(y_guess)]\n",
    "\n",
    "def animate(i):\n",
    "    s.run(optimizer)\n",
    "    guesses.append(s.run(y_guess))\n",
    "    line.set_data(*zip(*guesses))\n",
    "    return (line,)\n",
    "\n",
    "anim = animation.FuncAnimation(fig, animate, init_func=init,\n",
    "                               frames=400, interval=20, blit=True)"
   ]
  },
  {
   "cell_type": "code",
   "execution_count": 30,
   "metadata": {},
   "outputs": [
    {
     "data": {
      "text/html": [
       "<img src=\"data:image/jpeg;base64,/9j/4AAQSkZJRgABAQAAAQABAAD/2wBDAAIBAQEBAQIBAQECAgICAgQDAgICAgUEBAMEBgUGBgYFBgYGBwkIBgcJBwYGCAsICQoKCgoKBggLDAsKDAkKCgr/2wBDAQICAgICAgUDAwUKBwYHCgoKCgoKCgoKCgoKCgoKCgoKCgoKCgoKCgoKCgoKCgoKCgoKCgoKCgoKCgoKCgoKCgr/wAARCAEgAbADASIAAhEBAxEB/8QAHwAAAQUBAQEBAQEAAAAAAAAAAAECAwQFBgcICQoL/8QAtRAAAgEDAwIEAwUFBAQAAAF9AQIDAAQRBRIhMUEGE1FhByJxFDKBkaEII0KxwRVS0fAkM2JyggkKFhcYGRolJicoKSo0NTY3ODk6Q0RFRkdISUpTVFVWV1hZWmNkZWZnaGlqc3R1dnd4eXqDhIWGh4iJipKTlJWWl5iZmqKjpKWmp6ipqrKztLW2t7i5usLDxMXGx8jJytLT1NXW19jZ2uHi4%2BTl5ufo6erx8vP09fb3%2BPn6/8QAHwEAAwEBAQEBAQEBAQAAAAAAAAECAwQFBgcICQoL/8QAtREAAgECBAQDBAcFBAQAAQJ3AAECAxEEBSExBhJBUQdhcRMiMoEIFEKRobHBCSMzUvAVYnLRChYkNOEl8RcYGRomJygpKjU2Nzg5OkNERUZHSElKU1RVVldYWVpjZGVmZ2hpanN0dXZ3eHl6goOEhYaHiImKkpOUlZaXmJmaoqOkpaanqKmqsrO0tba3uLm6wsPExcbHyMnK0tPU1dbX2Nna4uPk5ebn6Onq8vP09fb3%2BPn6/9oADAMBAAIRAxEAPwD9/KKKKACiiigAooooAKKKKACiiigAooooAKKKKACiiigAooooAKKKKACiiigAooooAKKKKACiiigAooooAKKKKACiiigAooooAKKKKACiiigAooooAKKKKACiiigAooooAKKKKACiiigAooooAKKKKACiiigAorj/AAR%2B0J8A/iZ431n4Z/Dj44eD/EHiTw5JJH4h8P6J4ltbu%2B0t0kMTrcQRSNJAVkBQh1GGG088VZtfjb8Gb74p3PwLsvi54Ym8b2dgL288HRa/btqsFqQpE72gfzljIdPnK7fmXnkUAdPRRRQAUUUUAFFFFABRRRQAUUUUAFFFFABRRRQAUUUUAFFFFABRRRQAUUUUAFFFFABRRRQAUUUUAFFFFABRRRQAUUUUAFFFFABRRRQAUUUUAFFFFABRRRQAUUUUAFFFFABRRRQAUUUUAfIz%2BIrvxH/wUT0j40aVp3xZ1nw/4Z8I6/pWr2XiP4WX%2Bn6b4Ukmn0yMNpUo06CbVWu5bUtJiS%2BRUQyxvbxjbLy/g74f/EGL9qTw98N5fhR4oh17Qf2nfEnj3WvGcvhq6TSpvDt5oWp29tImpmP7NPIVvbDT/sqyGZPszMYxHCr19w0UAeIftr%2BO/wBp34WeFtF8bfAPx94D022ufF/hzw/qFj4v8B3uqyO%2Bq67Y6X9ojlttVsxGIkvDJ5ZR95jA3oDkWf8AhB/%2BChf/AEdB8Gf/AAw%2Brf8AzUUft4f8kQ0P/ss3w4/9TXRK9moA8Z/4Qf8A4KF/9HQfBn/ww%2Brf/NRVbWdA/bz8OaRdeIPEP7W3wQsLCyt3nvb29%2BB2qRQ28SAs0ju3ikKigAkkkAAZrtvhz8ddL%2BIPxC8S/DO58F65oGp%2BHTHIkWuxQx/2nZvJNEt5biOVy0JlglTLBW4UlQHUnwnxj4Y%2BMnh7SfE/w8%2BNujX%2BsaZ8RPFEvhqz8ZS%2BM3nuFS8eQ2EkOlRwrDawQsyQuY2EpCNOwKqSOulhHOfLN2emnVp9tbOyu/6dsZ1Uo3Svv/X3lHxB8b/27NYt/Cy/AD9pj4A%2BOLnxXqV3bWWPhRqtnboLWBp58y/8JHKfNCqAsRUFtwJKoC47H4Paz%2B3j8Zfh1p3xD0P9pT4RWkd4JYrqwvPgJqyz2V1DK8FxbSj/AISjiSKaOSNscbkOOKzfC3wc%2BK/xk%2BI914s8Z%2BCNU8Aatplhpl2de32sscviW1M0TXVtHHI3m272k8sT7wm%2BO5ZPvLlPb/gn8K5vhL4RuNG1LxGNX1PUtYvNV1nU0sVtUuLu5lMkjJCpYRoMgBdzHC5LMSSdcTTwtKlyxfvffvfqtNrbWflrpNKVWUrvb%2BvmeEeBx/wWR8RfFHWNF8XeKPgJ4e8H2FxPDpniCf4dapc32qbWxHMlnF4gKRRuAW/eThxkZTOcegf8IP8A8FC/%2BjoPgz/4YfVv/mor2aiuKclN3UUvS/6tm0U0tXc8Z/4Qf/goX/0dB8Gf/DD6t/8ANRR/wg//AAUL/wCjoPgz/wCGH1b/AOaivZqw/iF8T/ht8JPDsni/4qfEDRPDWlQ/63Ute1SGzgXjODJKyrn8amMZSdoq7K3PNf8AhB/%2BChf/AEdB8Gf/AAw%2Brf8AzUUf8IP/AMFC/wDo6D4M/wDhh9W/%2BaiuQn/4Kh/BjxncPpn7Lfwu%2BInxlulcx/afAPhOX%2BzEkzgB9SvDBaBf9pZH78HFNHiv/gqv8XOfD3wo%2BFXwe0%2BX5Wl8V65ceJtVjH98QWQgtVb2M7jPr1rs/s/ER/i2h/iaT%2B7WX/kpfJLrodj/AMIP/wAFC/8Ao6D4M/8Ahh9W/wDmorK8XH9tXwBpZ1vx5%2B2j8BNEsl%2B9eav8F9Stoh/wOTxUB%2BtYn/DB3xr%2BIH779or/AIKJfFfXc8PpvgZ7TwnYsvdStjGbgj63BODyTWt4R/4JZ/sB%2BE9UGv3H7NOh%2BItT6vqnjiWfX7h267i%2BoyTHOeeMY7Yo9lgYfHVcv8Mf1k1%2BQWgup4x4q/4KMP4T1I6Kf%2BCo37O2tXwyBZeD/gRrmuzE%2BgTTvEs5J7YxWb/w3d%2B3rr//ACSnwjrXi1H/AOPe8tP2O9a022l9CJdT8W2w2%2B/P0r7m8K%2BCvBvgTTRovgjwlpmjWa/dtNKsI7eIf8BjUD9K06Pa4CPw0pP1lb8Ix/ULw7HwPH8av%2BDgjxA4bwj%2BzN8I7OBz8k3jHRfsJx6lLTxNeMv0IzXffCy1/wCC7ev%2BI7T/AIW94p/ZT8N6I%2B77ZLo/hPxHqd9F8jbdsTalBE3z7QcyjAJPJAB%2BuqKieIpSjaNKK/8AAm/xl%2BgnJdjxn/hB/wDgoX/0dB8Gf/DD6t/81FH/AAg//BQv/o6D4M/%2BGH1b/wCaivZqK5STxn/hB/8AgoX/ANHQfBn/AMMPq3/zUUf8IP8A8FC/%2BjoPgz/4YfVv/mor2aigDxn/AIQf/goX/wBHQfBn/wAMPq3/AM1FH/CD/wDBQv8A6Og%2BDP8A4YfVv/mor2aigDxn/hB/%2BChf/R0HwZ/8MPq3/wA1FH/CD/8ABQvt%2B1B8Gf8Aww%2Brf/NRXs1FAHxJ4k1P/g4i8P7pdK0j9kfX0H3E0%2Bw8RW8jD3E96qg/8CNYI/aJ/wCC63hg%2Bd8Sv2XvBot1/wBZP4J8CQ6wf%2BAxyeMLaRv%2B%2BRX3zRXZHE0bWlRi/wDwJflJ/kVzLsfK/wCz98Sv%2BChPx%2B0zUr9/GnhvwRNpk8cU1j8Qf2YtX06WYspO6EjxY6TKMYLIxAJA71pfEvxF/wAFBvh74t8EeC7f9oL4M6he%2BNvEj6Xbr/wpTVYRaxRWNzeTXJ/4qZt4VLbbs%2BXLSKNwr6Wrzbx/%2BzPoHjv4y6D8dU%2BI/jDSdb8O288NhbafrKyaeVmiaKQtZ3EcsIYqeXRVf5R83XMU5Yd13Jq0bOy1lrZ27PfW/QFy3PBf2g/jh/wUO%2BCWpXmmaH8V/hH4kfQPDMniXxhJD8GdStk0nR42kDT5fxOTNKfJmKQqAWELfMOM60Hxz/aoufinb/CGL9rP4VnUrm7SyS7/AOGbde%2BwrfvaC8Wxa6/4SXyluTbETeUWB2%2B4xXb/ABj/AGSvHXxJ8U31xpHxXtLTR/Fvh6w0bx8l1ope9u7e1mkk3WsiSpHCZlkeGRWjZQrFkw2c8PqP7PH7SK6v4g8LaD4b06z0/TfFeu%2BL9B8S/wBqKf7Sv5bcppVsIBmSLySyrK78MLddmRIQnXTo4GpSScrO3e333XR9F038qSg0dT4Q179rv4gavqvh/wACftzfs%2Ba1qGhXAg1ux0r4O6hcTafISQEnRPFZaIkq2AwGcH0rf/4Qf/goX/0dB8Gf/DD6t/8ANRXF/sZeCtWfxvoXiLRPBHiDw54Z8GfCDTvCaQeJdBm0271HUzMJrl3imVXkEIiTE2NjyXc5RnBLH0f4l/ttfsqfBj4q2/wW%2BMHxs0fwr4gu7OO5s4vEbPZW1wjlgoS7mVbdnypygk3jIyBuGeethJKu6dFOVlfRXfntfyfW1yXHWyMz/hB/%2BChf/R0HwZ/8MPq3/wA1FH/CD/8ABQv/AKOg%2BDP/AIYfVv8A5qK9f0vVdM1zTodX0XUoLy0uYxJb3VrMskcqHoyspIYH1FT1x7EnjP8Awg//AAUL/wCjoPgz/wCGH1b/AOaivP8AwGP%2BCyGo/FLVfB/xL8UfATSfDkFvLNo3i/R/h1ql9HeYlVUhltpPEEMsEpRi5wHjGxhvPy5%2BpqKuM1FNOKd/XTzWv53Jaba1Pmf48eIv%2BCh/wV%2BHFx41sPjv8F9d1F7q3sdG0I/BrV7RtRvriVYbeBZB4jl2lpHUE7DhdzHhTV/4ieI/2wPhBo9pr3xY/ba%2BAnh2zvb2Ozgu9W%2BCmqQwtcPnam9/FIAzg8nA47V6B8VvgFqvxB%2BJ3hf4raX8TdStJfCt2bq28M30Edzo93N9nuIVmki2rKkyi5YrIkgA2qSjEDHC/tNQ/EnxB4m8NL4X%2BFfixvF2g3kEnhzWNKeCbQLk3Pl29/HeCQsUiSCSfJliRyozCxc7R10aVCqoQv3bezXZa6WVt9d3poZTnUhzO3a39I2bTwl/wUAv7WK/sP2qvgrPBPGskM0PwK1VkkQjIZSPFOCCDkEVJ/wg/wDwUL/6Og%2BDP/hh9W/%2BaivNdS%2BMuueHtf0z4uRfEy50Hw1a%2BK9StLHwjZ20MenQeGNKW4TULuaLZv377d3VwRtCRqnDkN7F8G/j74n%2BIXjWbwN47%2BFzeFr2Xw3a6/pVrLq4uZ3sppHj23MYjX7NOrpgx5cfNw5KsqzVwVWnHmWq/L/O11e2g4V4SdjjNS8Y/tm/CX40/Crw18Ufi38MPEvh/wAeeNbvQdTtNA%2BF2o6ReW4j8P6vqcc0VxNrl2gPm6dGjK0JysjYKkA19A14z%2B1B/wAlv/Zx/wCyzX3/AKhXiivZq4zYKKKKACiiigAooooAKKKKACiiigDxn9vD/kiGh/8AZZvhx/6muiV0/gH9pT4cfFD4t%2BIvhB4Dg1jUbnwoGj17Wo9HlXS7a8V1VrEXTAJJcru3MibtoByQRiuY/bw/5Ihof/ZZvhx/6muiV7KiJGCI0CgkkgDHJ5Jq4umovmV301tb/P00Jak2rM8u%2BLvwe%2BKHi/41eDviZ8MfGOkeHP7Ds72013Ubqwe8ub%2BynMTGzSHckajfEsgmdm2OgxGwZs9XafB34fJ4nsPHus%2BHrbV/EemWrW9l4i1W2jlvIUZmLBH2gR53EHYFyMA8AV09FW69VxUb2sraaaeb3e//AABKnFNvuFVtY1nSPD2lXOva/qttY2NnA015e3k6xRQRqMs7uxAVQASSTgAVT8bjxq3hHUV%2BHEulprptWGlPrUUj2izY%2BUyrGyuyDuFZSemR1rxI634q/ae/ZI8b/C/4i32k6V430d7vw94oxGYLAalAUeGULIzMltcxtbTKCzER3O3cWXNOlR9ouZvS6T7q/W3b9TRK50PxC/a50a2t/C6/s/aJp3xJufFUeoXGm/2P4khjtpYLKBZpglwFkR52EkYjh%2BXduLFkVGYeLeI/2k/G2seIvHnx48DfE3XI38H2eka/o3gW/mt4dP1fwsSseoRLGU3C/W5ttShLl2MU0duufLlUHV8I/Br4i/Gf40%2BIfGll4M1/4Z3UA0vV5dQ1PTY2iTxVbyPb3Eluqybby2ubGOGOZl2hl2bX3l9nr/gL9kj4Z6b4G0zw78X/AA5oHjjU7DXb3WhqeqeG4hFDfXVzJcubaGQym3iV5SI497lAifMSoNelfA4RWau9L7N66vvHbTRp63NPcid/418PXXjjwNqfhfTfFeqaDNqumy28GtaQUjvLBpEKrPF5qMqyoSGG9CARyp6V4z8Pf%2BCZ37IngzxFH498YeA7r4ieK05bxb8UtVl8QX5bsym7LRwkdvJjjA7CvfaK82nicRRg405OKe9tPxWvyvbyM1KSWgy3t4LSBLW1gSOKNAsccahVVQMAADoBT6KKwEFFFc/8SPiv8Lfg34bk8ZfF34k6B4V0iLPm6p4j1iCxt04zzJMyqPzpqMpOyV2NJydktToKK%2BVbz/gsN%2Byj4lvJdI/Zo8N/Eb4330LlJYvhD4AvNTtUYcfNfyrDYgZ4z5%2BB37UwftEf8FW/iv8Au/hN/wAE/PB3w9tZPmg1f4x/FJJZdnYtY6NDclWxztadT2OOtdX1HEr40o/4mo/g3f8AA6fqWIXxpR/xNL8G7/gfVtFfKY/Z0/4KwfEX/S/iR/wUZ8HeBkk4l0v4VfByGTYO4W61i5ujn38ketL/AMOsh4k/efF//goR%2B0x4saTm5th8UTo1rJ6jydIgtcL/ALJJ%2BtH1fDx%2BKsvkpP8ASKD2FCPxVV8lJ/okfVTukal3YKoGSScACuR8S/tBfAXwYzJ4w%2BN3hDSSn3xqXiW1gK/XfIMV4Kn/AARR/wCCal2wm8Xfs%2BXXimbOZJ/GfjjWtZaRvUi8vJF/IAV13hr/AIJX/wDBNPwkqjRP2BvhAGT7st18PdPuJB/wOWJm/WjlwC%2B1J/8AbsV%2BcmHLgl9qT%2BSX5yZtar/wUO/YB0Jimt/ty/B6zK/eF18TNKjI/wC%2BrgVjzf8ABUv/AIJoQNtf/goJ8Fyf9j4m6W38p67DSv2Nf2QdCULon7Knw2swv3Ra%2BBtPjx/3zCK2If2d/wBn%2B3XZB8DPByD0TwzaD%2BUdF8v7T/8AJP8AIP8AYe0//Jf8jzq2/wCCon/BNS7YJD/wUE%2BCuT0D/FDSl/8AQrgVvaN%2B3p%2Bwz4iYJ4f/AGz/AIT3xb7os/iLpkuf%2B%2BZzXSXX7N/7O96uy9%2BAnguYHqJfC1ow/WOsHWP2HP2KfEKlNf8A2PvhbfBvvC8%2BH%2Bmy5/76hNH/AAn/AN//AMkD/Yf7/wD5Kdn4X%2BK3wu8blV8F/EnQNXLfdGl6xBcZ%2Bnlsa36%2BdPFH/BIn/gl74vDDVv2B/hVFu6nS/BtrYn8DbIhFYB/4Iv8A7BGknz/hr4P8beBrkf6u68DfFnxDphj/AN1Ir7yx/wB8UcmAe05L1in%2BUg5cE9pyXrFP8pH1VRXyp/w7X%2BLPg7/Svgj/AMFR/wBojQrhf9VD4n1/TvE9qvplNTspZG/GWk/4Vb/wWO%2BGf/Im/tY/Bf4oQdfI%2BIPw3vNBuSPT7Rpd1LGD/tfZ8f7NP6tRl8FaPzUo/mmvxD6vRl8NVfNSj%2Baa/E%2BrKK%2BUT%2B2h%2B338Kv8Ak4f/AIJda/qljD8s%2Bu/BXx3p/iFXP95bK7%2BxXQHsFc8dzgVreB/%2BCvP7BfiXxDD4G8efF24%2BGfiWY7T4Z%2BL2gXnhe7V%2BmwHUY4opGyQP3bvycUngcVa8Y8y/utS/Jt/gDweJteMeZf3Wpfk2/wAD6YoqtpGsaR4g0yDW9B1W2vrK5jEltd2c6yxSoejK6khh7g1Zrk2OXYKzfFng3wh4%2B0Kfwt468K6brWmXK4udO1axjuYJR6NHICrfiK0qKabi7oD5r1P/AIJe/A3wrqVx4o/ZU8aeMPglrM8hmkk%2BHGuNDps8nUedpdwJbKRAf4REv1FV28af8FL/ANnH/kffh14Z%2BPfhuD7%2BseCGXQPEiRjlnfT7l2tLlsdFhmiJ7L2P05RXasfWnpWSqL%2B9q/8AwJWl%2BLL5299Txv4E/t6/s0fH/wARv8PNA8ZT6B40gH%2Bm/D/xrp8mka5btjJH2S5CtKB3eLzE/wBqvZK4T48fsxfAD9p3w4nhb48/CjSPEltCd1nLfW%2BLmyf/AJ6W9whWW3f/AG43VvevFn%2BCH7cf7JP%2Bn/syfFR/i/4Og5b4a/FHVNmr28Y/g0/W9uWPQLHeK6gDHmjrR7LCYj%2BFLkl2lt8p/wDySXqFoy20PqSivHP2eP24fgz%2B0D4hufhkU1Twd8QdNi36x8N/Gtl9g1i1UdZEjYlbqHjImgaSMgg5GcV7HXLVo1aE%2BSorP%2BvvXmm15ktNOzPOPHX7K3wb8WeG/GGmaH4K0nQNT8a2jRazrul6TCtxNIWDrLJ8uJT5gV2DcOR82au/CL4O6j4C1zXPH3jbxmfEfirxILWPVdXWw%2ByQrb2yOsFtBAHfyokaWeTBdiXnkJY547qiqeIrOm4OV0/%2BB13totPJGfs4KV7HjH7TrF/jb%2BzkShX/AIvPfjB9vBXijmvZ68Z/ag/5Lf8As4/9lmvv/UK8UV7NWJYUUUUAFFFFABRRRQAUUUUAeD%2BFPjN%2B0Fof7Z9v%2Bzp8QvEHgjxJpes%2BEdV8RLF4V8OXlje%2BFbaC9toLFb6Wa9uI7oXQmuFR1jtSXsZiiSKshiwvhX%2B1P8Xdd/bS8V/A34seJtE8M6Lb%2BJ7nTfAGgX/wn1u0ufE9tFpdvdm4tdenuxp93IrtdlreCBpBHauSAEZx0Xwm/YlvPg58QvG/xG8OftZfE27uvH2uT6rrcGrW3h2cLO7IIljm/sgXHlW8KLbwxPK6RxcBS3z1v337LUHiL45aL8a/Hvxv8a%2BIofC2tXOr%2BEfB2pHTI9J0W%2Bms7iyaeL7NZRXUxW2u7qNBc3EyqJ2IG5UZQDjP%2BChfxc%2BFHhrwf4M%2BFHiP4neHtP8AFPiD4w/D2XQfDV7rUEWoakkfjPRmka3t2cSTBVVixRSAFJOMGvoevGf28P8AkiGh/wDZZvhx/wCprolezUAFcT8ff2h/hD%2BzH8PZviZ8Z/F8OlaakqwWsexpbm/uX4jtraFAXuJnPCxoCx5PQEjH/an/AGpPBn7LXge11zV9Ivde8Ra7fLpvgvwXowD6h4h1Fx8ltAvYD7zyt8kaAs3YHhP2dv2RfGep/EGD9rX9tPVbLxL8UXiYaDpFsS%2Bj%2BBbZ%2BtppyNw05GBLeN%2B8kIwpVOG7KOHgqftq7tDolvJ9l2S6yei2V3oqUVa72PRP2afih8YvjD4JuvHvxb%2BBs3w%2BjvdRZvDWhanqaz6kdO2J5ct9Gi7LWdm3kwB3KKVViGBFJo37LXwo0z40678ftSt9Q1bxJrwgSWTVdQaS1tYoVVYo4bVdsClduRKyNNyQZCOK9GorF1pKcnT91S0sr7dtdenz/AV9dAooorEQUUV4H%2B1B/wAFAfh78BfGlt8Bfhr4M1b4o/F/VbYTaR8L/BpRrtIjgC6v53Pk6ZaZK5nnIyD8iuQRWlKlUrT5YK7/AK1fRLzdkaU6VStLlgrv%2Bt%2By82e9SyxQRNNNIqIilndjgKB1JPYV8w%2BP/wDgqp8FLjxfe/CX9kbwN4l%2BP3jayk8m70n4YWyT6bpsx6LfavKyWNoM5BBlZ1I5SsC0/YK%2BP/7YEi%2BKf%2BCnXxm%2B3aJMwktvgR8Nr%2Bew8M2y9Vj1G6UpdazIMKWDtHb7gcRFTX1L8Pfhx8PvhL4Qsvh/8LfA%2BkeHNC06Ly7DR9D06O0tbdfRIolVV/AV08uEofE%2BeXZaR%2B/d/JJeZvy4Wh8T532Wkfv3fySXmfMq/CH/AIKp/tN/6R8Z/wBofwz8AvDVx97wp8IrJdZ19om6xzazqEfkQyD%2B9bWp9nrovht/wSX/AGGvAviSP4g%2BMfhTN8S/Fy8yeMvi7q8/ifUXfOd6tftJHCfTyUjA7CvpKipljcRblg%2BRdo6fe1q/nITxle1oPlXaOn4rV/NkVlZWWm2cWn6daRW9vCgSGCCMIkagYCqo4AA7CpaKK5DlCiiigAooooAKKKKACiiigAooooAKKKKACsjxx8PvAXxO8OzeEPiV4I0jxDpNwMXGl65psV3by/70cqsrfiK16Kabi7oabTuj5W1n/gkN%2BzT4Z1OfxV%2ByV4t8cfAPXJpDK9x8JPE0llp88nUedpUwlsJUz1XyFyO44Ipv4k/4K0/stjd4r8JeDf2lvC0H%2Bs1DwwE8K%2BLI4%2BpdrSZ30%2B8YD%2BGOW3Zj0XkCvrWiutY2tLSraa/vav8A8C0l%2BLOlYyrLSraa/vav79Jfizwn9nX/AIKOfst/tH%2BLX%2BFWk%2BKdQ8I/EG3TN98MviJpUmieILfgk4tLjBuFwM%2BZA0seP4q92rzr9o79kr9nD9rfwmngv9or4QaP4otIH8ywnvYCl3p8uQRLa3MZWa1kBA%2BeJ0b3rwGb4c/8FBP2BR/afwV8Wap%2B0Z8LLUZuPAfjDUI08aaNAOT/AGfqb7Y9VVRki3u9sxCqqzMTT9lhq/8ACfLLtJ6fKWn3SS9R%2Bzw9f%2BG%2BV9pPT5S/%2BSS9T7DorzL9lz9r/wCA/wC2F4MuPF/wU8WvcTaZc/ZPEfh7VLR7PVtBvBndaX1nKBLbSqQwwww20lSy816bXLOnOlNxmrNdGc04TpycZKzQUUUVBJ5z%2B0Z%2Byj8Dv2p/D1tonxd8ICe702Xz9B8Q6dcNaarotwMFZ7O7iIlgcEA/Kdp2gMGHFeKj42/tJfsAzppH7W9/efEf4So4js/jJp2n/wDE18Px5wq65aQjEsQHH26BccZljUtur6wplxb293bva3UCSxSoUkjkUMrqRggg8EEdq66OLcIeyqrmh2fTzi94v8H1T3KUrKz2KvhvxL4d8Y6BZeK/CWu2eqaXqNslxp%2Bo6fcrNBcwuMrJG6Eq6kEEEEg1dr5I8Y/CT4if8E5NevfjV%2Byv4bvtf%2BEF3cveePvg5YL5kuhhjum1TQkP3ccvLYjCONxj2tgD6a%2BGPxN8A/GbwBpPxT%2BF3im01vw/rlkl1pWqWUm6OeJu47gg5BUgMrAqQCCKWIw6pxVSm%2BaD2fVPtJdH%2BDWqdtiUbarY82/ag/5Lf%2Bzj/wBlmvv/AFCvFFezV4z%2B1B/yW/8AZx/7LNff%2BoV4or2auUkKKKKACiiigAooooAKKKKACiiigDxn9vD/AJIhof8A2Wb4cf8Aqa6JXoXxh%2BLfgP4D/C7XvjH8T9cTTtA8OabLfapduMlY0GdqjqzscKqjlmZVHJFee/t4f8kQ0P8A7LN8OP8A1NdErg/2h7YftXfts%2BDv2S5P3/gz4c2Nv4%2B%2BJUA5ivrzzmj0XTpexXzYp7x42BDC2iz1rpwtGNar7%2BkUm5ei3t5vRLzfkVFXepe/Y4%2BC3jz4i%2BNLj9vT9qPQXtvHXiayMPgrwrd/Mvgbw%2B53RWaKeBeTLtkuZcBizCIbVQg/SlFFTiK8sRU5notklsktkvJfjq3q2KTcmFFFFYCCiivnH/goV%2B0B8UPCGmeE/wBlX9mPUYrb4t/GPUZtL8MalJF5ieG9OhQPqWuyp0ZbWFhsUn555YVw2SK1o0pV6ihHr9yW7b8ktTSlSlWqKC/4ZdW/JLU539oD9qD42/tFfGTVf2I/%2BCf2r21hq2iMsPxY%2BMdzai5sPA6uM/YrWM/JeauyHIiJ8uAENLydo9e/ZT/Y7%2BCH7HXgq48KfCXRLmW/1a5%2B2eKfFuuXRvNZ8R3xyXu7%2B7f57iViWPOFXcQiqvFaX7L/AOzR8Lf2Rvgro/wM%2BEemSxaZpaM9ze3kvm3eqXkh33F9dSnma4mkLO7nqTgYAAHoFbVq8eX2VHSH4yfd/otl5u7Nq1ePL7KlpD8Zeb/RbLzd2FFFFchyhRRRQAUUUUAFFFFABRRRQAUUUUAFFFFABRRRQAUUUUAFFFFABRRRQAUUUUAfPH7WH7BenfF/xlB%2B0r%2Bzv42f4ZfHDRbby9H8faXbhotVhXBGnavbDC6hZNtA2v8AvIsBo2UjBt/saftoX/x31XXPgJ8efAyeA/jV4HijPjPwS1yZILm3Y7YtW0yVsG60%2BYj5XHzRMfLkAYAt75Xzz%2B31%2Byj4t%2BMugaP8ff2c7230b43fDCSTUvh1rcnyx34I/wBI0W8OR5lleIDE4JGxykikFDntpVY14qjWf%2BGX8vk/7vdfZ3XVPspVY1oqlVfpL%2BXyf93y6brqn9DUV5t%2ByJ%2B0x4R/a%2B/Z48N/H7wfp9xp6a1asup6LejFzpGoQu0N3YzggESwTxyRNkDOzI4Ir0muScJ05uElZrRnLOEqc3GSs1oFFFFSSFfI/iuw/wCHa3x9X4m%2BHl%2Bz/Aj4na/HB4y0teLfwT4huXCRapEOkVldSFY514WOVkkBAZlr64rB%2BKHw08GfGT4c658KPiLoseo6F4i0ubT9VspRxLBKhRgD/C2DkMOQQCOQK6sLXVGbjNXhLSS8u681un302bKi7PXY83/ag/5Ld%2Bzj/wBlmvv/AFCvFFezV8vz/DTx98G7X9kv4U/Ez4jDxbq/h74qXthJ4iNoYXvYYvBnipYGkUsxMohEau%2BfndWbA3YH1BWFSMYTcYu6T37%2BfzE9GFFFFQIKKKKACiiigAooooA5DwL%2B0H8A/ih4y1n4dfDT43%2BEPEXiHw67J4g0LQvEtrd3mmMrmNluIIpGeEhwVIcDDAjrVi1%2BNvwZvvinc/Auy%2BLnhibxvZ2AvbzwdFr9u2qwWpCkTvaB/OWMh0%2Bcrt%2BZeeRXzX8NfivpnxY/bf1b4p%2BLPhJ8RfCWk/CzSda8L%2BBdNuPg14hh/tr7VeWZ1HVmuhYfZ3gkltIEtYIpGZ41muXB3xiHmfB3w/8AiDF%2B1J4e%2BG8vwo8UQ69oP7TviTx7rXjOXw1dJpU3h280LU7e2kTUzH9mnkK3thp/2VZDMn2ZmMYjhV6APe/28P8AkiGh/wDZZvhx/wCprolch/wTui/4TbxD8c/2ir8ebd%2BMvjTqthaXX97TNHCaVaoP9kG2nce8pq9/wUL034rz%2BD/Bmo%2BHPGnh618LQ/GH4ejXtGvfDE9xqF458Z6N5bW94t7HHbBW2lg9tMWAIBTIIr/8EsZo4v2X9R8OvbJDeaL8UvGVhqUSFjtuE8QXzNncSdxDqx578ADArto6YGs11cF8ryf5pFr4H8j6PoooriICiiigAr5L/ZFs2%2BOv/BRL9of9qbWWFxbeCL7T/hT4I3jmzhtLaHUdWK/9db29iUt1ItFGeMD60r5U/wCCW7LYah%2B0l4Uu/lv9O/al8VS3cbcNsuks7yByPQwzx4P%2Bz7V2Yf3cNWkt7RXyctfySOqh7uHqyW9kvk5a/kkfVdFFFcZyhRRRQAUUUUAFFFFABRRRQAUUUUAfKEH/AAWd/Yk0/wAWa34K%2BIWveIvCuoaFrt1pl1DrHhueTc0DlDIBbCUqpYMNrBXBU5UcZ5X9oT/gub%2ByZ4C8BSah8BNTuPHfiOaTy7TTm0y7sLeHpmWaW4hQ7QM4WMMzEAHYDuHxx/wVZ/YS/aA%2BEXxO8R/tG%2BMfFel%2BIPDWu66n2bWibWwumkn3MIntkI3smNhkUEsqhyFGQvz5%2B0d4C/aK%2BFyaN4H%2BOPwmtfDxsbd10S4h8K2Nimox7Yyzi9s4QNRABT94ZJtpbqCxz%2BwZdwjwpjKVHFU5uakruKne7STkkuVTlZ7pNNXPxjMOMOL8LiK2DqQjTadlNwtZSk1GUpczhFNbSaa0eh9U/Fb/AIKjftt/HT4G6nobfEX4c%2BC7681NLG10Twrb6j/wkerpLGpWO12G4jWJxMuJd0RYphHzkH7X/wCCSPwF/aJ/Zy/Zfb4dftA6baWDnWJb3QtMju/OuLO3mVWeOYqSinzNzBVJxvbdycD8O7HTdVvbE3iWRkMcRku1tVeRbcbiBvbaAMgA56fMOc5A%2Bjf2Uv8AgqD%2B1D%2BzL4w0e71D4h6z4x8LWayLeeDtX1dmjmjZGRY0mljkaAq2yRfL4%2BUAghmWvSznhiWNyR0MrhCEZPncXBwldLRatuL3%2BPvbRb%2BdlPEyyziJ1M3qSqSgnTU4VI1IWb96V4rlnHZp09NL6vb92qK4j9nT4ua58dPg/pHxS8Q/CzWPBtzqsbSf2DruPtESBiFc4AO1gAy7lU4IOBxnt6/Ea1KdCrKnPeLaeqeq802n8mz90o1adelGrD4ZJNaNaPyaTXzSCiiiszQKKKKACiiigAooooAKKKKAPk39mC1X4Af8FMvjr%2BzXp48rQPiBoWlfFbw9ZR/6u2vLiSXTdYx7yXFrazkf3rhj/FX1lXypOy6p/wAFvbT7Cd39ifsr3K6mV/hN74ktzbhvcixuSB9a%2Bq67MZrOEnu4Rb9bNfkkdWL1lCT3cYt/c1%2BSQUUUVxnKFFFFAHjP7UH/ACW/9nH/ALLNff8AqFeKK9mrxn9qD/kt/wCzj/2Wa%2B/9QrxRXs1ABRRRQAUUUUAFFFFABRRRQAUUUUAeM/t4f8kQ0P8A7LN8OP8A1NdErjP2Tph8G/2z/jt%2BzJqP7qHX9YtviX4TD9bm11GJLbUNvtHf2rEj/p6U/wAVdn%2B3h/yRDQ/%2ByzfDj/1NdErl/wBv3wJ408JHwp%2B298G9Bn1LxX8Ibme41XRbNf3uv%2BGrhVXU7BR/HKERLmEHOJbcAAl67cE1OUqEnbnVl/iTvH8dP%2B3i4a6dz6OorE%2BG3xG8F/F7wBo/xR%2BHPiCDVdC1/Tor7StQtmyk8Eihlb1BwcEHkEEEAgituuOUZRk4tWaI2CiiikAV8i31%2BP2P/wDgqnLq%2BtN9n8EftP6LaWkN9JxFZ%2BNdIgaOOBjwqG900KEzy8mn7RksK%2Buq82/az/Zh8Bftf/AzV/gh4%2BubqyS8MV1o2u6bJ5d7oepQOJbTULWQcxzwyqrqQecFTlWYHpw1WFObjP4ZKz/z%2BTSf3rqdGHqQhNxn8MlZ/wCfyaT%2B/uek0V80/sTftc%2BO9f8AFN9%2Bxf8AtiwWujfHLwbZCS6aJPKsvG2lqdkevaZnAeOTA86Ffmt5dyMqjbX0tWdajOhU5Zf8Bro13T/rW6WdWlOjPll/wGujXk/66oKKKKyMwooooAKKKKACiiigAr5j/bl/4KRf8MU%2BKNP0W8/Zt8XeJdNlt4rjVPE1sn2fTbWOR2QIk5R1lmBAzGdgG9PmJbA9p%2BN/7Q3wX/Zu8LQeNPjf8QLPw9ptzeLa21xdq7mWYqWCKkaszHCknA4Aya8t1L/gqr/wT408rFd/tLaO/mAECCwu5h687ISB%2BNezlWDrzqqtLCTr09VZc6Tf%2BKKeq7feeJm%2BNoQpSoQxkKFXR3lyNpf4ZSWj7/ceXfD79qD9mb/gq38VvEX7KvxZ/Zq1ODSPD2lxazpB8VXLWepNMrJHNmO3cNbkeeuNsrb0yWAztHyZ%2B394k%2BCv7Plp4s/ZB8HftE/tB3d9okUFrpnhvVdWgbw7BC6xyi3YMyzSxLE%2B1fkx93BZRz7D4G/Zt%2BAP/BRT9vbxR8c/gro3ivwv4B0LS2N3478M30mmy634mknYtcW7yqxC%2BUzFvLVCGVGfHmgP7T4//wCCUOqePrSLRNZ/bj%2BKepaah2eX4luLbUrpISwLpFcvGrxFgMFl/EEZB%2B3oYzJskzCnGdSdOCjCTovmlyTtdu9pq76q0HqrtbL4TEYLO89y6pKFOFSblOKrLljz007JWvB2V/dlea0dk1q/xr0T4e%2BOPEdzpFpovha9nfX9QSx0QCAgX9wziMRxE4Eh3kKcZwSAcZFfRv7QH7F3jL/gmx8Q/h/4t%2BIOu%2BHvEmo37RaxpdnFDLJB9sspIXnsJoyhMkbmVESUbdxU5VOcfrB%2Bz9/wT8/ZE/Zk1CLXvhN8GrC31eJAq65qMkl5eKcYLJJOzeUT38sID6Yr0nxf8MPhx8QNS0jWfHXgPR9Yu/D98L3Q7nU9Ojnk0%2B4GCJYWcExuCqncuDlVPUDG2O8R41cZFUaT9haSknZSldNLvypddbu720MMB4ZSpYKUq1Ve3vFxau4xs03pZczfTSyst9TT0S%2BudU0Wz1O906SzmubWOWW0lOWgZlBKEjqVJwfpVqiivyp2b0P1xJpahRRRSGFFFFABRRRQAUUUUAFQarqmmaHplzretahBaWdnA893d3MoSOGJFLM7seFUAEkngAVPXxX8fvG%2Bsf8ABT74ran%2Bw98B9YuY/g94b1IW/wC0B8RNOmKRaoyEM3hTT5l/1kknAvJUOIYiYt2%2BQrW%2BHoOtLV2itW%2By/wA3sl1fztvQoutLV2itW%2By/z6JdX87dD/wTKh1L47eJ/ip/wUa12xmgt/jJr9va/D2C6iKPH4Q0pJLbTptrDdGbqR7u8K91uIz0xX1nVXQtC0Xwvoln4a8OaVb2GnadaR2thY2kIjit4Y1CJGirwqqoAAHAAAq1SxFX29ZzSstkuyWiX3L77ir1fbVXJKy6Lslol9y/MKKKKxMQooryL9tP9pO5/Zr%2BDrap4P0ddZ8c%2BJb6PQvhz4aU5fVdauMrAhHaKPmaViQFiickjitKNKdeqqcFq/6%2B7q30SbGk27IrftQf8lv/AGcf%2ByzX3/qFeKK9mr5en%2BFHiT4H2v7Jfwv8Z/EHUvFet6X8VL0a34i1a8knmv72TwZ4qlnkDSEssfmu4ROiRhEGAor6hpVIxjNqLuk9%2B/n8wejCiiioEFFFFABRRRQAUUUUAFFeL/sc/F344fEq6%2BKXg74/XvhS71n4f/ExvD1tfeD9FubC1uLVtG0rUkLRXN1cuZFbUHjLhwriNWCJkiuS/Yn/AGp/i78aPiF4j8EfHvxNomj67a3OsS6T8Pz8J9b8P6gmm2urSWkN/HfajdyQ6vA0P2VnltIVjV7qPLLvVSAdf%2B3h/wAkQ0P/ALLN8OP/AFNdEr2avnj/AIKF/Fz4UeGvB/gz4UeI/id4e0/xT4g%2BMPw9l0Hw1e61BFqGpJH4z0ZpGt7dnEkwVVYsUUgBSTjBr6HoA%2BQr%2BS8/4Jc/FO814W0r/s5eN9Za41AQxll%2BG2s3EnzzbR9zSrmRstj5beZycKj8/XFle2epWcOo6ddxXFvcRLJBPBIHSRGGVZWHBBBBBHBBqPWtF0fxJo914e8Q6VbX9hfWz297ZXkCyw3ETqVeN0YEMrKSCCMEHFfJzeF/jH/wTHu5L/4ZaBrPj/8AZ8aVpLvwnZh7vW/h8pJLSWKkl77TVyS1vkywD5k3qGWvR93MFq7Vfwn8%2Bk/XSXdS%2BK/j9fz/AOCfXVFc78Kfi38NPjl4C0/4ofCHxtp3iHw/qsPmWOqaZcCSOQdwe6sDwyMAykEMAQRXRVwSjKEnGSs0RsFFFFSB5J%2B1z%2Bxt8Lv2wPCOn6b4uu9R0HxN4bvDqHgbx94buPs%2BseGb/GBcWswHAIAEkTZjlX5XU4BHjngf9un4sfskeJbH4E/8FSLCx0gXNwtn4V%2BPmjWpi8LeJSTiNL7qNFvmH3opT5DsHMUmMLX19Wd4t8I%2BFPH3hm%2B8F%2BOvDOn6zo%2Bp2zW%2BpaVqtmlxbXUTDDRyRyAq6nuCCDXVSxCUPZVVzR6d1/hf5p6Pyep0066UPZ1VzR/Fej/NPR%2BT1LtrdWt9ax3tlcxzQzRh4ZonDK6kZDAjggjkEVJXyFJ%2BwV%2B0L%2ByFcyeIP%2BCZHxtt9N8PiQyz/Av4mzXF94ZbJyy6ddKWu9HJyxCIZYNzD90AK0/CX/BVf4a%2BDfENp8Nf27/hb4g/Z78V3Uogt38c7JvDuoy/9OWuwZs5R04laGTnlBVPBua5qD512XxL1jv81zIp4VzV6D512%2B0vWO/zV0fVVFV9J1fSdf0y31vQtTt72yuolltbu0nWSKZCMhkdSQykcgg4NWK49jk2Cisvxr408LfDrwjqXjzxvrkGm6RpFnJd6lf3LYSCFFLMxxyeB0GSTwASa%2BV9L/4KQfFH9pL4gaj4I/YJ%2BAEXiyy0WwguNV8T%2BMtRfSbYGYnyxFC6eY6lQTuO0nB%2BXADN34PLMZjoSnSj7kfik2oxXrJ6X7LV%2BR5%2BNzTBYCcadWXvy%2BGKTlJ%2BkVrbu9F5n15RXzE3xK/4KyOPsMX7NPwojmk4S/k8Y3DQRH%2B8yAb2HsOazfGHgH/gr94/8Kah4F1T4jfA3RrTXrOS1vtX0GDWEv8AS45FKs1qW%2BUuATtZsEHBBBGa6Y5P7y9piKUV/wBfE9OrtGL%2B7RvZHLLOvdfs8NWk/wDr21r0V5SW/fVLdnPf8FifEX7PPib4KWnhrxz%2B0X4f0TXPCWvQ67Z%2BFJ7OLU5tWnjjkSO2ltFcSKj%2BaRvOEwx3ccj2X9huw1jxZ%2BzD4V8VfFP4CeFfB2t3%2BmhpNJ0DTLeK2Ntn9xIsceREHi2N5eTtzjj7o5JP%2BCSf7Et18HIfhRrvwriubomKa/8AFkc7rq11dqpDzm4ZmcByzMYsmP5vu8Aj0T9kv9kvwZ%2Bx34Bufhv4C8feLtc02e8FxAnizVkujZjYq%2BVAI4o0ij%2BXO0LySTnpj0MZjsr/ALCjg8PUm5wm2uaNrp78rjKyTerU1KWyTWp52CwGbf6wSxuIpQUJwSfLK7TW3MpRu2lonBxju2noz0%2BxsLHTLVbHTbKK3hTOyGCMIq5OTgDgcnNS0UV8u227s%2BrSSVkFFFFABRRRQAUUUUAFFFFABRRXN/Fb4x/CX4E%2BDrj4hfGn4l6F4T0K1H7/AFbxDqsVnbqcZ275WUFjjhRyewNOMZSdoq7Goyk7JXZ0lc78Vvi58MPgX4C1H4pfGTx9pPhnw7pUJl1DWdavkt7eFewLOQCxPAUZLEgAEkCvmeb/AIKJfGr9p8nQ/wDgmh%2BzJf8Ai2xmOxfi98SobjQfCMA/56wCRBe6qAQRi3iVDwfNxzWx8MP%2BCaek69490749/t3/ABYvfjj4/wBNm%2B0aNHrlilr4a8Ny9jpmjoTDG68D7RMZZztDb1Ndn1WNHXES5f7q1l920f8At5/9unV9WjS1rvl8lrL7tl/28/kcbfeNP2nv%2BCqCnw/8Ik8SfBz9nq641Lx5eW72Pirx5bHrFpcDgPpdjIvW8lAnkVl8tEBZq%2Brvg58Gvhd%2Bz58M9H%2BDnwX8EWHhzwzoNoLbStI02LZFCgJJPcu7MSzOxLOzMzEsST01FZVsQ6kVCK5YLZfq31fm/RJIzq13UioRXLFdP1b6vz%2B5JBRRRXOYBRRXmX7TH7Wnwk/ZY8P2d547vLvUNc1qY23hXwZoFsbvWNfuu0FpbL8znONznCJkFmUVdOlUrTUIK7fQaTbsjofjh8cPhh%2Bzl8MNV%2BMHxg8Uw6RoWkQ77m5lyzyMThIYkHzSyuxCpGoLMxAA5rxX9ln4QfE740/Fk/t5ftT%2BGJtH1yawksvhZ4AvSGbwbo8uN8sw6DUroBTMw5jQLCDwwpvwd/Zk%2BLXx1%2BJml/tWft3W1ouraRMbn4efCixuhcaX4OJHy3M7j5b7U9pwZ8eXESREOjD6YrtnOnhKbpU3eb0lJbJfyxfX%2B9LrstLuVNqKstzxn9qD/kt/7OP/AGWa%2B/8AUK8UV7NXjP7UH/Jb/wBnH/ss19/6hXiivZq88gKKKKACiiigAooooAKKKKAPF/gT%2Bx5rHwJ8aeL/ABraftZfErxHJ448Vw%2BINesfENp4dED3aWtvZkJ9k0iB0je3tLaJgHziEMpV2dm1Ph/%2By1B4T%2BNC/Hnxt8b/ABr4616y0O%2B0bw7/AMJUdMjg0SxvLi2uLqG3j0%2Bytd5keyswZLgzSBbdQHG59/qlFAHjP7eH/JEND/7LN8OP/U10SvZq8Z/bw/5Ihof/AGWb4cf%2Bprolanhn9sD4Na18adR/Z58RXt/4W8YWl3JHpukeK7I2R1yFTgXOnyMfLu4m5wEYuMHci4rSFKpVTcFe2rt0Xf8Ar52JlOMbXdrnqVFFFZlHzj8UP2HPEPg7x7qH7QP7Cfj%2B1%2BHHjbUZvtHiHw9dWrTeGPFknc39mhBhmbp9rt9soyxYSZqX4X/8FBPDlv4ztPgh%2B1/4Duvg78Qbp/KsLLxBdLJo2vOON2mamAIbjOV/cuY5gWCmMkZr6JrA%2BJnwr%2BG3xn8G3fw8%2BLXgTSvEeh36bbvStZsUuIJPQ7XBAYdQwwQeQQa7o4uFWKhiVzW2kviXz2kvKXyki%2BZPSRv0V8ur%2ByB%2B01%2By7/pn7CPx6F54ch5X4R/Fi5n1DTIkH/LOw1EFrywAAwqOZ48nlQBV7Qv%2BClPgfwPq1v4K/bW%2BFniD4Ha7PKIYbzxYq3Hh68kPa21m3zbMMc4mMLjPKih4GVRXw8vaLstJL1i9f/AeZByX%2BHU%2BlKKq6JrmieJtJt9f8N6xa6hYXcQktb2xuFlhmQ9GR1JVgfUHFWq4WmnZkBWf4p8KeFvHPh%2B78JeNvDWn6xpV/CYr7TNVs0uLe4jPVJI5AVdfYgitCimm07oE2ndHzd4I/wCCXX7PfwT%2BKem/FD9lzxT41%2BFENtq6X2seDPA/ieSLw3rYD5eG40ucS20asMrm3WFxnIYGus/bl8W674e%2BEGl%2BGtB8U3ugt4w8baL4cu9e0%2BUxTadbXd2iTSpIP9UxjDIH42mQEEHFey1m%2BLvB3hD4geG7vwb498K6brekX8fl32lavYx3NtcpkHbJFICrjIBwQeldH1mpOtGdVuVu%2B/39fnfbsdH1ic6sZ1XzW%2B//AIPzufnn%2B0j4I/aO%2BK3/AATy8b6H%2By9a6z4%2B8N6N8VLm50DSNR1q51O/1zw9aBGW1tp7l5JLuNbtW2h5GZlhKqThUr0H9l//AIKcWXxB%2BHPhn4b%2BBPGXh34h/FDVtXk0iDwfqegzeB59FNraSzXP9pxO995Ii8jy91vG43SxKsf3mH1L4s/Z%2B8CeIfC1x4W8P3ms%2BE0mS0SG78GaxLpstotsCsKwiIhERVJUpt2MvDKwAx8bftd/sFfsE%2BLNA0qJf2pPA/hTxPoV3rDa14r8X6vFe6pf3OoOj3F1JJHeWsi3sc0SvCTuhjy8f2dkbavvYTFYTH0Fha8JWUm04xbacrX5kviTaW3K%2Bmx5%2BI%2Br4fE1MXGUFKdrqo7JqMWklP7Ku7uyabbbWt19BaN/wUX%2BC1z4U8J%2BINe0DxDaz%2BINEs9T123stLe7i8KwXNw9rHJqMyYWCM3EU8QfB/1EjEKqkj3%2BvyT/AGbvhnqPiD9onx1%2Bw5%2BzN4%2B1b4n/AAY8d2Hh2PW/ifqkk8lx4asdLkeW50eSbyEjuFuYxNHG6EIDe5AOHr9O/jtovx0134b3enfs4%2BO/D3hzxWZ4nsdT8U6DLqVkqBwZEeCKeFzuXKhg42k5wcYrhzbLYZfiY0r25lfW60e109YvdWavpfqr7YbF4DMaMauGkrNtPVSSt5pWfbS%2B3c7GivlX7b/wW28OfNNoH7L3i2NPvfZ9R8Q6HLIPZWjvVB%2BrYqS1/aO/4KtaTIbbxJ/wTM8F6mEjdjd%2BG/j/AA4kYKSFEd1psRGSABlsc84Arh%2Bpzfwzg/8At5frY7PqkntOL/7eX62PqaivlX/htH/goXYn/ic/8EePGbKOr6V8XvC1wPwD3kbfpS/8N7/tgQjF3/wSD%2BMSt3EPizwvIPzGp0fUcR05f/Aof/JB9Tr%2BX/gUf/kj6por5W/4bx/bMuPl07/gkB8XGbsLnxp4WhH5nUjSf8Ni/wDBR6%2B/5BX/AAR98QQg/dbWfjX4agH4%2BTNMR%2BVH1Gv15f8AwOH/AMkH1Ov1t/4FH/5I%2BqqK%2BVT8d/8Agrz4n/c%2BH/8Agnr8LPDJPCz%2BKfjxLdAe5Sy0lvyDGj%2Byf%2BC2fij9xe%2BNP2Y/BsT/AH5dO0TxBrs0Y/2TLNZoT9Vo%2BpyXxTgv%2B3k/yTD6o18U4r/t5P8AJM%2BqqK%2BU/wDhjH/goX4z/c/Ff/grT4htbWT/AF9n8NfhRouikD0Se7W9lXHru98UH/gj7%2Bzd4t5/aG%2BLnxp%2BLY/59/iH8XtUltc/9elnJbW%2BD/d8vb7U/YYWPxVb/wCGMn%2BfKg9jho/FV%2B6Lf58qPUPjn%2B3z%2BxP%2BzRHN/wAL3/ap8CeGbiD7%2Bnaj4kt/tpPcLbKxmc%2Byoa8r/wCHqNv8UR9l/Yx/Yv8AjJ8W2m4stdTwofDegyn1Ooa0bYFfeOOT2ByM%2Bu/BH9h39jj9mzypPgN%2By74D8KXEQ%2BW/0bwvbQ3Te7XATzXPuzE16nRz4Gn8MHL/ABOy%2B6Ov/kw%2BfBw%2BGDl6uy%2B6Ov4nyafBP/BXj9oc58a/Fv4b/s%2BaDP8AMdO8C6c/irxCEPBje%2BvkhsoWx/FHbS46g%2BnQ/Cv/AIJUfskeBfGNv8VviZout/FzxzbcxeN/jHrcniC9hOcgwRz/AOjWmD0%2Bzwx46DoK%2BkaKUsbXtywtBdoq33vd/OQni61uWFor%2B6rfe9382IqqqhVAAAwAO1LRRXIcoUV5x4u/az%2BAHhTQfGOrwfEnS9ZufAmnzXfiTRtC1CG5vbYRAbkMYcbXBZVO4qFZ13lc5rzrxh%2B1P8RfGes%2BGfhF4UsJPhl4s1jxcdH10%2BKdMg1NtMzpt3fWwjEFwIZftItJESQOygxyJt3lK6aeDxFTpZeenS/rt2T6dylFs%2BjKpeI/Enh3wfoV34o8W69ZaXplhA019qOo3SQQW8Y6u8jkKijuSQK5D9m/4tax8Y/hkPEHivRrfTdf0zWNQ0XxHp1q5aKC/sruW1lMZbny3MQljySTHKhyc5rz7xL/AME/vAHxg%2BK958T/ANqP4g%2BIPibZx6q114X8D%2BIZY4vD2hx7sxqLCBVju5FB2%2Bdc%2BaSMcA80Qo0o1ZRry5bdldvyWy%2Bbdrd9gSV9TmNR/bT%2BMH7U95N4M/4J0eAYdS0vzGg1D41%2BMbSWHw5ZYO1zYRfLNq8y4YDy9sAYLulIOK779m79in4f/AXxBefFfxN4i1Px78TdZgEev/EnxWVkv506m3t1UeXY2oJO23hCqBjcXIBr2GysrPTbOLTtOtIre3gjWOCCCMIkaKMBVUcAADAA6VLV1MXaDp0Y8kXv1b/xS/RWj5MHLSy0CiimXNzbWVvJeXlwkUMSF5ZZXCqigZJJPAAHeuMk8c/ag/5Lf%2Bzj/wBlmvv/AFCvFFezV4V8ePFXhjxv8UP2aPFfgzxFY6tpd78Y797PUdMu0ngnX/hC/FI3JIhKsMgjIPavdabTTswTTCiiikAUUUUAFFFFABRRRQAUVzPws%2BNPwc%2BOeiXfib4J/Fnwz4x02w1KTTr7UPC2vW%2BoQW95GFaS3kkgd1SVQ6FoyQwDqSORSeDvjb8GfiJ4v134e/D/AOLnhjXdf8LTiHxNoej6/b3V5pEhLAJdQxuz27EqwAkCnKn0NAHAft4f8kQ0P/ss3w4/9TXRK7n4zfAj4QftC%2BD5PAfxn%2BH%2BneINMdt8cN7F89vJ2lhkUh4ZB2kjZWHY1w37eH/JEND/AOyzfDj/ANTXRK9mqoTnTkpRdmuqE0pKzWh82L8L/wBtT9lT978DPGn/AAuLwXD93wR481MW%2BvWUf9yz1UjZcgdo7tc4UDzq7D4N/tzfAj4t%2BJx8M9Tv9Q8FeOVA8/wH48sTpmqAn/nkkh2XSnGQ8DyKRzmvY65L4xfAb4M/tBeGD4O%2BNXw00jxLp4JaKHVLNXaBj/HFJ9%2BF/wDbQqw9a7PrNGv/AB46/wA0bJ/NfC//ACV%2BZj7OcP4b07Pb5PdfijraK%2BcV/ZW/ac%2BAv7/9kT9pue%2B0mL/VfD/4u%2Bbq1iq9BHb6ghF7bKBwoYzqP7uOKeP29da%2BEx%2Bw/tm/s3eK/hysfEnirTITr3h5h0Dm8s1MluD1xPDHgdTwTS%2BpSqa0JKfktJf%2BAvX7nIftlH%2BIuX8vvX62Pouqut6HoniXSbjQPEej2uoWF3EY7qyvbdZYZkPVXRgVYH0IxWP8M/i98KvjP4fXxX8JPiPoniXTWx/puh6nFdRqT/CxjY7W/wBk4I7iuirklGdOVmmmvk/0NU01dHzbrX/BMn4Q%2BF9XuPF/7JnxB8W/A/Wp5DNIPh5qYTSLmXsZ9JuFkspFHosaH/aquPFP/BUX4EHyfFHw38CfHXRYflGo%2BFL8%2BGddKjq72l20lnK2P4Y54s%2Bg7/TVFdax9aStWSqL%2B8rv/wACVpfizTnfXU%2Bb9J/4KmfswaXqUPhz9oC38W/BzV532R2PxX8Lz6VC57lL3D2br7rOc/nXvfg3x14I%2BIuhx%2BJ/h94y0rXdNm/1OoaNqMV1A/0kjZlP4Gruq6RpWvadNo%2BuaZb3tpcIUuLW7hWSOVT1DKwIYexrwbxj/wAEuv2I/EutyeL/AAx8Hh4F19%2BV1/4Z6tdeHLpH/v50%2BSJHbqfnVuTnrRfL6m6lB/KS/Hll%2BLD3H5H0DXNfGPxP468GfCzX/Ffwy8DHxL4gsNMlm0jQRcCL7bOF%2BWPcenrjqcYHJFeHf8Me/thfDjj4Cf8ABR/xXNax/MmkfFfwtYeI43P903MYtboDtkyMfXJrF%2BIf7RX/AAUY/Zg8Lz%2BN/jv8LPgh4s0G1GJtU8P/ABCufDcvt%2B51OGWIuccIJ8k8A1rRwUalaPsZxqar3XeLeu1muu2kjGvGPsJP2iirP3tFbTf3tNN9dO5wv7On7dP/AAUN%2BInhqL4mt8DPA3xE0aG4nsPEnhnwXdXGl6/4dv4yP3V1DfuVP8QCxhs4zuXBB479mX9iW%2B8W/txz/GTUf2Irzw78P9Vhv7nxTpfxTXTtQSO%2BkzJF/Z0PlmSMCUjk7l2FvmGFWsz9jn9q3xToP7SHxG/bJ1P9lj41W3gH4o2VnLbW%2Bg%2BCm12I3cPyvcPLbKJVjj/eqgjR0YSsWbKCvqCw/wCCtP8AwT/ku00zxP8AHtfCt452tZ%2BN/Duo6I6N/dP263iXj2JHvX1uYYjF5bXrUcDhlHnglJw5vduk3FqM2uaDulLR7N63R8ZlmSVM4wtDEYyrOoqc248yhJS5W0pJuPMoVEk%2BWzVttOVn0HoXh/QfC%2BlQ6F4Z0S006xt1229nYWywxRD0VEACj6Crdee%2BDP2t/wBlT4jBD8P/ANpj4f64X%2B6uk%2BMbK4J9sRyk59q7%2B3ube8gW5tLhJY3GUkjcMrD1BHWvhKkK0JfvE0/NO/4n2yjyKyVh9FFFZgFFFFABRRRQAUUUUAFFVNY17Q/DtodQ8Qa1aWMC9Z7y5WJB%2BLECvMvG37eP7Evw5Djxv%2B1x8N9OkT71vP40svO/CMSlz%2BArSnRrVXanFv0Tf5JjSb2PWKK%2BbG/4Ky/sX6wTb/C7xN4s8f3R/wBXa%2BAPh1rOqmT/AHZIbUxH/vukP7cP7RnjX5fgj/wTS%2BKl%2BP8An68d6hpfhmD64nuZJ8f9sd3%2BzXT/AGdjV8UOX/E1H/0pr8iuSXY%2BlKK%2Bat//AAVn%2BJP3bf4I/Cyyn7u%2BpeKNRtx9ALK3Lf8AfQPtSH9gb4s/EL95%2B0j/AMFBviz4mVuJdK8IXNr4U0%2BRe6MmnRi4Ze3NwTjqTR9UpQ/iVor0vJ/gkvxDlS3Z9KCWNpGiWRSygFlB5Gemfyrxb4V%2BK/iB8Lvj34v%2BD/xo%2BLF54hsb7RoPFPhTWtZtLS1EFsJDa3tkDBFFGI4H%2ByOCwLkXnzMxrqP2fP2VPgH%2ByxpOo6P8Cvh%2BmiprFwk%2Br3EmoXF3c30qKVWSae5kkllYAkZZj1rQ8Sfs8fBLxn8U9O%2BNfjP4babrHifRrQ22i6rq0RuTpqEksbZJSyW7tn5pI1V2AAZiAAIjPDwlOOri1o7K99LdXbW99dhJxVz5otvgl4m8T%2BKfCXwcuPh3ql/p1n4j8QyS%2BOLPY2l6j4S1dbqeVTcoSBctcfYn8vad0kW/G0lh6R4D/Y58Xa3Pqc/7SfjXTdclPh/SNI0e98NwXFjdJJpzySRas0pkLRXpkkB/dnYnljGd7CvoLp0orWpmNeStHT8973v0v2Wg3NnO/C74X%2BFvhB4Qi8GeEjfSW63E1zcXeqajLd3V3cTSNJLPNNKzPI7uzMSTgZwAAAB0VFeefGv9rH9nD9nWNR8ZfjFomiXUuPs%2BlSXPm39xnoIrSINPKT6Ih6iuWMa2IqWinKT7av8AAzlOMVeTseh1HdXVtY20l7e3EcMMSF5ZZXCqigZLEngADvXzu37UX7VfxwH2X9lb9lG70jTpeI/G/wAY5H0i0A7PFp0e69uFI5G8QA%2Bo6062/YHufitcx63%2B2z8dde%2BKMiuJF8Kxj%2ByPDUDA5UDT7Zs3G08brmSXI6gV0fVI0ta81HyXvS%2B5Oy%2BcvkY%2B2cv4cb%2Bey/HV/JFnxT/wUB8H%2BI9eufh5%2ByJ4A1T4x%2BJraQxXTeGJVi0TTpP%2BnvVpP9Hj7/LGZZOMbM1nwfscfFj9om4j179vT4rx61p28SQ/CrwS81l4dhIOQLqQkXGpkEA/vSkWQf3WDX0F4Y8K%2BGPBOg23hXwZ4csNI0yyjEdnp2mWaQQQJ/dSNAFUewFX6f1uNHTDR5f7z1l9%2B0f%2B3Vf%2B8HsnP%2BI7%2BWy/4Pz%2B48M%2BP3hzw94Q%2BKX7M/hjwnoVnpmm2PxgvYbLT9Ptkhgt4x4J8UYREQBVUegAFe514z%2B1B/yW/wDZx/7LNff%2BoV4or2auJtt3ZvsFFFFIAooooAKKKKACiiigD5V/YW%2BKXhqH4s/HbTofhf8AEXQrTxB8Zbe%2B8Nvrfwe8Q6Ta3Vk3h3RLFZo5LqwijEYuLG5QnICCMM2EdGbiP2FPh/8AEHS/jD8KfDGrfCjxRoeofCf4Z%2BMdB%2BJWvaz4aurKz1PU7/WdLmha1upY1i1Nbl7O7vvOt3lWMOPMKSTFa%2B4aKAPnj/goXpvxXn8H%2BDNR8OeNPD1r4Wh%2BMPw9GvaNe%2BGJ7jULxz4z0by2t7xb2OO2CttLB7aYsAQCmQRteOU/bn%2BGXjHUvFnw/l8L/E7wvd3bzw%2BEdQA0XVtOjJ4htrtd0Fwqj/nuqMem/vU/7eH/ACRDQ/8Ass3w4/8AU10SvZq0pVPZvZNPo1/wzXyZjXo%2B2ikpOLWzTt/mn6NNHiXg39vn4Fanr8PgX4sHVvhj4nmO1NA%2BI1gdNMzdP3FyxNtcAngGOVifQZxXtcM0NxCtxbyq8bqGR0bIYHoQR1FZvjHwR4M%2BIegzeFfH3hLTNb0y4GJ9O1exjuYJP95JAVP5V4tL%2BwTofgCZ9S/ZR%2BNPi74Vz7i66TpV7/aOiM56ltOvN8ag/wDTIxexFbWwlXZuD8/eX3r3l9zOa%2BYUN0qi8vdl9zvF/JxPfaCARgjIPUV4CPiH%2B318IP3fxC%2BCXhn4o6XF11j4e6p/ZmpBB1Z7C%2BYxu5HOI7j6DtV/w3/wUL/ZkvtXi8LfETxLqPw61yU4Gi/ErR5tFlz6LJcAQSZ7bJGz26ih4Ou1eC5l/dd/wWv4DWY4VO1RuD7TXL%2BL91/KRY%2BJX/BP79lb4k%2BIG8cw/Dk%2BFvFByU8W%2BA7%2BbRNSVz/GZrNo/NP/AF0Dj24rnR8Df29PhCM/BX9rLSvHenR8Q6B8YfD4M4T0Gp6cI5C3vJBJ75r6B0rVtK13T4tW0TU7e8tZ03QXNrMskci%2BqspII%2BlWKqONxMVyzfMl0kub89V8mjo9jSfvR081p%2BWj%2B4%2Bdx%2B2N8f8A4bfuf2jf2FfGtlEvDa78N7qHxPZMB1kMcPl3ca98GAke/WvfdA1uy8S6DZeI9NSdbfULSO5t1urZ4ZQjqGUPG4DI2CMqwBB4IBFcd%2B0X%2B0Z8NP2X/hzJ8SfibeXP2drqO007TtOt/OvNSu5CRHbW8WR5kjYOBkAAEkgAmvB18C/t0ftwA3nxQ8R3/wACvhzcL%2B58L%2BHrhW8S6nEe9zckYswR/wAs1G7kq6nhq7KeCji6KrzUaNO7Tk22m%2B0Yayk1/d0V9Wjz8RmKw1b6vTTq1bJ8qS0T2cpaRivXV20iz174a/H%2B/vPGXxA8N/F3V/Cmk2vhXxSum6VqEGpmEXMb2cF1tkE5GJI1uI1YqdpOcAYxXlXi3/gsT%2ByH4Kn1i01e41qabTprqKwj0tbO%2BOrGCRo2MC21zI0akoxDXCwgqpIOMZxPhH/wRp/Z2%2BF51K48VaTpfxCub2/nul1DxjaXRu8NHhInkjufKYCQAlvIDFSQckA0TfsI634O8OeNte8B/s/%2BBfC39qeHbDTW8JeBb43H9rrHfrPeTma4t7bbI9tvhSJvlZid8mGBHbClw37V3lOa0/lprou8pa637eW5zynxBOFkoQ8/em/utCN101t3IvBP7Rv7f37WPhq%2B8f8Awvm%2BGfwi8IW961tNdeK5ZtQ1qzI27TLFhYIiyurhJADh1wSDk9v8P/8AgnT4T1zxdb/Fz9rr4q6j8avEsKg6bL4itI4NIsVIBzb6dGTCM9SW3A8EKDzXL%2BN7GSDx5pXxl/aI8EXej%2BCPEvjS81DWNA1TTftZza6YbTTEvYYBIpaXMsuDuVWhtkJ3bQPcv2SfDXirwP8As1%2BFtF8c6W%2Bn38OnPPJpRj502KSWSWKzCjp5ETxwhe3lYpYvH1cPQvhFGknp7iV7dV7S7m7W1s4p3QqOU4erVTxUpVmtffk3G/R%2BzSUF5XjKx6PbW1tZW0dnZ26RQxIEiiiQKqKBgKAOAAO1Mv8AT7DVLR7DU7GG5gkGJIZ4g6MPQg8GvA4v%2BCo37FFpItr4y%2BKGoeE7nOHtvGXhDVNKKH0LXNsifkxrt/Cf7Z37IfjsKPB37UXw%2B1F36Q2vjCyaQexTzNwPsRXizwWNp%2B9KnJedn%2Bdn%2BZ7Ua1F6KS%2B9EPjP9iH9jP4iF38dfsn/AA31aR/vT33gqxklz6hzFuB9wa4G4/4JG/8ABO15nudK/ZsstGkc5L%2BGtd1HSjn2%2Bx3EWPwr6F0nW9F161F7oer2t7Cek1pcLIp/FSRVqnDG46krRqyX/b0vyv8AobqcraM%2Bbf8Ah1z8DNN48DfGX43eGFH3U0L4266ir9BLcv8ArR/w7lv7bjR/%2BCgX7SVmB0H/AAsaC5x/4FWcufxr6Soqv7Rx3Wd/VRf5xY%2Befc%2Bbf%2BGDPjNacaR/wU1%2BOyAdPts%2BhXB/NtMGaP8Ahib9ptOIP%2BConxaA/wCmmg%2BHmP5/2dX0lRR/aGK7r/wGH/yAc8v6t/kfNv8AwxH%2B0pLxd/8ABUL4usO/k6L4ejP5jTqP%2BGAvilejGt/8FL/2gZPUWOq6JbZ/750s4r6Soo/tDF9Gv/AYf/IBzy/q3%2BR82n/gm9Bdf8hv9uz9pK9B%2B8P%2BFrPa5/8AASGLH4Yo/wCHVP7Luqf8j54l%2BKvirP3v%2BEi%2BM/iGUN9Ql4gNfSVFH9o47pUa9LL8ooOefc%2Bd9H/4JN/8E5dHuxft%2ByV4X1Kcf8tvECTamx%2Bpu5JM/jXpvgn9lz9mb4aMjfDn9nbwLoBj/wBW2i%2BErO1K/QxRLXd1l%2BI/HPgnwfEZ/FvjDStLQDJfUdQjgGPq7Coni8bX0lUlLyvJ/hf9CXOVtWagAUBVAAA4AoryLxd%2B39%2BxB4GDDxL%2B1p8PYZE%2B/bweK7WeUf8AbOJ2f9K5g/8ABTn9lvWP3fwyHjnxzN/DD4L%2BGusX276SC2EZ/B6I4HGzV1Tlb0aX3uy/ExdegnZyX3/8OfQlFfPf/DZH7QHi3j4R/wDBO34mXg/5%2BPGeo6X4fi%2BuJrmSXH/bPPtSHV/%2BConjr57Dwb8Gfh7bS8Eanq2o%2BIbyEeu2GO0hJH%2B%2BR7VX1GrH45Rj6yj%2BS5mL28H8Kb9E/wBbH0LVLxB4k8O%2BE9Lk1zxVr1lpllCMzXmoXSQxIPd3IA/E14P/AMMi/tNeOOPjV/wUK8bSwHk2Hw80DT/DsYPceaEnuMf9tQfQirmgf8E0P2NtP1SPxF4x%2BFkvjjVkOW1b4ja1d6/M7f3iL6WSMH/dQCj2ODh8dW/%2BGL/OXKvwDnrS2jb1f%2BVxfEv/AAUq/Y/0vVZPDPgj4kT%2BPtaThdE%2BGujXOvzu393dZI8an/edRWef2hf24visfK%2BB/wCxhD4Uspf9T4g%2BMPiaO0Kj1OnWHnzk%2BzvH%2BHb3nw34W8M%2BDtJj0Hwh4csNKsYRiKy02zSCJPoiAAfgKv0/b4Sn/DpX85O/4R5V%2BLDkqy%2BKVvRfq7s%2Bdj%2ByJ%2B0b8V/337Tf7bHiSW0k%2BaTwv8LbFPDdiM/eja4Vpb2ZMcf65M%2BnXPoXwV/ZD/Zo/Z4ka8%2BD/wAGtF0i/lz9o1o25uNQnJ6mS7mLzyZ5%2B856n1r0evPL/wCN%2Bv6J8UtO8EeJPhPqGn6PrWsSaVo/iGfUbZvtV2tvLcf8e6MXWJkgl2uTuJQ5RRg0nicXXi4J2j2Vor7la/zuRJYeg1KW7dru7/HW34HodZXjDxv4X8BeGr/xd4r1UW1hpsYe9lSJ5WQEgABIwzsxLABVBJJAAOa8N%2BIfxa%2BJXhT4keLPGo%2BIE8Ol%2BDvEukWd34SltoPss2kXkVukl2HEfneaJZ/MD%2BZtVYWTZ1J8u8MfDc6lHa/A74b7dI8djSb6PxhGbYxK%2BpaZeLdabq92FAEhnuAp8/B85JZVyduBdPBJrmnLTT/N3%2BTWuu5xVszcZOFOF3qter1St31T0bTsvu%2BvfAPxF8I/E3RG1/wdqTzwxztBcxT2slvPbTKAWhmhlVZIZAGUlHUMMjI5rzf4nftWeItG8cX/AMJfgf8As8eLvHnibTmRL6RLX%2BzNHsndFkUTajdBYydjq2IVlODjGeK1PgR4c8dx%2BP8Ax18SPF3ge68MReJ7zT5I9EutSt7ktcW9oLeW7DQOyqJFSCMAkMVt1ZlUsVHp9YP2NGq7rmXr187b220aOpfWMRh1aXI7u7tra7WiltfR6p27bHgPxhuPHl148/Zhufifpml2evv8Xr06pa6JdyT2sUv/AAhXin5Y5JERmGMclRzmvfq8Z/ag/wCS3/s4/wDZZr7/ANQrxRXs1YN3dzriuWKV7hRRRSGFFFFABRRRQAUUUUAFFFFAHjP7eH/JEND/AOyzfDj/ANTXRKm8ZWv7bHgjxXqHiP4f6n4N8d%2BH7i6ea38MaxDJo%2BoWcRPEEN3H5sUuB/FLGpPdvWH9vD/kiGh/9lm%2BHH/qa6JXskcsUoJikVtrFTtOcEdR9auE%2BR7J%2BpzYrDLExS55Qa1Ti7P8mmvJpo8Rh/bp8D%2BEZV079o34a%2BLvhjdbgjXXiTSDPpjv6JqFp5sBHu7J9OleteDfHngf4iaOniHwB4x0vXLCT7l7pGoR3MR/4HGxFak0MVxE0E8SujqVdHXIYHqCD1FeS%2BMf2Gv2Z/FesP4q0v4f/wDCLa62Suv%2BB76bRrxW/vF7RkDn/fDVd6Et04/ivxs/xZxcmc4f4ZQqr%2B8vZy%2B%2BPNB/OMT1yqPiPwv4Z8Y6RLoHi7w7Y6rYTjE1lqVok8Mg/wBpHBU/iK8c/wCFIftd/Dj5vhF%2B1dF4is4/9TovxR8PJdkj0N9ZmCb8WV/x7%2Bk/CTVPi/qvhiR/jb4Q0TR9ZhvHiWPw9q8l5a3MIVSsytJFG8eWLDYwJG0HPOApQ5FzRkn96f3bm1DGTrz9lWoTg7dUpRf/AG9FtfJpX7HmWqf8E6/2bbbUJdd%2BEtn4g%2BGepzNue%2B%2BGviO40lSfe3RjbMPZoiO3SvA/Hf7Tf7T3wl%2BLEXwF/ZU/aLi%2BPviZJ/JvvDes%2BBoZBo0ecF7zVbGe2ijKkEHepIIw20kV7t%2B0loXiz4q%2BKbj4Q/CL4y%2BI7DUdd0%2BbT/Eqab5cljoVjJbTL9qdtoeK58wx%2BWiSq7nquwMw%2BZ/h34u%2BPP8AwS4%2BJPhP9mq7XwX4q8J63rWm6fv03wrNpepXsl5I8f2hZl3R3UkRRTJuZ3AljUAAhl%2BjyqNOvSlKtJVai%2BGnLS6s225NN2VvhUot/wAyR8rm%2BLhhayjSg6NLm5ZVYa2baslFSUbu%2BsnGXK9OVy23vBfwx/a08HfHKL9or9ub9nzxZ8U9W0e7eXwtJ4B8Q2N1pOghhgNb6VK8EhlH/PQlz8qty6hq9/tP%2BCj/AOyxZ3KaZ8S/Eeu%2BAL92Cmx%2BIPhO%2B0gqfeWeIQn8HNdh4c/aW8Ia94km0u70LUtM0swajNpviXUGgWyvksJfKu2UiQyRhGywaRFDoCykgHHQ%2BB/iR8PfjFpF5J4Yunvbe3lEF7bahpc1uylkV13RXEaMVZGVlbBVgcgkV5uMxssbJSxFO1lZcr5VFdlGzil%2Bu93qexl9Chhk4YPEJuTbfOuaUmt25XjJ6Ws9Va1tB/gX4v8Awm%2BKFuLv4afE/wAPeIYiu4SaHrUF2MeuYnauiryfx1%2Bwp%2Bxz8SLg33iv9m3wi92W3G/sdHjs7kn1863CSZ991c7/AMO/vA2gfL8J/j58XvBUS/6q00T4iXVzbIf%2BuN/9oTH4Vx8mDltNr1jf8Yv9D1PaZjD4qcZf4ZNfhKP6nvVFeDD4A/tseGefBf7eC6nFH/qrTxr8N7G63D0aaze2f8cE0fb/APgpj4c%2Be58OfBTxXEnVbPUtV0eaQewkjuUB/wCBYo%2BrRfw1Iv5tfmv1D67OPx0Zr0Sl/wCky/Q93lijmjaGaNXRhhlYZBHoRXEeLP2Yv2a/HpY%2BOf2e/A%2Bsl/vnVfCdncE/jJGa8/8A%2BGiv2zNF58Vf8E%2B765jX/WTeFviTpd5%2BIS4%2BzOfpij/hubUNO%2BTxZ%2Bxb8c9NZf8AWND4Ij1BB9DZXExI/Crhh8XB3pv/AMBkv0khPMME1791/ihJfnBhq3/BMD9gHVrk3v8Awy14ZsZj0l0SKXT2H0Nq8ePwqr/w7K/Zl07nwZqfxG8NkdDoPxa16Hb9A12wH4Crf/Dx/wDZnsPk8Xr458Ov3j174Ya3Bt%2BpFoyj8TUlr/wUv/YRuphby/tLeH7SQ/8ALPU/OtGH1E0akV0c%2Bdpbzf3v/wCSMvreTX%2BOC%2BaX58pQH/BPq0teNF/bO/aCsgPugfFCW5x/4FRS/rR/ww/8TrH/AJAf/BRD44Regvr/AEe6x/33pwrr9N/bn/Yt1cD7D%2B1n8OCT0WTxpZRsfweUGtuy/af/AGatSAOnftDeBp89PJ8W2bZ/KWoeIzNfEn84L9aZtGpl0vhnH5TX/wAmebf8Mj/tP2/Gnf8ABSf4iqB0%2B0%2BFvD8387EUn/DLP7Yy8Rf8FMvGAH%2B38O/Djf8AtnXrkHxt%2BDF0M2vxd8MSD/pnr9sf5PVhfit8LnGV%2BJOgH6axB/8AFVH1vGLeK/8AAI//ACBoo4V7S/8AJv8A7Y8b/wCGVv2wZOLj/gpj4zI/6Z/D/wAOp/Kzpf8Ahj/9pC641T/gpH8TnB6/ZNB0GD%2BVgcV7E/xa%2BFcQzJ8TPD6j1bWYB/7PVS5%2BO/wPswTefGXwpEB1MniK2X%2Bb0LFY17RX/gEf/kAawq3l/wCTf/bHk/8Awwr44vPm1v8A4KDfHmc91tdf0u1U/wDfrTgR%2BdH/AA7x8NXnHiD9rD4%2B6mp%2B9HP8W72FG%2Bq23lCvRL79q79lvSwTqX7SfgC3A6%2Bf4xsUx%2BctYWqft9fsRaQCbv8Aaz%2BHrY6i28WWsx/8hu1Wq%2BaS%2BFP5QX6UzKVXLYfFUj85r/5M5j/h19%2Bx/ffP4r8N%2BLfEEh%2B8/iD4l67dbvqrXmw/981qeHP%2BCa/7A3heUTad%2ByP4FncHO/VNBjvmJ9SbgPk1Xf8A4KafsMFzHYftAWGosDjbo%2Bl3t6fwEEL5pv8Aw8T%2BB2pceCPAvxR8TE/d/sL4Uay%2B76GS2QVblnTVm5perX6xMli8nT0nB%2Bln%2BSkep%2BEfgr8G/ABU%2BA/hL4Z0Qp9w6RoNvbbfp5aDFdNXgx/bU8dax%2B68EfsJ/Ge/kP3G1TRrDS4j9WurxWH4rR/wvD9u7Xf3Xh79hfS9I3/duPFXxUtF2e7R2UFxn6Bq5pYbEyd5tfOS/wDkmzVZhhErQUn6Qm//AG1I95orwb%2Bzf%2BCmHiX91d%2BKPgt4Tifq9jpmqaxPGPYySWyE/VaT/hl79qTxR%2B6%2BJP8AwUD8VeQ337fwT4R0vR8f7sjx3Eo/77NT9Xpr4qsV6Xf5L9R/XKsvgoTfryx/OV/wPeq4T4iftQ/s3fCQSD4mfHjwjocked1tqPiC3jmJ9BGX3sfYAmuA/wCHc/wC1z5/ix4k%2BIHj5/8Aqc/iHqVzH/35jljhx7bMe1d38O/2U/2ZvhKY5Phr8AfB%2BizR423Vh4et0nyO5l2b2PuSaOXBx3lKXokvzb/IOfMp7QjH1k5P7opL8Tgz/wAFE/gx4j%2BT4K%2BAfiL8R26CTwZ4EvHt89s3NysMGP8Aa8zHvR/wtv8Ab6%2BIX7v4f/sp%2BGPBVu3MepfEfxoLiTb6m001JMH2My%2BhxXvdFHtqEfgpr/t5t/h7qD6ti6n8Ss/SKUfxfMzhvgj4W%2BPvh6z1C6%2BPvxZ0XxLe3ssb2dtoHhk6dbaaoDb40LTSyTBiQdzkEbenNZXxO%2BFfxf8AGPxu8N%2BOvCvjLw5pui%2BH9LuEjj1LRp7y6F3PIiyyxhZ4o1P2dDGrtv2%2BbIdhyK7Dxz8VPhj8MbP%2B0PiR8RdD0CDbuEus6tDaqR7GRhmvL5/2/fgVrErWfwi03xb8RblGKtF4E8J3V5ED73LKluB7mTFKDrym6kY7%2BWnbyX4mGJxOV4WCoV6yTTTs53m7O%2By5pv8A8BO71j4C/DfxZrGl%2BJ/HejDW9X0iXzLTVLzEchxIJUV1gCJKiOqsqurBSoPXmuzrw8/E39uT4h/J4B/Zz8N%2BCLVuU1H4h%2BJvtU5U9/senhsN7NOvvikP7LPxn8f/ALz49ftf%2BK76FuW0XwLbReHrPB6ozxb7mRe3Mwz%2BlKUG0vaTWnz/AAWn4mcMe5N/VMNOV%2BrSpp%2BrnaT/APAGeh/FL4%2B/BP4J2f234s/FPQ9ABXdHDqOook0v/XOLO%2BQ%2ByqTXnX/DX3jb4jfuP2aP2ZfFniiJ/wDVeIfEkX9gaSVPSRZLtfPmX2jhOfX07D4Xfsnfs5fBm8/tb4efCHR7TUi259ZuYDdX7t3LXU5eYn6vXodTzUI7Jv10/Bf5l%2BxzjEfxKsaS7QXNL/wOei%2BUDwT40SeN5fiD%2BzHJ8SLXS4Ndb4v3p1OLRJpJLRJf%2BEK8U5ETSqrsuMcsAa97rxn9qD/kt/7OP/ZZr7/1CvFFezVk3d3PUhHkgo3bt1e79dtfkFFFFIoKKKKACiiigAooooA%2BXfgN%2B2N8bfiB8YvC0njbTPCy%2BA/iZrXi7TPBVnpem3MWq6XJot3LFDJeXD3LxXS3dvbXMxWOGA27eXHmfJkF34V/tT/F3Xf20vFfwN%2BLHibRPDOi2/ie503wBoF/8J9btLnxPbRaXb3ZuLXXp7safdyK7XZa3ggaQR2rkgBGcdF4O/YM8DeAviTN8RvC/wAXfG8AtrrWbrwpoTz6dLYeFp9WvVvNSlsUeyLs08ocf6S84hSaWOAQq%2BK3779lqDxF8ctF%2BNfj343%2BNfEUPhbWrnV/CPg7Ujpkek6LfTWdxZNPF9msorqYrbXd1GgubiZVE7EDcqMoBxn/AAUL%2BLnwo8NeD/Bnwo8R/E7w9p/inxB8Yfh7LoPhq91qCLUNSSPxnozSNb27OJJgqqxYopACknGDXa%2BL/wBkP4U%2BIfEt7468L3/iHwf4g1Cdpr7WvB%2BvzWUlxIeS0keWhlJPXfGc96y/28P%2BSIaH/wBlm%2BHH/qa6JXTeIvit8T/B%2Bu3cWs/APVdR0aOdhaar4a1CG7lePPys9sxjkU46hd/41lWr06CTne3km/vsnb7jzcypZdVpRWMp80U9HyyfK7b3j70dOqa7XOc/4Qv9tD4fc%2BEvi94Y8d2a9LPxlo7afdhR/CLqyyjN7tD9fWj/AIah8feDv3fxq/Za8Z6Mq/f1Lw2keu2Sr3YtanzlH%2B9CPeui0T9qP4HaverpF/42j0TUDw2neJbaTTplPpi4VAT9Ca720vLTULZLywuo54ZBmOWFwysPUEcGlSxFCur05qXo0/8Agr5pHBQwsKivl%2BNlp0co1Yr1U/fX/gaOA8DftYfs3/Ea6/s7wr8Y9Ee93bTpt9dfY7sH0MFwEkz/AMBr0EyRrGZmkUIFyWJ4x65rB8c/Cj4YfE21%2Bx/EX4d6Jrse3CjVtLiuCo/2S6kr9RXxL8Rf2d/hn8e/2xn/AGQf2efHHijwn4H0Dwtc3Xxa/wCEL8S3S20lzLIsdvppWRpII3xl2jCYKlwRlDt9PAYJ42q05csIpylKzdoryW7baUVdXbS7k4vH51lqgqkKdVzkox5ZSpybd/syU42Vryalok32Op8bftFfDTxD8Sda8A/8E3vhxd%2BMPiDq95K3iHxDo2q3ln4a0yZ2Be7vZEdYLiTIBGxWZhuAfPyt2Hwt/wCCd/iWf4yaD%2B0r%2B1N%2B0Fqvj3xno0jXFrbLbi30zTpSchLWLJEcanByFVnKKx2/MG6T4dfsz/tC/s6eD7LwH8AfjX4YudB0yPy7DQvFHgmOJUX1a4sXiZnPUuyMzE5JJzW5/wALR/bA8KfuvF/7MOkeIETmS98FeNIwSPUQX0cJ/DeTXXXzOFODo4KPJF6OT1nJbavaKt9mOndyPJo0KXMqma0Kiaakoxg3Ri073SpSnzO%2BvNON%2BvLE5DWv2Vfitc/C288JaxqOmakuieHn0vw5Y6bMyS6pG9yJbp53lCJDNPAvkbQSimR2L4IC%2Bn/Bvw34sl8Y%2BLviz4y0G50efxLdWkOn6LeTxSTWlnawlE80wu8fmPLJO%2BEdgFZBuOK5/wD4bP8ABmi/8lL%2BEvxH8JKv%2BsuNY8FXE0Cn/rrZiZD9c1s%2BFv2wP2XPGUgg0L49eFzMTgW15q0drNn08uYo%2BfbFebKvOcWmehhK3DlLExdPEpSX2ZSUW2k0tJqEtE2krW9Wrur8Rvj58Vfhz4yvNLH7JvjHxF4fh8v7J4h8LX%2Bn3LXGY1Z/9FkuI5U2sWXoc7cjrWH/AMN%2B/BHR/l%2BJPhjx/wCDG/6mj4ealCg/7aRwyR4992PevZtN1XS9ZtVv9H1K3u4H%2B7NbTLIh%2BhUkVYpKdK1nD7m/%2BCetLD5i5OdHE6PVKUIyXonGUXbtv6s8u8Lftt/sg%2BMmEeg/tKeDGkY4WC61%2BC3lJ9NkzK2fwr0LQvFPhjxRB9q8NeI7DUYsZ8yxvEmXH1QkVS8U/DD4a%2BOAy%2BNfh5oesBhhhqmkw3Gfr5imvPdd/YE/Yw8QT/arr9m3wray5yJdJ04WLA%2BoNsUI/Cn/ALO%2B6%2B5/5E3zyHSlP51IP8po9eorxIfsBfA3TOfA/iX4heGD2/4R/wCJerxAfQPcOB9MYo/4Y68U6d8/hf8AbR%2BMdmw%2B6t5r9nfIPqLm0dj/AN9UclF7T%2B9P9Gw%2BtZtH4sKn/hqx/wDboxZ7bUV3ZWd/Ebe%2BtIpoz1SWMMPyNeL/APDP37Wdh8ujft66s6D7q6x8PtJuMfUxpET%2BdH/Csf28tM5sP2rfBWp46DU/hg8WfqYb/wDpR7KHSa/H/IP7RxS%2BLCVPl7N/lUR6TqXwc%2BEWsknV/hX4buiev2nQ7d8/99IaxL39lH9lvUiTqP7NngC4J6%2Bd4OsXz%2BcVcj/Zf/BRm0%2BWLxp8F74Do03h3VoGP/fN24/Sjz/%2BCjkP/ML%2BCVx/2/6xDn/yE9aL2sdqq/8AAmYyxtCXx4Sp/wCCov8A9uZuT/sQfsYXJ3TfskfDMk9SPAung/pDVdv2DP2JXOT%2ByT8Ofw8HWY/lHWX/AG3/AMFF4f8AWfDj4NTf9cvF2qr/AOhWNH/CU/8ABQxeD8G/hO3uvjjUB/Owq%2BfFL/l9/wCTv/MzeIy574Of/gg1Y/2D/wBiaM5X9kn4cH/e8GWR/nHVu2/Yp/Y3szutf2TPhpGR/EvgTTwfz8muf/4Sf/goc/C/B/4Sp7v431E/ysKP7W/4KMzfc8B/BaD/AK6eKdWc/pZD%2BdDninvW/wDJ3/mCxGXrbBz/APBCO0sf2Yf2atLIOm/s8%2BBrfHTyPCVmmPyird0z4Y/DbRCDo3w90O0I6G10mGPH/fKivLt3/BR2b/lj8Erb/trrE%2BP/AB1KP7B/4KJ3/wAtz8TPg9p4P8Vn4R1Odh/38vVB/KoaqS%2BKov8AwJs1jjaMfgwlT/wXFf8At6PbEjSJBHGgVQMBVGAKWvEv%2BFR/tzah81/%2B2P4asM9U0v4Vo2Po01638qP%2BGcP2mdT%2BTxL%2B3t4qMZ6po3g/RrP8mNvIw/M1n7KHWa/H/I1/tDFv4cJU%2Bbpr85s9torxI/sW3F7z4k/a7%2BNWoFvvKvjZLJT9BZwRED8apw/sKfskaxq82h%2BJ31zxPqdvGsl1ba/8RtUvJkRujPE11gA%2BpXmjkoLef3L/ADZLxeauyWHjG/8ANVj/AO2wZ674m%2BJvw38FKzeMviDoekhfvHU9Whgx9d7CvPNe/b7/AGNPD1z9iuP2i/DV7PnAg0S8OouT6BbUSEn2FVvhd%2By7%2BwRewzXvwt%2BC3w31YWVwYZ7q10y0v2hlABKmRg5VsH1zXrOg%2BFfC/hW2%2Bx%2BF/DdhpsOMeVYWaQr%2BSACj/Z13f3L/ADFTnnOIgpQlRSfVc9T8bxizyD/hurwTrPPw3%2BB/xX8Wo3%2BruNH%2BHt1BC3/bW9ECD8TR/wALy/bD8UfL4I/YrGlxSf6q98bePbO22j1aG0W5f8Mg17dWb4i8Y%2BEPCFv9r8WeKtN0uLGfN1G%2BjgXH1cgUe0pLaH3tv/Ic8LjuXmr4txX92NOC%2B%2BXO/wATyL/hEP8AgoH4xGzXvjN8OPBUR5x4Y8K3Oqzj28y8mjT8fK/A0f8ADGWqeKP3nxi/ar%2BKPicv/wAfFlba%2BmjWco9PJ06OE49i5rb1v9t39lLRLv8As8fG3SNSue1t4fMmpyMfQLaLITVL/hrW/wBf/d/DP9mf4ma8z/6i5n8Prpds/v5t9JEce4U0e3qL4bL0S/4LPKlV4acuWpiHWfb2k6v/AJLTuvwNDwP%2BxR%2Byh8O7z%2B1PDXwG8PNfbt39papZ/b7rd6%2BfdGSTPvur0%2BGGG3iWC3iVERQqIi4CgdAAOleQf8Jd%2B3B4t/5APwc8DeEIv%2BenibxPNqU2PXyrOJEz7eb%2BNJ/woj9ozxb/AMlJ/a71S1gfmSw8DeHbXTAvsJ5hPLj3BFZynObvJt%2Bp2YfF0aEOTAYKdvKEaUfvm4v/AMlbPXNQ1LTtIs5NR1W/htbeJcyz3EoREHqWJAFeY%2BIf21P2bNE1FtC0v4jxeItTHC6V4QtJtWnZv7uLRZAp/wB4iqNj%2Bxf%2BzPHrML%2BOdHufGGsFTIk3jjxBcapLIB1YRXEjR4%2BiAV3fw%2B1n4UQzXPgr4bQ6bZ/2exEun6dYC2jXaxRigCqrgMNpKZAPBINZOpBSSbV2aOtnVWSi3So30V26kvSy9nC9vU4P/hen7RfjobPhN%2Bytf2EEnEerfETWItMRD6m2h86cj2Kof5UH4LftNfED5/ix%2B002i2sn%2Bs0f4b6Ollj2%2B2XJlmP1UJ/h6rr/AIm8N%2BFbI6l4o8QWOm2w63F/dpCg/wCBOQK4S5/as%2BFF3O9j4D/tjxfdI2Gg8J6NNeKPrKAIQPcvWVXFYag7VJpPtfX7tX%2BBhXwuEpu2YYuU2/s8ygn6QpWk/vkch8cPC1n4K%2BI/7MvhTT9Qv7uGx%2BMF7Glzql89zcSf8UV4oO6SWQlnY56k17xXhfx71a9134ofs0axqOgXWlz3Hxhvnk0%2B9ZDLAf8AhCvFHytsZlz9Ca90reMlKKa6nv0lTjSiqatGytvtbTfXbvr3CiiimaBRRRQAUUUUAFFFFABRRRQB4z%2B3h/yRDQ/%2ByzfDj/1NdEr1Ky8b%2BDtR1WbQrHxTp8t9bymKezS7TzUcHBBTOf0ry39vD/kiGh/9lm%2BHH/qa6JXpviX4d%2BBPGAP/AAlHhDTr5iP9bcWilx9HxuH4GuLG/wBoqCeD5G76qfMk15OF2nfq015Ey5uhd1vw9oHiaybTPEeh2eoWzfet762SVD9VYEV534h/Zo%2BAvh21uvFWmrceCRAhlutV8P67LpkcKjqzBXEQA9WXFO8d%2BD/APwg8Nz%2BLk%2BJniHwvZW%2BAkNpqEl0kkh%2B7HHbSLKZZGxhY4wWY8AV8u/DP9mr4%2Bft66Za/tDftSeJLvVvC82q3Evg/4V%2BIBNpdp9hSQrb3V1HahTJM4BYbwRtYHJRwoxwq%2Bswq1c1w3JGkou9NwrTlzNpKnBOlU6Nty5YpJ%2B85e6/DzSVOdSFJYZVasr2vZKKVruU7cyWqsk%2BZvZbtWbv4uftLftKfEvUvgH%2BwT%2B0nd6p4W0y18vxb8UddsLaeDTpH%2B7bWNxFEpuZyuTvHCg5DDhq9d/Zv%2BD3xU/Y2%2BG8Xw08I/AzR/EVuZ2utU1zSPFGy/wBUun5kubgXcaeZK3%2B/gAADAAFeheENT1b4T%2BHrfwlpv7Nv9j6RZJstrXwdJayW8Y/2YV8plH0X861I/j98NYXEGv397osxODFrelz22P8AgTpt/WpxfFeQewWEoV5YWkne1TmhKT7zlVgoyf8ALFT5Yr4U9ZPmwmSRozVerXl7XWzTfLFO3uwjU57LRXbfNLq7Wisj/hp3QtJ48ffC/wAb%2BHAvElxfeGpLiBT/ANdbXzVx78Vq%2BHP2kfgJ4rcQ6L8XNBaYnAt7jUEglz6eXKVb9K6TRfGXhHxIAfD3inTr7PT7HepJ/wCgk0zxH4E8EeMIzF4t8HaVqikYK6jp8c4x/wADU1dGeIrU1OhWhUj3srf%2BBQk0eqqeaQXuVYTX96LX4wl%2Bho2t3a3sC3VlcxzROMrJE4ZT9COtZXin4dfD7xxGYfGvgTRtYQjBXVNLiuAR6YkU1yN1%2ByV8AXna80nwKdHnY5E%2BgalcWDKfUCCRR%2BYqP/hnnXdK/eeD/wBojx7YMv3I73U4dQiH/AbmJ2P/AH1WvtcdH4qSf%2BGS/KSX5k1J46UOWth4zXlOLX3TiijqX7DH7KF/dtf2nwasNKuG/wCW/h65n01h9DayR4qD/hj6x0z/AJEv9oj4raGq/wCqgg8ZvdxJ7BLxJhj2rV/4Qj9qHRvn0j466Dq%2BOkWu%2BD/Lz9Xtp0/RRR/bX7W2kfPe%2BA/AutKO2na9dWbt%2BEsDgf8AfRo%2BuNfHSmvlf/0mT/I8t4DJk7ywEoPvGFvxo1I/kZX/AApL9qPSfl8N/tm3U8a/ci8ReBbC649C8HkMfrmj%2BzP289I/d23iz4U62i9HvNH1Gwkb6mOaZR%2BC1q/8Lg%2BNenfN4g/Zb1jYPvPo/iKwu/yVpI2P5Uv/AA0rb23/ACGvgd8R7ED7zP4UadV/G3eQUf2hhV8Ta9YyX/tovZZTD4a9an/2/WX/AKXCaMn/AIT79tjRfl1T9nTwZrOOr6L8QJIM/QXFmP1Io/4X5%2B0Vp/za/wDsT%2BIgg6vpPizSrr8gZo2P5Ctb/hrf4GwfLq%2Buarpr901PwxfwY%2BpaDH61Zsf2rv2btQO2H40%2BH0Ppc36w4%2BvmYxTWYYBu3tY/%2BBJfm0NTw17U8za8pSov/wBKhFmB/wANZava/LrH7JvxctiPvGLw3bXK/gYLlyfypf8Ahs7wTb/8hr4QfFPTh3N58NtRwPxSNgfwrt7H43fBjU8HTvi74YuM9PJ1%2B3b%2BT1rWnjPwff4Nj4r02bPTyr6Ns/ka3jXoT%2BGafo0/yZ1Qhj5/w8fGX/cOk/8A0mojzL/hun9nWHjU9W8S2Ld1vPAOsJj8fspFH/Den7KC/wCv%2BKbQ/wDXzoF/F/6HAK9dinhnXfBMrj1RgadWpt7DPemIpv8A7hP9Kp4//wAN9fsfD7/x10pP%2BusM6/zjFKP2%2Bf2OD/zcFoH4yuP/AGWvX6Qqp6gH60B7HP8A/n9S/wDBc/8A5aeQn9vr9jgdP2gdBPsskh/ktH/DfH7IR/1fxu06T/rlaXD/APoMZr18ADoKKA9jn/8Az%2Bpf%2BC5//LTyD/hvP9lZv9R8SLqf/r28MalL/wCgW5o/4bk%2BA0//ACCF8X6gewsvh7q7Z/76thXr9RXF9ZWgzdXkUQ9ZJAv86G0twdDPba4mmvSk/wBapzfws%2BLWjfFvTrrVNE8MeI9NitZhGR4j8PXGntLkZ3RrOql19xxniuI%2BOVle%2BF/iV4a%2BIekalJDENbtINY8vxNdGeRZG8lYIrAk27K28F2G1/lJAJ5r0m8%2BIHgPT8/b/ABtpEGOvnalEuPzauT1f4h/sqQeJY/Gmt%2BNfAH9tQIEh1SfULI3aKM4VZCd4AyeAe59axliMPD4pperS/UzxsY1cFGlVrw500%2BZtQ2d7pKT9LXs9btXPNP2hL7w8fHGsa7qdzbS6zJpOnP8ADW6idWllnjuv38Fm/UzOxCuqHcyOQcqDiCbwneal48vfA2n6LdW3iyfxDrrXepiykUPpt3aOUlM%2BNpj3mNEXdlWjAAAXI9Mf9q/9mXS1WztfixorBBhIdPLTYHsIlP6Un/DWHwjuvl0CLxLq7dl0zwdqEmfoTCAfzrF5jgP%2Bfsfk0/yueNVwuU1cRKpPFw1d2lZvXfVNvm6Rla6jpqY3wG0/xHd%2BPoNbuPCmp6RDpvgKx0XWY9Q02S2SXUIJW/1O5QJkVd48xMqQyYPp1XxT%2BFHjb4i6tbTaJ8fPE3hTT4rby7iw8O29mGnfcT5nnTQSOpwQMDjjOM5rO/4aL1C8%2BXQv2efiNdsfumbQo7VT9TcTIR%2BVJ/wtH9oTUP8AkD/swyQK33ZNZ8YWkOPcrCJT%2BFL6/hn8Lb9Iyf8A7aj0aP8AZkcF9WlKdRN3fLGor7fyKNlorpSs9W97LK/4Yt8A6p8vjz4pfEnxOh%2B9DrPj69WI/wDALZolH4AVo%2BHv2Lf2UvDE/wBr0/4CeG5585%2B0apYC9kz677je2ffOak%2B0fte6p80Wm/DzRkboJrm9vpF/BVhUn8aP%2BFa/tGar82uftJQ2St9%2BHQPCFvHgege4eU/jgUfW5y%2BCjN/JR/8ASpfoRDA5Spc1PL3J95Qjf76s5s7/AETw74f8NWgsPDmhWenwDpDZWqRIPwUAVb3Lu2bhuIyBnnFea/8ADNNlqP8AyN/xl%2BIGsq3%2Bshm8TPbRP7bLVYhit/4f/A34V/C7Upta8D%2BEktL25g8m4vZLmWeaSPcG2tJK7MRkA9e1XCpi5zXNTUV5yu/uSt%2BJ7FCpjXJR9jGEP8abS8lGNvxRS%2BNfiD4geEdKj8TeELxpIbcjztPh0Q3JkIyzNLIHzFEEByVQtnGCchag%2BKPh/X/Fdxonivw3f2t1pdtbzSXlpc%2BI7mwtplYI0cpMAIlwV4D4XDHmrnxWl03U9Q0jwdqN9q8UOpTtHdjS7wQgxNiMCU4LFWZguFIOT1xWZ4607R7NrnSIPBuj3umaJp0Oo3Nhq1kbgOq7owIt7bYtqRsc7TkjGBnNeNjsxwtJ1%2BaTai4ppXbUrOe3blTct9E1ZvQwxGHq1alVN%2B6%2BW2r0ktdLJ2Xddexxt9rFrr%2Bsx%2BOU8OXcWs%2BIDomp%2BFZHs3eVNy%2BVNbeYB8qxruaRSQCJC2DurpfA3gnxfpHi3w9odzoF1Db%2BFZdTQ6y0sZgvLKdj5ESgNvL/AOpLZXAMJ5O4VpR%2BIfFKX817Y60RE%2BryaVb6b5EaxQAxBoHUBd24ZDNkkEE4AAp3wr1Bf7UsbfTNQmmh1Dw6l5qUE928z294GRW3FySpbc4I4GYjxXm4bNMNUx8KXLK8pb%2B6r%2B87Oyve8otvVShG101e2NHLYxqqcptu6eiSvrfXfeSvfdKy2Oo8TfD3wJ41vLPUPGHg7TNVm07ebF9Rskm8gvt3Fd4OCdq8%2BwrUhhtNPtRDBFHBDEuFRFCqij2HAFYvjDQvEPiKe3stA%2BIM%2BiqisbuOztYZJZgcbSGkB8vHPIBzkdMc5CfAXwPduJvFt1q3iGQHIbXNVlmUf9swVj/8dr26%2BKzFYmcMHhVLo5yqQjFuy6RU6jttqo/dZnrezUKjlGCTe70V/XS7%2BZxf7TFxb3fxo/ZvubWdJY3%2BMt8UkjYMrD/hCvFHQjrXtNeJftHaZpujfGD9m3S9IsIbW2g%2BMl8sNvbxBEQf8IV4o4CjgV7bXr0/aezXtLc1le17X62vra%2B19e5srhRRRVgFFFFABRRRQAUUUUAcx4c%2BNvwY8Y/EHWfhJ4R%2BLvhjVfFfhxFfxD4Z03X7afUNLVsbWuLZHMkAO5cF1Gcj1otfjb8Gb74p3PwLsvi54Ym8b2dgL288HRa/btqsFqQpE72gfzljIdPnK7fmXnkV8cfs8eHvGfgv41eA9D8QfCDxrp2pfDHxP8Sb/wAf%2BJj4H1FrXUrbWNYkktBa3KQFdSN689resluZTCLRvPETxhau%2BDvh/wDEGL9qTw98N5fhR4oh17Qf2nfEnj3WvGcvhq6TSpvDt5oWp29tImpmP7NPIVvbDT/sqyGZPszMYxHCr0Ae9/t4f8kQ0P8A7LN8OP8A1NdErlfin%2B3J4L8B/FrVvhL8BPhn4z%2BKvjizwmq6F4XJbTtMmc5AurqQmK2PGDgNtOVIBBA6D9tn4P8A7T/xh8K6LpnwB8U%2BAlttJ8YeG9e1Dw54w029hfVW0vXrHUzHHqltLILEMloVybG63MQPkDbl8U/4J52H7Ynw1%2BBGo6R8Nv2ZfhPcwj4g%2BJrTUtR1X416jDdXd5Zazd6fO7mPwy3mL5lo4jZm3GLZuCnKjalhcmqtYjG0/aTpNOnG8ormd05OUWnZLTl%2B1fXY4cY8zlKNLCzUIyvzyspNJWsoxel2/tO/LbZtndSfCr9sz9oqHRfE37Sen%2BG/CVno3iaDVNP8G%2BGr5r2SVEUqsV3M0ZXcHfczxNtKrt2jLE%2B%2BeMpNNm062aa9so/s26YWV1keftUrtXlTkHocHkDjmvPv%2BE4/4KF/9Gv/AAZ/8Pxq3/zL0j%2BNP%2BCg8gAk/Zb%2BC7AHI3fHfVjg/wDhLV8tnXD8c0qYupTko/WIxXK03CPK%2BZctvetdJ8spSi7Wsoykn6GBawUIptya3k370tLa6JbXWiX3pM7%2B41G%2BMzS2V1NbraPawwWe4EOzgMyvnJJ2sB14xmrOna9f6hfWxuhC9nqLTiCDyjuVEzhyxOCGA6Y/iFeXyeIP295dRXVpP2UfgsblBhZT8d9WyOCP%2BhX64J596g03Vf2/NLujdw/sx/B9yFZYUk%2BPerFYVY5KoP8AhFuASB69AK8ejkfEWHx8ZRr3pud3aTS5U1ZuLTWsL0/ZwtBPlk72Vu6VfDSptOOtu36%2But3ruj1PWvhB8LfELGTV/h/pMrnrMtkiSf8AfSgN%2BtZv/CifC1l/yLPiLxHow7JpviCfZ/3xIzr%2BGK8Ym%2BOX7dnjL4y638Drb9mj4Z2Oq%2BGPDGk67dXlr8ftUjglg1K41K3hRT/wjBLOraVOWDKABJHgsSwXr9M8Wf8ABRCwsY7Of9m74P3TIDmef48arvfknnHhYD26dq9WeS5dicynGrl0FG11VTgnJ6XTUFTqRe%2Brk07eaOCVGg4KV1ftZr8djuP%2BFffFDTuND%2BN926D7ser6Nb3H5sgjb9aNv7Qun8CTwhqar3Zbm0dvy8wZrjv%2BE4/4KF/9Gv8AwZ/8Pxq3/wAy9H/Ccf8ABQv/AKNf%2BDP/AIfjVv8A5l66P9XsND%2BBWrU/8NabX3T9ojL2a6N/f/w52P8AwnHxesv%2BQl8EjMB959M8QwSZ9wsojNH/AAuWS241f4T%2BMbUj7zLo4nUfjC71x3/Ccf8ABQv/AKNf%2BDP/AIfjVv8A5l65fVv2jv27dH%2BM%2BgfA64/ZQ%2BEjap4i8L6vrtncp8ddU8iODTrnTbeZHJ8Mbg7NqkBUBSCEkyVIUMf2Xm1P%2BFj5/wDb9OjP8lTYcs%2BkvyPWv%2BGgvhdF8up6te2Dd11DRrqHH1LR4/Wtrwp8RPA3jlpU8IeKbPUGhUNMltMGZAehI6ivM/8AhOP%2BChf/AEa/8Gf/AA/Grf8AzL0xPF//AAUCilaeP9lf4LK7j5nX466qCfqf%2BEWrfDUc9p117evTnDranKMvk1UlH70NKonq193/AAT0Px7421Lw7JBY%2BH9PjurgzQG780NshhklEYJx/ExJCj254qD4g65Da3DWFv4UsNTkgsJL29F/gKkCZGF%2BRsucHAOBxyRXk/i7S/22PGs0V5rf7IfwQe5jmif7X/wvDVPNZY3DBCx8LZ2nGCPQnFQeJYP%2BCi/iAiSL4B/Bu3kmsZLG/kX426oxntnOdq/8UwAjAEgNzjceDXnY2lxFzYl03dSceTlauklK6tNWTb5G23JNc1rWScTjOSaeq/rud/eaX8J9a1aOK4%2BB/h66sGuLe3ub26023LpLMgZAEMZDKNyhjuBBPAPJqlo/wp/Zw8W6pFZzfs9%2BG7eC%2Bill0u7XR7ZRdpGwDkKigp94HnqDXknxe%2BJP7eXwXsLTxxrf7Nfwil0W%2B8b%2BHdP/ALMsvjXqjTfbb/ULPSbZvMbw2qiFZrmGWQbS2EcrnhD1Phe1/wCCh3h6702Wf9nf4L3EOj2E1pp0S/G7V0ZUkZCS7f8ACMncwEajIC9z345aWFzyWKj7anFw5tbxpWteztpdQ5dY/a59HocssDhaj9%2BlB%2BsYf/Inokv7IX7NMrb/APhTukIfWGNo/wD0FhTf%2BGQf2dh/qvh55f8A1x1a7T/0GUVxfi67/wCCiHiyKCOH4GfDHSTAzHfpH7QOqRmTOOG3eFGyBjj6msP/AIRz/gpNH/qPBfggf9dP2gL1v5%2BD69DFUp0a7jSy6NSP8ylRjf8A7dkk1bbciWU5ZfTDQ/8AAYr9Eeof8Mi/AIfc8Kagn/XPxRqK/wArij/hkb4E9vD%2BsD6eMNU/%2BSa8v/sb/gp0v%2Br8IfD0f73xzu2/91CuX%2BNvxC/4KTfAf4MeLvjj4p8CeA7rS/Bnhi/13UrWw%2BNNw1xNb2ltJcSJGH8JqpcrGQoZlGSMkDmufmr/APQqf/gdD/5JE/2Vlv8A0DR%2B6J7x/wAMjfAjv4d1c/Xxfqh/9uaP%2BGRPgB0fwfev/wBdPEuoN/OevL/7K/4Khn73hP4c/h8bbof%2B6jR/Yn/BTZv9b4P%2BH5/3Pjrdr/7qFHNXe2VP/wADof8AyTD%2Byst/6Bo/dE9Q/wCGQP2cm/1vw0hl/wCu%2BoXMn/oUpqW3/ZI/ZptTmP4MaGx/6a2u/wD9CJryr/hGf%2BCkL8z%2BCPBTeyftC3yfy8IUf8Ij/wAFC3/1/wANfBr/APdyurJ/6B4UFC%2BudMqj86lD/wCQY1lWWrbCw/8AAYf/ACLPZrP9nL9n6wwbb4I%2BFAR0ZvD9ux/MoTWvY/DD4aaXj%2BzPh5oVvjp5GkQpj8lrwL/hBv265P8Aj9%2BCHgW59RP%2B1B4g/p4ZFcv8Eb39pv49/Bjwh8ctB/Y7%2BGg03xn4X0/XdOt9Z/aT19p4re7to7iNJVXw8yBwsgDBSwyDgkc1tGWcr%2BHgKUfWrH/2ygzeGEw9P4KMF6KK/KB9dImlaPDtRbe1jHYBUX%2BlUL34geA9Nz/aPjbSLfHXz9SiTH5tXz/B8Nv2o4H8wfsNfAiRvW4%2BOmryn/x/wwa07LRv2v8ATsGw/Yc/Z9hI7x/GPUAfz/4RWtlPieW1OhD1nVl%2BUIHSvaJWSS%2B89WvPj18GrJtknxI0qQ9hb3IlJ%2BmzOagPx88AXHGjRa1qTdl0/wAPXcmfofLAP51w9n4m/b509dth%2Byf8EoB6Q/HPVV/l4Wqf/hOP%2BChf/Rr/AMGf/D8at/8AMvR9X4lqfFiKUf8ADSlL8Z1V%2BKC1Xuvu/wCCdj/wtzWrz5NE%2BDPiydj0N1aw2qn8ZZQR%2BVH/AAlnxt1D5NP%2BEdhZZ6Sap4jU4%2Bqwxv8AzrybwD%2B0d%2B3b8RPFfjfwho/7KHwkhuPAfiiLQtVkufjrqgSeeTStP1MPFt8MElPJ1GFSWCnejjGAGbqP%2BE4/4KF/9Gv/AAZ/8Pxq3/zL0f2VmdT%2BLj6n/bkKUP8A2yb/ABDkk95fkdj/AGf%2B0DqXyXXiXwtpSnvZ6bPdOPxkkQH8q1/CPhrxho13Ld%2BKfiJcaz5ke1IG06G3jiOc7gEG4ntyxrzf/hOP%2BChf/Rr/AMGf/D8at/8AMvR/wnH/AAUL/wCjX/gz/wCH41b/AOZet8PkuHoVo1pVas5Lbnqza/8AAVywfzixqCTvd/ed743%2BGMfi%2B7fUofEuo2c7C3wkFxti/cyF0JCgNkFmxhhgnNRfEDwl/aOnvdG/n%2B2TRvaKlrtQXMDEkwSBg%2BVC7iWGG%2B8QRk159e%2BKf%2BCiN3c288f7OXwggWByzxQ/HjVNs3s2fCpOPpjrXLD46ftt%2BMvjHrnwJuf2SfhK2peGvDWka/c3L/HnVlt3g1G41O2hRCvhncXVtMnLgqFxJHgsSwXzczyRYvC4yGHoqFSpZKTnpJ2%2BJJc3K480krx1etnFtPanChGpGU9V1Wv%2Ba/Cx7XqvhSwvW07xhoWlTLds0LyG1ddxQx7Q22Q%2BWXCkKHI3BeAaguf7JN1JqVq7WTmylkMgxG73MMmHMmzAkbtzkY6da880/Uv2/dO0pNGt/wBmb4QLAibVWL4%2B6vGRyTkFPCwIPOOtTx67%2B3pFaJY/8MnfBR4o33osvx21Z8NnO7LeFySc9%2BteJX4XzPHLnfJTlOMHNXbj7WMUm48nLKKbcpSkmnJxhpozsp18NRfuq9m7aJOz73vrbT0uegxCQaqjSWxTUZdUinjcRHL27Iu8FsfdUbxgnqorptUs7q/sHtLTU5bSRsYuIVUsozzjcCORx%2BNeRf8ACcf8FCh0/Ze%2BDP8A4fjVv/mXo/4Tj/goX/0a/wDBn/w/Grf/ADL19FlXD1PLsPXozqOcau9rwe0rtuMk%2Bd8zvNOLdo9Y3eNXEupKMkrW%2Bf59NNtepD%2B0jaNY/GL9m20e7muDH8ZL4GadgXf/AIorxRySABn8K9sr5X%2BJ/iX9q3V/2k/2dLX41/Bf4e%2BH9HHxc1Fo77wt8Tr7WLkz/wDCF%2BJtqGCfRbJQhBYl/NJBAGw5JX6or3qVKFGlGnBWUUkt3olZattv1bb7tvU523J3YUUUVoIKKKKACiiigAooooAKo%2BKPENh4S8Naj4r1UObXTLGa7uREuW8uNC7YHc4U1eqO7tLW/tZbG9t0mhmjaOaKVQyupGCpB4II4xQB83/sa/tS/Hz4qeMNG8K/H/TfCSP43%2BE%2BnfEDwuvhPT7m3/su3uJQk%2BmXTT3EwupIRNabbuMQLKXl/cRbBu8rsP8Ago98Zfh18MD8afEvw/8ABl14b8d/C/xX46%2BGegaFp1xY3NlLY3toLe01K4eeVLl7xdThnknihg8l0mUpNuV695%2BAH7C/hD9nTVbfV/Cfxl8danLp2i6doGhjX7nTrgaV4fsnleDRoStkhNvmX55pC95IIot9y3lrjG0n/gmd8Bra08QeHvEnirxbr/h7VvCWueGND8MatqNstp4W0nV7hLi/tdOa3t4p0DyQ25R55Z5IVtokieNV2kA6b9mT4ufGPxH4%2B8f/AAL%2BP934Z1DxN4FutMmXXPCGj3GnWOoWN/aebE32a4ubl4ZUliuYmHnOGWOOQbN5jT2KvO/gB%2BznpXwGPiHWLj4keJvGniLxXqMN34g8WeMJLM3135FtHbQRbbK2treOKOKMBVjiXLPI7bnkdm9EoAK%2BXfgN%2B2N8bfiB8YvC0njbTPCy%2BA/iZrXi7TPBVnpem3MWq6XJot3LFDJeXD3LxXS3dvbXMxWOGA27eXHmfJkH1FXhng79gzwN4C%2BJM3xG8L/F3xvALa61m68KaE8%2BnS2HhafVr1bzUpbFHsi7NPKHH%2BkvOIUmljgEKvigCnrnxU%2BOPw8/bU8I/DPWtR8A67pXxEbU0XSND8L3Vtrug6PYWs08Wo3d695LHdW4unitSgt4As2qR7GbD7sj/gnD%2B1P8Xf2j/AvnftF%2BJ9EsvHf/AAjOkarrPw8t/hPrfhS%2B8ONdRymRZF1e7mfUYDKjxR3UCRxFraXlycJ1vgb9jT/hAf2lPFn7S%2BnftKfEK7vfGk6nWfD2pRaHNYrbxW7w2tlDL/ZgvYLW3MjzRwpchfOeSR95ll8zY%2BDf7L9t8LfiLqnxf8W/Gnxl8QfFOpaJb6Mmt%2BMjpsb2enwyyTC3hi02ytIFDSys7u0bSMQgL7UVQAeo0UUUAfLv7TX7Y3xt%2BFfxT8Yv8PNM8LN4N%2BE2i%2BG9T8d22s6bczajrEeqX1xFNHYzR3Mcdo1ta2/nhpIrgTySiLEIUyGb9sj9pX4mfAr9oXwdZ22r%2BHvCXgaTwjqV54l%2BIviP4Raz4ittNkW9sEW0lvbC7t4NIhkjaWV57tvK/wBGUnhK7b4z/sQ/Dj43fFI/EzXPHPirS4tRtdItfF/hrRrq1TTvFMGl3sl7YxXyy28kwWOaaXP2eWAyxyGKYyxhUE/x0/ZJuv2hPBMvwx8eftLfEOLwxqmj3Gk%2BLtB0xdFhi8SWU5cTQ3Mv9mmeENE7QFrSS3byz13/AD0Aeeal%2B2N8bbX9oC7lg0zwt/wrHT/jNZ/DS5sH025Oty3lxpsE41Nbr7T5CxLeXMVt9lNuWMavP54OIa%2Boq8XuP2HfhrP8e/8AheA8beKY7R/FMPiifwHHc2g0ObXotOXTotTZPs32nzVtkjAiFwLfzIkmMJlHmV7RQAV89fteftE/tAeA/iBB8Lv2cLXwiup6f8Ndd8b6zceMtNubqG6gsJLWKHTYRb3EBgkuHuJM3TGVYBCP3Exkwv0LXkf7S/7Hng/9pnULLWtR%2BJPi/wAI6hb%2BH9T8P32o%2BDby1hm1LRdQ8g3mnzG5tpwscjW0LCWIR3ERQmKaPe%2B4A5r9pz47%2BMoP2K/%2BGuvhf4s8J6Ho2m%2BCx4yvLPxr4DuNea6hS1S9toIIrfUrIx3PmBAhzITJsCqGwa4a9/ax/at%2BH3x18B/DT9obXPB/gjSLv4feELzxbrv/AAqHXtR0vUfEuoXt7bajpVvq0V%2BtnpAVoLRIPthmYvex/wCt4Q%2B4%2BPP2YfBfxH%2BGll8H/E/iTWW8Oad4o0nV7TSrUWkMaw6beW93a6YQluN1kJLWIMjZkdAUaQqxFVPjp%2By1B%2B0Frlsnjb43%2BNbfwks1jNqfw90w6ZHpWqyWtytzGZ5WsmvgGkSPekV1GjrGFK4Zw4B6pRRRQB4v/wAFBfi78cP2fv2R/Gnx6%2BAV74Uj1jwToV3rl1B4w0W5vra7tLW2lme3RLa6tmSV2RFEhcqgLEo/Aq7%2B2D8T/F3gTwd4a8C/D3TNBuNe%2BI/jK18KabL4q02S90y1WeGe4uZrm2jlha5RbS1ucQiWPzHKKXUEkan7WP7ONl%2B1p8CNe/Z91r4q%2BKfCOk%2BJ7KWx1y/8ILp32u5spYnimtt1/aXUaI6vyyIsgKja685zvG/7K0nxK%2BHVn4I8eftBeOtR1PSdT07VNA8YmLR4NT0nUrMkreQiDTktmeQM6yJLBJCySOnlhWKkA8Ek/bu/at8ZaH/whnwz0bwBbeNvCeheOtS8cXOs6RezabqT%2BHNYGlR21lHHdpJaC%2BbdOJpJLj7IoCGO5J3D62%2BF/j3TPip8NPDvxP0S2lhsvEmhWmqWkM%2BN6RXEKSorY7gOAfevEPEP/BNL4T6x4F0nwfo3xc%2BIGg3lnpviHTtd8T6LqViupeJLTXbtb3WIr15bN4wbm6UTeZbRwSwNkW7wKSp%2BgtD0TSPDOiWfhvw/p8VpYafax21laQLtSGGNQqIo7AKAAPQUAWq5r4xSfE2H4ZaxP8HNa0HTvEsVrv0y98TaVNfWMRVgXMsEE9vJKPLD4VZY/mK5bGa6WsL4meDtU%2BIPgPU/BejfEHWfCtxqNv5KeIPD8NnJeWYJBZolvbe4tySAVPmQuMMcAHBABwXwE%2BKPxg/aG/Yj%2BH/xr8P3PhrR/Gvjj4caJrjS3mlXFxpdneXllBcSn7Mtwk0kSmR9sfnqxAUGTq1eAXv7Zn7UWg/BzT18B6R4VuoNH%2BOd34E1Dx54O%2BDWu6/o8mhWeiXVy%2Bo2miabetdRrFqMKaS5FzLEksErZ2lQvsXhL9hqfwZ%2ByWn7Hmk/tb/FddBtfBCeFdK1%2BGfRLbWNNsY0SKJ4Li20uNVmSBBCspQnaS5zLiUaPg/9kbxN8PfghpPwN8A/tefEbRLXQrhF0nV9L0TwrDcWtglusEempCuifY1tk2h1It/ODHHm7MIAD0L4O%2BN9N%2BJXwn8NfEDSPHGkeJrfWdDtbtPEPh%2B0a3sdSLxKxuIInllaGNySyxtJIyAhWdiCT0lcv8FfhD4N%2BAfwp0H4OfD%2BK5XSPD2npaWbX1y008oGS0ssjcvI7FnZu7MTgdK6igArxf8AY5%2BLvxw%2BJV18UvB3x%2BvfCl3rPw/%2BJjeHra%2B8H6Lc2FrcWraNpWpIWiubq5cyK2oPGXDhXEasETJFe0V4v8Cf2PNY%2BBPjTxf41tP2sviV4jk8ceK4fEGvWPiG08OiB7tLW3syE%2ByaRA6Rvb2ltEwD5xCGUq7OzAHhngj9v/4q%2BDfhv8YviJ8XoPDVt4u8NaX4g1jRPhg3wo1rwzfX8dlfvp9leNqV/dSRatbyRrp6yXNrDsi%2B0xcgbEPvP7Mnxc%2BMfiPx94/%2BBfx/u/DOoeJvAt1pky654Q0e406x1Cxv7TzYm%2BzXFzcvDKksVzEw85wyxxyDZvMaZmufsEeBviJqviDVfj18YPHPxDOueCdX8JWkHiSfTrZNF0nU5IHvYbT%2BzbK1PmObS0xPMZZk%2BzJtdSXLdj8AP2c9K%2BAx8Q6xcfEjxN408ReK9Rhu/EHizxhJZm%2Bu/Ito7aCLbZW1tbxxRxRgKscS5Z5Hbc8jswB6JRRRQB4v8Ffi78cNa/a4%2BLPwF%2BKl74UutH8MaF4e1zwhP4f0W5tbmK01K51mH7PePNdTLcSoumRN5kaQLmVxsOAa5/xJ8RP2lvCv7fngv4QaZ4q%2BHOq%2BHPF2kaxrHiGzg%2BH15b6zpeg6ciRW%2B/Uf7VeKWQ6hqNuqq1oqsjXRVVKk10Gi/seaxoH7RfjD9pLTv2sviUNQ8Z6VZaZe6E9p4dOn2dpZz3U1pFAP7I88eUb26UNJNIzLMd5cqhXtNL%2BBfhXS/jh4l/aBTVtTm1/xJ4Y03QG8%2BaMw6dZWUt3Mi2yiMFGeW9leRmL7ykQ4EagAHjv/AATh/an%2BLv7R/gXzv2i/E%2BiWXjv/AIRnSNV1n4eW/wAJ9b8KX3hxrqOUyLIur3cz6jAZUeKO6gSOItbS8uThPpavLvg3%2By/bfC34i6p8X/Fvxp8ZfEHxTqWiW%2BjJrfjI6bG9np8Mskwt4YtNsrSBQ0srO7tG0jEIC%2B1FUeo0AFeD/ta/Gb9oL4DeJPC/i7wZ4g8EXvh7WvF2heHbbwLfeHLyTXNcub2%2BWG5a0vY71YoTBatJdbGtJh5dpMzvGgLx%2B8V4z8Sf2OV%2BIn7TuiftTW/7R3xA0LVfD%2BhjStM0DTIdEuNLggebzblo0vtMuJoZbkCOOaWKVHaOGNFZAOQDhf22P2ofjN8LfGXiCz%2BDXhzwddJ8J/hTdfErxMPFmlT3M2owq11DFp9hJFcQixnlhtdQU3bidU3Rr5Lq7kVY/wBtn4xah8azr2lad4XPwri%2BL1h8OnsZdLuf7clubvTLe4XVFuftPkpEt5dRWxtTbljGrzeeDiGu4%2BOn7CPgr9oNopvG3xg8cW0134Xu/DHi%2BfSLjToG8V6FczCWTTL4fYiqxffRZLYW86JNKFlHmOTan/Yc%2BGk3x6/4XevjXxRFaN4ph8UT%2BAorm0Ghza9Dpy6dFqbJ9m%2B0iVbZIwIhcC38yJJjCZR5lAHtFFFFABRRRQAUUUUAFFFFABRRRQAUUUUAFFFFABRRRQAUUUUAFFFFABRRRQAUUUUAFFFFABRRRQAUUUUAFFFFABRRRQAUUUUAFFFFABRRRQAUUUUAFFFFABRRRQAUUUUAFFFFABRRRQAUUUUAFFFFABRRRQB//9k%3D\">"
      ]
     },
     "metadata": {},
     "output_type": "display_data"
    }
   ],
   "source": [
    "try:\n",
    "    display_html(HTML(anim.to_html5_video()))\n",
    "# In case the build-in renderers are unaviable, fall back to\n",
    "# a custom one, that doesn't require external libraries\n",
    "except RuntimeError:\n",
    "    anim.save(None, writer=matplotlib_utils.SimpleMovieWriter(0.001))"
   ]
  },
  {
   "cell_type": "markdown",
   "metadata": {},
   "source": [
    "# Logistic regression\n",
    "Your assignment is to implement the logistic regression\n",
    "\n",
    "Plan:\n",
    "* Use a shared variable for weights\n",
    "* Use a matrix placeholder for `X`\n",
    " \n",
    "We shall train on a two-class MNIST dataset\n",
    "* please note that target `y` are `{0,1}` and not `{-1,1}` as in some formulae"
   ]
  },
  {
   "cell_type": "code",
   "execution_count": 31,
   "metadata": {},
   "outputs": [
    {
     "name": "stdout",
     "output_type": "stream",
     "text": [
      "y [shape - (360,)]: [0 1 0 1 0 1 0 0 1 1]\n",
      "X [shape - (360, 64)]:\n"
     ]
    }
   ],
   "source": [
    "# load dataset:\n",
    "from sklearn.datasets import load_digits\n",
    "\n",
    "mnist = load_digits(2)\n",
    "\n",
    "X, y = mnist.data, mnist.target\n",
    "\n",
    "print(\"y [shape - %s]:\" % (str(y.shape)), y[:10])\n",
    "print(\"X [shape - %s]:\" % (str(X.shape)))"
   ]
  },
  {
   "cell_type": "code",
   "execution_count": 32,
   "metadata": {},
   "outputs": [
    {
     "name": "stdout",
     "output_type": "stream",
     "text": [
      "X:\n",
      " [[  0.   0.   5.  13.   9.   1.   0.   0.   0.   0.]\n",
      " [  0.   0.   0.  12.  13.   5.   0.   0.   0.   0.]\n",
      " [  0.   0.   1.   9.  15.  11.   0.   0.   0.   0.]]\n",
      "y:\n",
      " [0 1 0 1 0 1 0 0 1 1]\n"
     ]
    },
    {
     "data": {
      "image/png": "[encoded data removed]",
      "text/plain": [
       "<matplotlib.figure.Figure at 0x7fec5bd19a58>"
      ]
     },
     "metadata": {},
     "output_type": "display_data"
    }
   ],
   "source": [
    "# visualize sample data\n",
    "print('X:\\n',X[:3,:10])\n",
    "print('y:\\n',y[:10])\n",
    "plt.imshow(X[0].reshape([8,8]));"
   ]
  },
  {
   "cell_type": "markdown",
   "metadata": {},
   "source": [
    "It's your turn now!\n",
    "Just a small reminder of the relevant math:\n",
    "\n",
    "$$\n",
    "P(y=1|X) = \\sigma(X \\cdot W + b)\n",
    "$$\n",
    "$$\n",
    "\\text{loss} = -\\log\\left(P\\left(y_\\text{predicted} = 1\\right)\\right)\\cdot y_\\text{true} - \\log\\left(1 - P\\left(y_\\text{predicted} = 1\\right)\\right)\\cdot\\left(1 - y_\\text{true}\\right)\n",
    "$$\n",
    "\n",
    "$\\sigma(x)$ is available via `tf.nn.sigmoid` and matrix multiplication via `tf.matmul`"
   ]
  },
  {
   "cell_type": "code",
   "execution_count": 33,
   "metadata": {
    "collapsed": true
   },
   "outputs": [],
   "source": [
    "# split train-test sets\n",
    "from sklearn.model_selection import train_test_split\n",
    "\n",
    "X_train, X_test, y_train, y_test = train_test_split(\n",
    "    X, y, \n",
    "    random_state=42\n",
    ")"
   ]
  },
  {
   "cell_type": "markdown",
   "metadata": {},
   "source": [
    "__Your code goes here.__ For the training and testing scaffolding to work, please stick to the names in comments."
   ]
  },
  {
   "cell_type": "code",
   "execution_count": 34,
   "metadata": {
    "collapsed": true
   },
   "outputs": [],
   "source": [
    "# dataset dimensions:\n",
    "_, D = X.shape"
   ]
  },
  {
   "cell_type": "code",
   "execution_count": 35,
   "metadata": {
    "collapsed": true
   },
   "outputs": [],
   "source": [
    "# Model parameters - weights and bias\n",
    "weights = tf.Variable(    \n",
    "    initial_value = tf.random_normal(\n",
    "        [D, 1], \n",
    "        stddev = 1.0\n",
    "    ),\n",
    "    name = 'weights'\n",
    ")\n",
    "b = tf.Variable(\n",
    "    initial_value = 0.0,\n",
    "    name = 'b'    \n",
    ")"
   ]
  },
  {
   "cell_type": "code",
   "execution_count": 36,
   "metadata": {},
   "outputs": [],
   "source": [
    "# Placeholders for the input data\n",
    "input_X = tf.placeholder(\n",
    "    dtype = 'float32', \n",
    "    shape = [None, D],\n",
    "    name = 'input_X'\n",
    ")\n",
    "input_y = tf.placeholder(\n",
    "    dtype = 'float32', \n",
    "    shape = [None],\n",
    "    name = 'input_y'\n",
    ")"
   ]
  },
  {
   "cell_type": "code",
   "execution_count": 37,
   "metadata": {},
   "outputs": [],
   "source": [
    "# The model code\n",
    "\n",
    "# logits:\n",
    "logits = tf.squeeze(\n",
    "    tf.matmul(input_X, weights) + b\n",
    ")\n",
    "\n",
    "# Compute a vector of predictions, resulting shape should be [input_X.shape[0],]\n",
    "# This is 1D, if you have extra dimensions, you can  get rid of them with tf.squeeze .\n",
    "# Don't forget the sigmoid.\n",
    "predicted_y = tf.nn.sigmoid(\n",
    "    logits,\n",
    "    name = 'predicted_y'\n",
    ")\n",
    "\n",
    "# Loss. Should be a scalar number - average loss over all the objects\n",
    "# tf.reduce_mean is your friend here\n",
    "loss = tf.reduce_mean(\n",
    "    tf.nn.sigmoid_cross_entropy_with_logits(\n",
    "        labels = input_y,\n",
    "        logits = logits,\n",
    "        name = 'loss'\n",
    "    )\n",
    ")\n",
    "\n",
    "# See above for an example. tf.train.*Optimizer\n",
    "optimizer = tf.train.AdamOptimizer(1e-3).minimize(\n",
    "    loss, \n",
    "    var_list = [weights, b]\n",
    ")"
   ]
  },
  {
   "cell_type": "markdown",
   "metadata": {},
   "source": [
    "A test to help with the debugging"
   ]
  },
  {
   "cell_type": "code",
   "execution_count": 38,
   "metadata": {},
   "outputs": [],
   "source": [
    "validation_weights = 1e-3 * np.fromiter(\n",
    "    map(\n",
    "        lambda x: s.run(\n",
    "            weird_psychotic_function, \n",
    "            {\n",
    "                my_scalar:x, \n",
    "                my_vector:[1, 0.1, 2]\n",
    "            }\n",
    "        ),\n",
    "        0.15 * np.arange(1, X.shape[1] + 1)\n",
    "    ),\n",
    "    count = X.shape[1], \n",
    "    dtype = np.float32\n",
    ")[:, np.newaxis]\n",
    "\n",
    "# Compute predictions for given weights and bias\n",
    "prediction_validation = s.run(\n",
    "    predicted_y, \n",
    "    {\n",
    "        input_X: X,\n",
    "        weights: validation_weights,\n",
    "        b: 1e-1\n",
    "    }\n",
    ")\n",
    "\n",
    "# Load the reference values for the predictions\n",
    "validation_true_values = np.loadtxt(\"validation_predictons.txt\")\n",
    "\n",
    "assert prediction_validation.shape == (X.shape[0],),\\\n",
    "       \"Predictions must be a 1D array with length equal to the number \" \\\n",
    "       \"of examples in input_X\"\n",
    "assert np.allclose(validation_true_values, prediction_validation)\n",
    "loss_validation = s.run(\n",
    "        loss, {\n",
    "            input_X: X[:100],\n",
    "            input_y: y[-100:],\n",
    "            weights: validation_weights+1.21e-3,\n",
    "            b: -1e-1})\n",
    "assert np.allclose(loss_validation, 0.728689)"
   ]
  },
  {
   "cell_type": "code",
   "execution_count": 59,
   "metadata": {},
   "outputs": [
    {
     "name": "stdout",
     "output_type": "stream",
     "text": [
      "loss at iter 0:36.8586\n",
      "train auc: 0.0828118137901\n",
      "test auc: 0.0649703557312\n",
      "loss at iter 500:4.3609\n",
      "train auc: 0.710254721124\n",
      "test auc: 0.647727272727\n",
      "loss at iter 1000:0.7460\n",
      "train auc: 0.96516798419\n",
      "test auc: 0.951828063241\n",
      "loss at iter 1500:0.2663\n",
      "train auc: 0.991408651735\n",
      "test auc: 0.986660079051\n",
      "loss at iter 2000:0.1018\n",
      "train auc: 0.998627580149\n",
      "test auc: 0.992588932806\n",
      "loss at iter 2500:0.0133\n",
      "train auc: 0.999890206412\n",
      "test auc: 0.997035573123\n",
      "loss at iter 3000:0.0028\n",
      "train auc: 1.0\n",
      "test auc: 0.998517786561\n",
      "loss at iter 3500:0.0014\n",
      "train auc: 1.0\n",
      "test auc: 0.999011857708\n",
      "loss at iter 4000:0.0009\n",
      "train auc: 1.0\n",
      "test auc: 0.999011857708\n",
      "loss at iter 4500:0.0006\n",
      "train auc: 1.0\n",
      "test auc: 0.999011857708\n"
     ]
    }
   ],
   "source": [
    "from sklearn.metrics import roc_auc_score\n",
    "\n",
    "s.run(tf.global_variables_initializer())\n",
    "\n",
    "for i in range(5000):\n",
    "    s.run(optimizer, {input_X: X_train, input_y: y_train})\n",
    "    loss_i = s.run(loss, {input_X: X_train, input_y: y_train})\n",
    "    if i % 500 == 0:\n",
    "        print(\"loss at iter %i:%.4f\" % (i, loss_i))\n",
    "        print(\"train auc:\", roc_auc_score(y_train, s.run(predicted_y, {input_X:X_train})))\n",
    "        print(\"test auc:\", roc_auc_score(y_test, s.run(predicted_y, {input_X:X_test})))"
   ]
  },
  {
   "cell_type": "markdown",
   "metadata": {},
   "source": [
    "### Coursera submission"
   ]
  },
  {
   "cell_type": "code",
   "execution_count": 60,
   "metadata": {
    "collapsed": true
   },
   "outputs": [],
   "source": [
    "grade_submitter = grading.Grader(\n",
    "    \"BJCiiY8sEeeCnhKCj4fcOA\"\n",
    ")"
   ]
  },
  {
   "cell_type": "code",
   "execution_count": 61,
   "metadata": {
    "collapsed": true
   },
   "outputs": [],
   "source": [
    "test_weights = 1e-3 * np.fromiter(\n",
    "    map(\n",
    "        lambda x: s.run(\n",
    "            weird_psychotic_function, \n",
    "            {\n",
    "                my_scalar:x, \n",
    "                my_vector:[1, 2, 3]\n",
    "            }\n",
    "        ),\n",
    "        0.1 * np.arange(1, X.shape[1] + 1)\n",
    "    ),\n",
    "    count = X.shape[1], \n",
    "    dtype = np.float32\n",
    ")[:, np.newaxis]"
   ]
  },
  {
   "cell_type": "markdown",
   "metadata": {},
   "source": [
    "First, test prediction and loss computation. This part doesn't require a fitted model."
   ]
  },
  {
   "cell_type": "code",
   "execution_count": 62,
   "metadata": {
    "collapsed": true
   },
   "outputs": [],
   "source": [
    "prediction_test = s.run(\n",
    "    predicted_y, \n",
    "    {\n",
    "        input_X: X,\n",
    "        weights: test_weights,\n",
    "        b: 1e-1\n",
    "    }\n",
    ")"
   ]
  },
  {
   "cell_type": "code",
   "execution_count": 63,
   "metadata": {
    "collapsed": true
   },
   "outputs": [],
   "source": [
    "assert prediction_test.shape == (X.shape[0],),\\\n",
    "       \"Predictions must be a 1D array with length equal to the number \" \\\n",
    "       \"of examples in X_test\""
   ]
  },
  {
   "cell_type": "code",
   "execution_count": 64,
   "metadata": {
    "collapsed": true
   },
   "outputs": [],
   "source": [
    "grade_submitter.set_answer(\"0ENlN\", prediction_test)"
   ]
  },
  {
   "cell_type": "code",
   "execution_count": 65,
   "metadata": {
    "collapsed": true
   },
   "outputs": [],
   "source": [
    "loss_test = s.run(\n",
    "    loss, {\n",
    "        input_X: X[:100],\n",
    "        input_y: y[-100:],\n",
    "        weights: test_weights+1.21e-3,\n",
    "        b: -1e-1\n",
    "    }\n",
    ")\n",
    "# Yes, the X/y indices mistmach is intentional"
   ]
  },
  {
   "cell_type": "code",
   "execution_count": 66,
   "metadata": {
    "collapsed": true
   },
   "outputs": [],
   "source": [
    "grade_submitter.set_answer(\"mMVpM\", loss_test)"
   ]
  },
  {
   "cell_type": "code",
   "execution_count": 67,
   "metadata": {
    "collapsed": true
   },
   "outputs": [],
   "source": [
    "grade_submitter.set_answer(\"D16Rc\", roc_auc_score(y_test, s.run(predicted_y, {input_X:X_test})))"
   ]
  },
  {
   "cell_type": "markdown",
   "metadata": {},
   "source": [
    "Please use the credentials obtained from the Coursera assignment page."
   ]
  },
  {
   "cell_type": "code",
   "execution_count": 68,
   "metadata": {},
   "outputs": [
    {
     "name": "stdout",
     "output_type": "stream",
     "text": [
      "Submitted to Coursera platform. See results on assignment page!\n"
     ]
    }
   ],
   "source": [
    "grade_submitter.submit(\n",
    "    COURSERA_EMAIL, \n",
    "    COURSERA_TOKEN\n",
    ")"
   ]
  }
 ],
 "metadata": {
  "kernelspec": {
   "display_name": "Python 3",
   "language": "python",
   "name": "python3"
  },
  "language_info": {
   "codemirror_mode": {
    "name": "ipython",
    "version": 3
   },
   "file_extension": ".py",
   "mimetype": "text/x-python",
   "name": "python",
   "nbconvert_exporter": "python",
   "pygments_lexer": "ipython3",
   "version": "3.6.0"
  }
 },
 "nbformat": 4,
 "nbformat_minor": 1
}
