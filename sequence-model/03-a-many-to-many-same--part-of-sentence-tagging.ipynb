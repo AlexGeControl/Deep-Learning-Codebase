{
 "cells": [
  {
   "cell_type": "markdown",
   "metadata": {},
   "source": [
    "## Part Of Speech Tagging"
   ]
  },
  {
   "cell_type": "markdown",
   "metadata": {},
   "source": [
    "__This seminar:__ after you're done coding your own recurrent cells, it's time you learn how to train recurrent networks easily with Keras. We'll also learn some tricks on how to use keras layers and model.\n",
    "\n",
    "Enough beatin' around the bush, let's get to the task!"
   ]
  },
  {
   "cell_type": "markdown",
   "metadata": {
    "collapsed": true
   },
   "source": [
    "<img src=https://i.stack.imgur.com/6pdIT.png width=320>\n",
    "\n",
    "Unlike our previous experience with language modelling, this time around we learn the mapping between two different kinds of elements.\n",
    "\n",
    "This setting is common for a range of useful problems:\n",
    "* __Speech Recognition__ - processing human voice into text\n",
    "* __Part Of Speech Tagging__ - for morphology-aware search and as an auxuliary task for most NLP problems\n",
    "* __Named Entity Recognition__ - for chat bots and web crawlers\n",
    "* __Protein structure prediction__ - for bioinformatics\n",
    "\n",
    "Our current guest is part-of-speech tagging. As the name suggests, it's all about **converting a sequence of words into a sequence of part-of-speech tags**. We'll use a reduced tag set for simplicity:\n",
    "\n",
    "### POS-tags\n",
    "- __ADJ__ - adjective (new, good, high, ...)\n",
    "- __ADP__ - adposition\t(on, of, at, ...)\n",
    "- __ADV__ - adverb\t(really, already, still, ...)\n",
    "- __CONJ__\t- conjunction\t(and, or, but, ...)\n",
    "- __DET__ - determiner, article\t(the, a, some, ...)\n",
    "- __NOUN__\t- noun\t(year, home, costs, ...)\n",
    "- __NUM__ - numeral\t(twenty-four, fourth, 1991, ...)\n",
    "- __PRT__ -\tparticle (at, on, out, ...)\n",
    "- __PRON__ - pronoun (he, their, her, ...)\n",
    "- __VERB__ - verb (is, say, told, ...)\n",
    "- __.__\t- punctuation marks\t(. , ;)\n",
    "- __X__\t- other\t(ersatz, esprit, dunno, ...)"
   ]
  },
  {
   "cell_type": "code",
   "execution_count": 1,
   "metadata": {
    "scrolled": true
   },
   "outputs": [
    {
     "name": "stdout",
     "output_type": "stream",
     "text": [
      "[nltk_data] Downloading package brown to /home/alexge/nltk_data...\n",
      "[nltk_data]   Package brown is already up-to-date!\n",
      "[nltk_data] Downloading package universal_tagset to\n",
      "[nltk_data]     /home/alexge/nltk_data...\n",
      "[nltk_data]   Package universal_tagset is already up-to-date!\n"
     ]
    }
   ],
   "source": [
    "# set up session:\n",
    "import sys\n",
    "import numpy as np\n",
    "import nltk\n",
    "\n",
    "nltk.download('brown')\n",
    "nltk.download('universal_tagset')\n",
    "\n",
    "all_tags = [\n",
    "    # end of sentence:\n",
    "    '#EOS#',\n",
    "    # unknown word:\n",
    "    '#UNK#',\n",
    "    'ADJ',\n",
    "    'ADP', \n",
    "    'ADV', \n",
    "    'CONJ',\n",
    "    'DET', \n",
    "    'NOUN', \n",
    "    'NUM', \n",
    "    'PRON', \n",
    "    'PRT', \n",
    "    'VERB', \n",
    "    '.', \n",
    "    'X'\n",
    "]"
   ]
  },
  {
   "cell_type": "code",
   "execution_count": 2,
   "metadata": {
    "collapsed": true
   },
   "outputs": [],
   "source": [
    "# load corpus:\n",
    "data = nltk.corpus.brown.tagged_sents(tagset='universal')\n",
    "# prepare dataset:\n",
    "data = np.array(\n",
    "    [ \n",
    "        [(word.lower(),tag) for word,tag in sentence] \n",
    "        for sentence in data \n",
    "    ]\n",
    ")"
   ]
  },
  {
   "cell_type": "code",
   "execution_count": 3,
   "metadata": {},
   "outputs": [
    {
     "name": "stderr",
     "output_type": "stream",
     "text": [
      "/home/alexge/anaconda3/envs/carnd-term1/lib/python3.5/site-packages/sklearn/cross_validation.py:44: DeprecationWarning: This module was deprecated in version 0.18 in favor of the model_selection module into which all the refactored classes and functions are moved. Also note that the interface of the new CV iterators are different from that of this module. This module will be removed in 0.20.\n",
      "  \"This module will be removed in 0.20.\", DeprecationWarning)\n"
     ]
    }
   ],
   "source": [
    "# split train-test sets:\n",
    "from sklearn.cross_validation import train_test_split\n",
    "\n",
    "train_data,test_data = train_test_split(\n",
    "    data,\n",
    "    test_size=0.25,\n",
    "    random_state=42\n",
    ")"
   ]
  },
  {
   "cell_type": "code",
   "execution_count": 4,
   "metadata": {},
   "outputs": [
    {
     "data": {
      "text/html": [
       "<table><tr><td>NOUN</td><td>ADP</td><td>NOUN</td><td>NOUN</td><td>NOUN</td><td>NOUN</td><td>VERB</td><td>ADV</td><td>VERB</td><td>ADP</td><td>DET</td><td>ADJ</td><td>NOUN</td><td>.</td></tr><td>implementation</td><td>of</td><td>georgia's</td><td>automobile</td><td>title</td><td>law</td><td>was</td><td>also</td><td>recommended</td><td>by</td><td>the</td><td>outgoing</td><td>jury</td><td>.</td><tr></table>"
      ],
      "text/plain": [
       "<IPython.core.display.HTML object>"
      ]
     },
     "metadata": {},
     "output_type": "display_data"
    },
    {
     "data": {
      "text/html": [
       "<table><tr><td>PRON</td><td>VERB</td><td>ADP</td><td>DET</td><td>NOUN</td><td>.</td><td>VERB</td><td>NOUN</td><td>PRT</td><td>VERB</td><td>.</td><td>DET</td><td>NOUN</td><td>.</td></tr><td>it</td><td>urged</td><td>that</td><td>the</td><td>city</td><td>``</td><td>take</td><td>steps</td><td>to</td><td>remedy</td><td>''</td><td>this</td><td>problem</td><td>.</td><tr></table>"
      ],
      "text/plain": [
       "<IPython.core.display.HTML object>"
      ]
     },
     "metadata": {},
     "output_type": "display_data"
    },
    {
     "data": {
      "text/html": [
       "<table><tr><td>NOUN</td><td>VERB</td></tr><td>merger</td><td>proposed</td><tr></table>"
      ],
      "text/plain": [
       "<IPython.core.display.HTML object>"
      ]
     },
     "metadata": {},
     "output_type": "display_data"
    }
   ],
   "source": [
    "from IPython.display import HTML, display\n",
    "\n",
    "def draw(sentence):\n",
    "    # parse list of 2-element tuples into 2 lists:\n",
    "    words,tags = zip(*sentence)\n",
    "    # display\n",
    "    display(\n",
    "        HTML(\n",
    "            '<table><tr>{tags}</tr>{words}<tr></table>'.format(\n",
    "                words = '<td>{}</td>'.format('</td><td>'.join(words)),\n",
    "                tags = '<td>{}</td>'.format('</td><td>'.join(tags))\n",
    "            )\n",
    "        )\n",
    "    )\n",
    "# visualize sample sentences:    \n",
    "draw(data[11])\n",
    "draw(data[10])\n",
    "draw(data[7])"
   ]
  },
  {
   "cell_type": "markdown",
   "metadata": {},
   "source": [
    "### Building vocabularies\n",
    "\n",
    "Just like before, we have to build a mapping from tokens to integer ids. This time around, our model operates on a word level, processing one word per RNN step. This means we'll have to deal with far larger vocabulary.\n",
    "\n",
    "Luckily for us, we only receive those words as input i.e. we don't have to predict them. This means we can have a large vocabulary for free by using word embeddings."
   ]
  },
  {
   "cell_type": "code",
   "execution_count": 5,
   "metadata": {},
   "outputs": [
    {
     "name": "stdout",
     "output_type": "stream",
     "text": [
      "Coverage = 0.92876\n"
     ]
    }
   ],
   "source": [
    "from collections import Counter\n",
    "\n",
    "word_counts = Counter()\n",
    "for sentence in data:\n",
    "    words,tags = zip(*sentence)\n",
    "    word_counts.update(words)\n",
    "all_words = [\n",
    "    '#EOS#','#UNK#'\n",
    "]+list(\n",
    "    list(\n",
    "        zip(*word_counts.most_common(10000))\n",
    "    )[0]\n",
    ")\n",
    "\n",
    "#let's measure what fraction of data words are in the dictionary\n",
    "print(\"Coverage = %.5f\"%(float(sum(word_counts[w] for w in all_words)) / sum(word_counts.values())))"
   ]
  },
  {
   "cell_type": "code",
   "execution_count": 6,
   "metadata": {
    "collapsed": true
   },
   "outputs": [],
   "source": [
    "from collections import defaultdict\n",
    "# word to id:\n",
    "word_to_id = defaultdict(\n",
    "    lambda:1,{word:i for i,word in enumerate(all_words)}\n",
    ")\n",
    "# tag to id:\n",
    "tag_to_id = {tag:i for i,tag in enumerate(all_tags)}"
   ]
  },
  {
   "cell_type": "markdown",
   "metadata": {},
   "source": [
    "convert words and tags into fixed-size matrix"
   ]
  },
  {
   "cell_type": "code",
   "execution_count": 7,
   "metadata": {
    "collapsed": true
   },
   "outputs": [],
   "source": [
    "def to_matrix(\n",
    "    lines,\n",
    "    token_to_id,\n",
    "    max_len=None,\n",
    "    pad=0,\n",
    "    dtype='int32',\n",
    "    time_major=False\n",
    "):\n",
    "    \"\"\"Converts a list of names into rnn-digestable matrix with paddings added after the end\"\"\"\n",
    "    \n",
    "    max_len = max_len or max(map(len,lines))\n",
    "    matrix = np.empty([len(lines),max_len],dtype)\n",
    "    matrix.fill(pad)\n",
    "\n",
    "    for i in range(len(lines)):\n",
    "        line_ix = list(map(token_to_id.__getitem__,lines[i]))[:max_len]\n",
    "        matrix[i,:len(line_ix)] = line_ix\n",
    "\n",
    "    return matrix.T if time_major else matrix"
   ]
  },
  {
   "cell_type": "code",
   "execution_count": 8,
   "metadata": {},
   "outputs": [
    {
     "name": "stdout",
     "output_type": "stream",
     "text": [
      "Word ids:\n",
      "[[   2 3075    5    2 2230 1331 4215 2410    3    6   19   26 1072   69\n",
      "     8 2100    6    3    1    3  266   65  342    2    1    3    2  315\n",
      "     1    9   87  216 3328   69 1558    4    0    0    0    0    0    0\n",
      "     0    0    0    0    0    0    0    0    0    0    0]\n",
      " [  45   12    8  512 8392    6   60 3261   39    2    1    1    3    2\n",
      "   841    1    3    1    3   10 9976    2    1 3488    9   43    1    1\n",
      "     3    6    2 1047  385   73 4593    3    9    2    1    1 3225    3\n",
      "    12   10    2  859 5264   12    8 8518  121    1    4]\n",
      " [  33   64   26   12  443    7 7191    9    8 3341    3    1 2820    3\n",
      "     2  462  574    2    1    1 1645   12    1    4    0    0    0    0\n",
      "     0    0    0    0    0    0    0    0    0    0    0    0    0    0\n",
      "     0    0    0    0    0    0    0    0    0    0    0]]\n",
      "Tag ids:\n",
      "[[ 6  7  3  6  7  7 11 11 12  5  3  9 11  3  6  7  5 12 11 12 11 10  3  6\n",
      "   7 12  6  2  7  3  6  7 11  3  7 12  0  0  0  0  0  0  0  0  0  0  0  0\n",
      "   0  0  0  0  0]\n",
      " [ 9 11  6 11  7  5  6  7 12  6  2  7 12  6  2  7 12  2 12  9 11  6  7  7\n",
      "   3  6  2  7 12  5  6  7  6  2  7 12  3  6  7 11  7 12 11  3  6  2  7 11\n",
      "   6  7  4  2 12]\n",
      " [ 3  6  9 11  2  3  7  3  6  2 12  2  7 12  6  7  3  6  2  7  7 11 11 12\n",
      "   0  0  0  0  0  0  0  0  0  0  0  0  0  0  0  0  0  0  0  0  0  0  0  0\n",
      "   0  0  0  0  0]]\n"
     ]
    }
   ],
   "source": [
    "batch_words,batch_tags = zip(*[zip(*sentence) for sentence in data[-3:]])\n",
    "\n",
    "print(\"Word ids:\")\n",
    "print(to_matrix(batch_words,word_to_id))\n",
    "print(\"Tag ids:\")\n",
    "print(to_matrix(batch_tags,tag_to_id))"
   ]
  },
  {
   "cell_type": "markdown",
   "metadata": {
    "collapsed": true
   },
   "source": [
    "### Build model\n",
    "\n",
    "Unlike our previous lab, this time we'll focus on a high-level keras interface to recurrent neural networks. It is as simple as you can get with RNN, allbeit somewhat constraining for complex tasks like seq2seq.\n",
    "\n",
    "By default, all keras RNNs apply to a whole sequence of inputs and **produce a sequence of hidden states `(return_sequences=True` or just the last hidden state `(return_sequences=False)`**. All the recurrence is happening under the hood.\n",
    "\n",
    "At the top of our model we need to apply a Dense layer to each time-step independently. As of now, by default keras.layers.Dense would apply once to all time-steps concatenated. We use __keras.layers.TimeDistributed__ to modify Dense layer so that it would apply across both batch and time axes."
   ]
  },
  {
   "cell_type": "code",
   "execution_count": 9,
   "metadata": {},
   "outputs": [
    {
     "name": "stderr",
     "output_type": "stream",
     "text": [
      "/home/alexge/anaconda3/envs/carnd-term1/lib/python3.5/site-packages/h5py/__init__.py:34: FutureWarning: Conversion of the second argument of issubdtype from `float` to `np.floating` is deprecated. In future, it will be treated as `np.float64 == np.dtype(float).type`.\n",
      "  from ._conv import register_converters as _register_converters\n",
      "Using TensorFlow backend.\n"
     ]
    }
   ],
   "source": [
    "import keras\n",
    "import keras.layers as L\n",
    "\n",
    "# define a model that utilizes forward propagated simple RNN:\n",
    "model = keras.models.Sequential()\n",
    "# input:\n",
    "model.add(L.InputLayer([None],dtype='int32'))\n",
    "# embedding:\n",
    "model.add(L.Embedding(len(all_words),50))\n",
    "# simple RNN 1\n",
    "model.add(L.SimpleRNN(64,return_sequences=True))\n",
    "# output probabilities:\n",
    "model.add(\n",
    "    # apply probability output layer to each time slice of input. time dimension is 1:\n",
    "    L.TimeDistributed(\n",
    "        L.Dense(len(all_tags),activation='softmax')\n",
    "    )\n",
    ")"
   ]
  },
  {
   "cell_type": "markdown",
   "metadata": {},
   "source": [
    "__Training:__ in this case we don't want to prepare the whole training dataset in advance. The main cause is that **the length of every batch depends on the maximum sentence length within the batch**. This leaves us two options: use custom training code as in previous seminar or use generators.\n",
    "\n",
    "Keras models have a __`model.fit_generator`__ method that accepts a python generator yielding one batch at a time. But first we need to implement such generator:"
   ]
  },
  {
   "cell_type": "code",
   "execution_count": 10,
   "metadata": {
    "collapsed": true
   },
   "outputs": [],
   "source": [
    "from keras.utils.np_utils import to_categorical\n",
    "\n",
    "BATCH_SIZE=32\n",
    "\n",
    "def generate_batches(\n",
    "    sentences,\n",
    "    batch_size=BATCH_SIZE,\n",
    "    max_len=None,\n",
    "    pad=0\n",
    "):\n",
    "    assert isinstance(sentences,np.ndarray),\"Make sure sentences is q numpy array\"\n",
    "    \n",
    "    while True:\n",
    "        # random shuffle before batch generation:\n",
    "        indices = np.random.permutation(np.arange(len(sentences)))\n",
    "        for start in range(0,len(indices)-1,batch_size):\n",
    "            batch_indices = indices[start:start+batch_size]\n",
    "            \n",
    "            batch_words,batch_tags = [],[]\n",
    "            for sent in sentences[batch_indices]:\n",
    "                words,tags = zip(*sent)\n",
    "                batch_words.append(words)\n",
    "                batch_tags.append(tags)\n",
    "\n",
    "            batch_words = to_matrix(batch_words,word_to_id,max_len,pad)\n",
    "            batch_tags = to_matrix(batch_tags,tag_to_id,max_len,pad)\n",
    "\n",
    "            batch_tags_one_hot = to_categorical(\n",
    "                batch_tags,len(all_tags)\n",
    "            ).reshape(batch_tags.shape+(-1,))\n",
    "            \n",
    "            yield batch_words,batch_tags_one_hot"
   ]
  },
  {
   "cell_type": "markdown",
   "metadata": {},
   "source": [
    "__Callbacks:__ Another thing we need is to measure model performance. The tricky part is not to count accuracy after sentence ends (on padding) and making sure we count all the validation data exactly once.\n",
    "\n",
    "While it isn't impossible to persuade Keras to do all of that, we may as well **write our own callback that does that**.\n",
    "\n",
    "Keras callbacks allow you to write a custom code to be ran once every epoch or every minibatch. We'll define one via LambdaCallback"
   ]
  },
  {
   "cell_type": "code",
   "execution_count": 11,
   "metadata": {
    "collapsed": true
   },
   "outputs": [],
   "source": [
    "def compute_test_accuracy(model):\n",
    "    test_words,test_tags = zip(*[zip(*sentence) for sentence in test_data])\n",
    "    test_words,test_tags = to_matrix(test_words,word_to_id),to_matrix(test_tags,tag_to_id)\n",
    "\n",
    "    #predict tag probabilities of shape [batch,time,n_tags]\n",
    "    predicted_tag_probabilities = model.predict(test_words,verbose=1)\n",
    "    predicted_tags = predicted_tag_probabilities.argmax(axis=-1)\n",
    "\n",
    "    #compute accurary excluding padding\n",
    "    numerator = np.sum(np.logical_and((predicted_tags == test_tags),(test_words != 0)))\n",
    "    denominator = np.sum(test_words != 0)\n",
    "    \n",
    "    return float(numerator)/denominator\n",
    "\n",
    "class EvaluateAccuracy(keras.callbacks.Callback):\n",
    "    def on_epoch_end(self,epoch,logs=None):\n",
    "        sys.stdout.flush()\n",
    "        print(\"\\nMeasuring validation accuracy...\")\n",
    "        acc = compute_test_accuracy(self.model)\n",
    "        print(\"\\nValidation accuracy: %.5f\\n\"%acc)\n",
    "        sys.stdout.flush()"
   ]
  },
  {
   "cell_type": "code",
   "execution_count": 12,
   "metadata": {},
   "outputs": [
    {
     "name": "stdout",
     "output_type": "stream",
     "text": [
      "Epoch 1/5\n",
      "1342/1343 [============================>.] - ETA: 0s - loss: 0.2710\n",
      "Measuring validation accuracy...\n",
      "14335/14335 [==============================] - 5s 378us/step\n",
      "\n",
      "Validation accuracy: 0.93901\n",
      "\n",
      "1344/1343 [==============================] - 33s 24ms/step - loss: 0.2707\n",
      "Epoch 2/5\n",
      "1341/1343 [============================>.] - ETA: 0s - loss: 0.0589\n",
      "Measuring validation accuracy...\n",
      "14335/14335 [==============================] - 5s 379us/step\n",
      "\n",
      "Validation accuracy: 0.94386\n",
      "\n",
      "1344/1343 [==============================] - 31s 23ms/step - loss: 0.0589\n",
      "Epoch 3/5\n",
      "1343/1343 [============================>.] - ETA: 0s - loss: 0.0521\n",
      "Measuring validation accuracy...\n",
      "14335/14335 [==============================] - 5s 376us/step\n",
      "\n",
      "Validation accuracy: 0.94554\n",
      "\n",
      "1344/1343 [==============================] - 32s 24ms/step - loss: 0.0521\n",
      "Epoch 4/5\n",
      "1341/1343 [============================>.] - ETA: 0s - loss: 0.0472\n",
      "Measuring validation accuracy...\n",
      "14335/14335 [==============================] - 5s 382us/step\n",
      "\n",
      "Validation accuracy: 0.94613\n",
      "\n",
      "1344/1343 [==============================] - 32s 24ms/step - loss: 0.0472\n",
      "Epoch 5/5\n",
      "1342/1343 [============================>.] - ETA: 0s - loss: 0.0428\n",
      "Measuring validation accuracy...\n",
      "14335/14335 [==============================] - 6s 386us/step\n",
      "\n",
      "Validation accuracy: 0.94425\n",
      "\n",
      "1344/1343 [==============================] - 32s 24ms/step - loss: 0.0428\n"
     ]
    },
    {
     "data": {
      "text/plain": [
       "<keras.callbacks.History at 0x7fdc87161160>"
      ]
     },
     "execution_count": 12,
     "metadata": {},
     "output_type": "execute_result"
    }
   ],
   "source": [
    "model.compile('adam','categorical_crossentropy')\n",
    "\n",
    "model.fit_generator(\n",
    "    generate_batches(train_data),\n",
    "    len(train_data)/BATCH_SIZE,\n",
    "    callbacks=[EvaluateAccuracy()], \n",
    "    epochs=5\n",
    ")"
   ]
  },
  {
   "cell_type": "markdown",
   "metadata": {},
   "source": [
    "Measure final accuracy on the whole test set."
   ]
  },
  {
   "cell_type": "code",
   "execution_count": 13,
   "metadata": {},
   "outputs": [
    {
     "name": "stdout",
     "output_type": "stream",
     "text": [
      "14335/14335 [==============================] - 5s 381us/step\n",
      "Final accuracy: 0.94425\n"
     ]
    }
   ],
   "source": [
    "acc = compute_test_accuracy(model)\n",
    "\n",
    "print(\"Final accuracy: %.5f\"%acc)\n",
    "\n",
    "assert acc>0.94, \"Keras has gone on a rampage again, please contact course staff.\""
   ]
  },
  {
   "cell_type": "markdown",
   "metadata": {},
   "source": [
    "### Task I: getting all bidirectional\n",
    "\n",
    "Since we're analyzing a full sequence, it's legal for us to look into future data.\n",
    "\n",
    "A simple way to achieve that is to go both directions at once, making a __bidirectional RNN__.\n",
    "\n",
    "In Keras you can achieve that both manually (using two LSTMs and Concatenate) and by using __`keras.layers.Bidirectional`__. \n",
    "\n",
    "This one works just as `TimeDistributed` we saw before: you wrap it around a recurrent layer (SimpleRNN now and LSTM/GRU later) and it actually creates two layers under the hood.\n",
    "\n",
    "Your first task is to use such a layer our POS-tagger."
   ]
  },
  {
   "cell_type": "code",
   "execution_count": 16,
   "metadata": {},
   "outputs": [],
   "source": [
    "# define a model that utilizes bidirectional simple RNN\n",
    "model = keras.models.Sequential()\n",
    "# input:\n",
    "model.add(\n",
    "    L.InputLayer([None],dtype='int32')\n",
    ")\n",
    "# embedding:\n",
    "model.add(\n",
    "    L.Embedding(len(all_words),50)\n",
    ")\n",
    "# simple RNN 1:\n",
    "model.add(\n",
    "    L.Bidirectional(\n",
    "        L.SimpleRNN(64,return_sequences=True)\n",
    "    )\n",
    ")\n",
    "# output probabilities:\n",
    "model.add(\n",
    "    L.TimeDistributed(\n",
    "        L.Dense(len(all_tags),activation='softmax')\n",
    "    )\n",
    ")"
   ]
  },
  {
   "cell_type": "code",
   "execution_count": 17,
   "metadata": {},
   "outputs": [
    {
     "name": "stdout",
     "output_type": "stream",
     "text": [
      "Epoch 1/5\n",
      "1343/1343 [============================>.] - ETA: 0s - loss: 0.1952\n",
      "Measuring validation accuracy...\n",
      "14335/14335 [==============================] - 8s 563us/step\n",
      "\n",
      "Validation accuracy: 0.95609\n",
      "\n",
      "1344/1343 [==============================] - 40s 30ms/step - loss: 0.1951\n",
      "Epoch 2/5\n",
      "1342/1343 [============================>.] - ETA: 0s - loss: 0.0426- ETA: 0s\n",
      "Measuring validation accuracy...\n",
      "14335/14335 [==============================] - 8s 547us/step\n",
      "\n",
      "Validation accuracy: 0.96128\n",
      "\n",
      "1344/1343 [==============================] - 39s 29ms/step - loss: 0.0426\n",
      "Epoch 3/5\n",
      "1343/1343 [============================>.] - ETA: 0s - loss: 0.0350\n",
      "Measuring validation accuracy...\n",
      "14335/14335 [==============================] - 8s 579us/step\n",
      "\n",
      "Validation accuracy: 0.96268\n",
      "\n",
      "1344/1343 [==============================] - 39s 29ms/step - loss: 0.0349\n",
      "Epoch 4/5\n",
      "1341/1343 [============================>.] - ETA: 0s - loss: 0.0294\n",
      "Measuring validation accuracy...\n",
      "14335/14335 [==============================] - 8s 559us/step\n",
      "\n",
      "Validation accuracy: 0.96271\n",
      "\n",
      "1344/1343 [==============================] - 40s 30ms/step - loss: 0.0294\n",
      "Epoch 5/5\n",
      "1343/1343 [============================>.] - ETA: 0s - loss: 0.0249\n",
      "Measuring validation accuracy...\n",
      "14335/14335 [==============================] - 8s 568us/step\n",
      "\n",
      "Validation accuracy: 0.96125\n",
      "\n",
      "1344/1343 [==============================] - 40s 30ms/step - loss: 0.0249\n"
     ]
    },
    {
     "data": {
      "text/plain": [
       "<keras.callbacks.History at 0x7fdc29d3aef0>"
      ]
     },
     "execution_count": 17,
     "metadata": {},
     "output_type": "execute_result"
    }
   ],
   "source": [
    "# loss and optimization:\n",
    "model.compile('adam','categorical_crossentropy')\n",
    "# training:\n",
    "model.fit_generator(\n",
    "    generate_batches(train_data),\n",
    "    len(train_data)/BATCH_SIZE,\n",
    "    callbacks=[EvaluateAccuracy()], \n",
    "    epochs=5\n",
    ")"
   ]
  },
  {
   "cell_type": "code",
   "execution_count": 18,
   "metadata": {},
   "outputs": [
    {
     "name": "stdout",
     "output_type": "stream",
     "text": [
      "14335/14335 [==============================] - 8s 541us/step\n",
      "\n",
      "Final accuracy: 0.96125\n",
      "Well done!\n"
     ]
    }
   ],
   "source": [
    "# evaluation:\n",
    "acc = compute_test_accuracy(model)\n",
    "\n",
    "print(\"\\nFinal accuracy: %.5f\"%acc)\n",
    "\n",
    "assert acc>0.96, \"Bidirectional RNNs are better than this!\"\n",
    "print(\"Well done!\")"
   ]
  },
  {
   "cell_type": "markdown",
   "metadata": {},
   "source": [
    "### Task II: now go and improve it\n",
    "\n",
    "You guesses it. We're now gonna ask you to come up with a better network.\n",
    "\n",
    "Here's a few tips:\n",
    "\n",
    "* __Go beyond SimpleRNN__: there's `keras.layers.LSTM` and `keras.layers.GRU`\n",
    "  * If you want to use a custom recurrent Cell, read [this](https://keras.io/layers/recurrent/#rnn)\n",
    "  * You can also use 1D Convolutions (`keras.layers.Conv1D`). They are often as good as recurrent layers but with less overfitting.\n",
    "* __Stack more layers__: if there is a common motif to this course it's about stacking layers\n",
    "  * You can just add recurrent and 1dconv layers on top of one another and keras will understand it\n",
    "  * Just remember that bigger networks may need more epochs to train\n",
    "* __Gradient clipping__: If your training isn't as stable as you'd like, set `clipnorm` in your optimizer.\n",
    "  * Which is to say, it's a good idea to watch over your loss curve at each minibatch. Try tensorboard callback or something similar.\n",
    "* __Regularization__: you can apply dropouts as usuall but also in an RNN-specific way\n",
    "  * `keras.layers.Dropout` works inbetween RNN layers\n",
    "  * Recurrent layers also have `recurrent_dropout` parameter\n",
    "* __More words!__: You can obtain greater performance by expanding your model's input dictionary from 5000 to up to every single word!\n",
    "  * Just make sure your model doesn't overfit due to so many parameters.\n",
    "  * Combined with regularizers or pre-trained word-vectors this could be really good cuz right now our model is blind to >5% of words.\n",
    "* __The most important advice__: don't cram in everything at once!\n",
    "  * If you stuff in a lot of modiffications, some of them almost inevitably gonna be detrimental and you'll never know which of them are.\n",
    "  * Try to instead go in small iterations and record experiment results to guide further search.\n",
    "  \n",
    "There's some advanced stuff waiting at the end of the notebook.\n",
    "  \n",
    "Good hunting!"
   ]
  },
  {
   "cell_type": "code",
   "execution_count": 22,
   "metadata": {
    "collapsed": true
   },
   "outputs": [],
   "source": [
    "# define a model that utilizes bidirectional stacked LSTM:\n",
    "model = keras.models.Sequential()\n",
    "# input:\n",
    "model.add(\n",
    "    L.InputLayer([None],dtype='int32')\n",
    ")\n",
    "# embedding:\n",
    "model.add(\n",
    "    L.Embedding(len(all_words),128)\n",
    ")\n",
    "# long-short term memory 1:\n",
    "model.add(\n",
    "    L.Bidirectional(\n",
    "        L.LSTM(64,return_sequences=True)\n",
    "    )\n",
    ")\n",
    "# output probabilities:\n",
    "model.add(\n",
    "    L.TimeDistributed(\n",
    "        L.Dense(len(all_tags),activation='softmax')\n",
    "    )\n",
    ")"
   ]
  },
  {
   "cell_type": "code",
   "execution_count": null,
   "metadata": {
    "scrolled": false
   },
   "outputs": [
    {
     "name": "stdout",
     "output_type": "stream",
     "text": [
      "Epoch 1/20\n",
      "1343/1343 [============================>.] - ETA: 0s - loss: 0.1892\n",
      "Measuring validation accuracy...\n",
      "14335/14335 [==============================] - 16s 1ms/step\n",
      "\n",
      "Validation accuracy: 0.95859\n",
      "\n",
      "1344/1343 [==============================] - 102s 76ms/step - loss: 0.1891\n",
      "Epoch 2/20\n",
      "1343/1343 [============================>.] - ETA: 0s - loss: 0.0396\n",
      "Measuring validation accuracy...\n",
      "14335/14335 [==============================] - 17s 1ms/step\n",
      "\n",
      "Validation accuracy: 0.96403\n",
      "\n",
      "1344/1343 [==============================] - 107s 79ms/step - loss: 0.0396\n",
      "Epoch 3/20\n",
      "1343/1343 [============================>.] - ETA: 0s - loss: 0.0324\n",
      "Measuring validation accuracy...\n",
      "14335/14335 [==============================] - 18s 1ms/step\n",
      "\n",
      "Validation accuracy: 0.96544\n",
      "\n",
      "1344/1343 [==============================] - 108s 80ms/step - loss: 0.0324\n",
      "Epoch 4/20\n",
      "1343/1343 [============================>.] - ETA: 0s - loss: 0.0273\n",
      "Measuring validation accuracy...\n",
      "14335/14335 [==============================] - 17s 1ms/step\n",
      "\n",
      "Validation accuracy: 0.96605\n",
      "\n",
      "1344/1343 [==============================] - 107s 80ms/step - loss: 0.0273\n",
      "Epoch 5/20\n",
      "1343/1343 [============================>.] - ETA: 0s - loss: 0.0234\n",
      "Measuring validation accuracy...\n",
      "14335/14335 [==============================] - 17s 1ms/step\n",
      "\n",
      "Validation accuracy: 0.96601\n",
      "\n",
      "1344/1343 [==============================] - 108s 80ms/step - loss: 0.0234\n",
      "Epoch 6/20\n",
      "1343/1343 [============================>.] - ETA: 0s - loss: 0.0198\n",
      "Measuring validation accuracy...\n",
      "14335/14335 [==============================] - 16s 1ms/step\n",
      "\n",
      "Validation accuracy: 0.96508\n",
      "\n",
      "1344/1343 [==============================] - 101s 75ms/step - loss: 0.0198\n",
      "Epoch 7/20\n",
      "1343/1343 [============================>.] - ETA: 0s - loss: 0.0165\n",
      "Measuring validation accuracy...\n",
      "14335/14335 [==============================] - 16s 1ms/step\n",
      "\n",
      "Validation accuracy: 0.96451\n",
      "\n",
      "1344/1343 [==============================] - 100s 74ms/step - loss: 0.0165\n",
      "Epoch 8/20\n",
      "1343/1343 [============================>.] - ETA: 0s - loss: 0.0135\n",
      "Measuring validation accuracy...\n",
      "14335/14335 [==============================] - 17s 1ms/step\n",
      "\n",
      "Validation accuracy: 0.96396\n",
      "\n",
      "1344/1343 [==============================] - 100s 75ms/step - loss: 0.0135\n",
      "Epoch 9/20\n",
      "1343/1343 [============================>.] - ETA: 0s - loss: 0.0110\n",
      "Measuring validation accuracy...\n",
      "14335/14335 [==============================] - 16s 1ms/step\n",
      "\n",
      "Validation accuracy: 0.96188\n",
      "\n",
      "1344/1343 [==============================] - 109s 81ms/step - loss: 0.0110\n",
      "Epoch 10/20\n",
      "1343/1343 [============================>.] - ETA: 0s - loss: 0.0088\n",
      "Measuring validation accuracy...\n",
      "14335/14335 [==============================] - 16s 1ms/step\n",
      "\n",
      "Validation accuracy: 0.96244\n",
      "\n",
      "1344/1343 [==============================] - 99s 74ms/step - loss: 0.0088\n",
      "Epoch 11/20\n",
      "1343/1343 [============================>.] - ETA: 0s - loss: 0.0070\n",
      "Measuring validation accuracy...\n",
      "14335/14335 [==============================] - 16s 1ms/step\n",
      "\n",
      "Validation accuracy: 0.96039\n",
      "\n",
      "1344/1343 [==============================] - 99s 73ms/step - loss: 0.0070\n",
      "Epoch 12/20\n",
      "1343/1343 [============================>.] - ETA: 0s - loss: 0.0056\n",
      "Measuring validation accuracy...\n",
      "14335/14335 [==============================] - 17s 1ms/step\n",
      "\n",
      "Validation accuracy: 0.96097\n",
      "\n",
      "1344/1343 [==============================] - 102s 76ms/step - loss: 0.0056\n",
      "Epoch 13/20\n",
      "1343/1343 [============================>.] - ETA: 0s - loss: 0.0045\n",
      "Measuring validation accuracy...\n",
      "14335/14335 [==============================] - 17s 1ms/step\n",
      "\n",
      "Validation accuracy: 0.95958\n",
      "\n",
      "1344/1343 [==============================] - 110s 82ms/step - loss: 0.0045\n",
      "Epoch 14/20\n",
      "1343/1343 [============================>.] - ETA: 0s - loss: 0.0036\n",
      "Measuring validation accuracy...\n",
      "14335/14335 [==============================] - 17s 1ms/step\n",
      "\n",
      "Validation accuracy: 0.95952\n",
      "\n",
      "1344/1343 [==============================] - 111s 82ms/step - loss: 0.0036\n",
      "Epoch 15/20\n",
      "1343/1343 [============================>.] - ETA: 0s - loss: 0.0031\n",
      "Measuring validation accuracy...\n",
      "14335/14335 [==============================] - 16s 1ms/step\n",
      "\n",
      "Validation accuracy: 0.96029\n",
      "\n",
      "1344/1343 [==============================] - 110s 82ms/step - loss: 0.0031\n",
      "Epoch 16/20\n",
      "1343/1343 [============================>.] - ETA: 0s - loss: 0.0027\n",
      "Measuring validation accuracy...\n",
      "14335/14335 [==============================] - 17s 1ms/step\n",
      "\n",
      "Validation accuracy: 0.95912\n",
      "\n",
      "1344/1343 [==============================] - 105s 78ms/step - loss: 0.0027\n",
      "Epoch 17/20\n",
      "1343/1343 [============================>.] - ETA: 0s - loss: 0.0022\n",
      "Measuring validation accuracy...\n",
      "14335/14335 [==============================] - 18s 1ms/step\n",
      "\n",
      "Validation accuracy: 0.95841\n",
      "\n",
      "1344/1343 [==============================] - 107s 79ms/step - loss: 0.0022\n",
      "Epoch 18/20\n",
      "1343/1343 [============================>.] - ETA: 0s - loss: 0.0020\n",
      "Measuring validation accuracy...\n",
      "14335/14335 [==============================] - 16s 1ms/step\n",
      "\n",
      "Validation accuracy: 0.95877\n",
      "\n",
      "1344/1343 [==============================] - 102s 76ms/step - loss: 0.0020\n",
      "Epoch 19/20\n",
      "1343/1343 [============================>.] - ETA: 0s - loss: 0.0018\n",
      "Measuring validation accuracy...\n",
      "14335/14335 [==============================] - 17s 1ms/step\n",
      "\n",
      "Validation accuracy: 0.95832\n",
      "\n",
      "1344/1343 [==============================] - 104s 77ms/step - loss: 0.0018\n",
      "Epoch 20/20\n",
      "1343/1343 [============================>.] - ETA: 0s - loss: 0.0014\n",
      "Measuring validation accuracy...\n",
      "  960/14335 [=>............................] - ETA: 16s"
     ]
    }
   ],
   "source": [
    "# loss and optmization\n",
    "model.compile(\n",
    "    'adam',\n",
    "    'categorical_crossentropy'\n",
    ")\n",
    "# training:\n",
    "model.fit_generator(\n",
    "    generate_batches(train_data),\n",
    "    len(train_data)/BATCH_SIZE,\n",
    "    callbacks=[EvaluateAccuracy()], \n",
    "    epochs=20\n",
    ")"
   ]
  },
  {
   "cell_type": "code",
   "execution_count": 21,
   "metadata": {},
   "outputs": [
    {
     "name": "stdout",
     "output_type": "stream",
     "text": [
      "14335/14335 [==============================] - 17s 1ms/step\n",
      "\n",
      "Final accuracy: 0.96226\n",
      "Just a few more iterations!\n"
     ]
    }
   ],
   "source": [
    "# evaluation:\n",
    "acc = compute_test_accuracy(model)\n",
    "\n",
    "print(\"\\nFinal accuracy: %.5f\"%acc)\n",
    "\n",
    "if acc >= 0.99:\n",
    "    print(\"Awesome! Sky was the limit and yet you scored even higher!\")\n",
    "elif acc >= 0.98:\n",
    "    print(\"Excellent! Whatever dark magic you used, it certainly did it's trick.\")\n",
    "elif acc >= 0.97:\n",
    "    print(\"Well done! If this was a graded assignment, you would have gotten a 100% score.\")\n",
    "elif acc > 0.96:\n",
    "    print(\"Just a few more iterations!\")\n",
    "else:\n",
    "    print(\"There seems to be something broken in the model. Unless you know what you're doing, try taking bidirectional RNN and adding one enhancement at a time to see where's the problem.\")"
   ]
  },
  {
   "cell_type": "markdown",
   "metadata": {},
   "source": [
    "```\n",
    "\n",
    "```\n",
    "\n",
    "```\n",
    "\n",
    "```\n",
    "\n",
    "```\n",
    "\n",
    "```\n",
    "\n",
    "```\n",
    "\n",
    "```\n",
    "\n",
    "```\n",
    "\n",
    "```\n",
    "\n",
    "```\n",
    "\n",
    "```\n",
    "\n",
    "\n",
    "#### Some advanced stuff\n",
    "Here there are a few more tips on how to improve training that are a bit trickier to impliment. We strongly suggest that you try them _after_ you've got a good initial model.\n",
    "* __Use pre-trained embeddings__: you can use pre-trained weights from [there](http://ahogrammer.com/2017/01/20/the-list-of-pretrained-word-embeddings/) to kickstart your Embedding layer.\n",
    "  * Embedding layer has a matrix W (layer.W) which contains word embeddings for each word in the dictionary. You can just overwrite them with tf.assign.\n",
    "  * When using pre-trained embeddings, pay attention to the fact that model's dictionary is different from your own.\n",
    "  * You may want to switch trainable=False for embedding layer in first few epochs as in regular fine-tuning.  \n",
    "* __More efficient baching__: right now TF spends a lot of time iterating over \"0\"s\n",
    "  * This happens because batch is always padded to the length of a longest sentence\n",
    "  * You can speed things up by pre-generating batches of similar lengths and feeding it with randomly chosen pre-generated batch.\n",
    "  * This technically breaks the i.i.d. assumption, but it works unless you come up with some insane rnn architectures.\n",
    "* __Structured loss functions__: since we're tagging the whole sequence at once, we might as well train our network to do so.\n",
    "  * There's more than one way to do so, but we'd recommend starting with [Conditional Random Fields](http://blog.echen.me/2012/01/03/introduction-to-conditional-random-fields/)\n",
    "  * You could plug CRF as a loss function and still train by backprop. There's even some neat tensorflow [implementation](https://www.tensorflow.org/api_guides/python/contrib.crf) for you.\n"
   ]
  }
 ],
 "metadata": {
  "kernelspec": {
   "display_name": "Python 3",
   "language": "python",
   "name": "python3"
  },
  "language_info": {
   "codemirror_mode": {
    "name": "ipython",
    "version": 3
   },
   "file_extension": ".py",
   "mimetype": "text/x-python",
   "name": "python",
   "nbconvert_exporter": "python",
   "pygments_lexer": "ipython3",
   "version": "3.5.2"
  },
  "widgets": {
   "state": {},
   "version": "1.1.2"
  }
 },
 "nbformat": 4,
 "nbformat_minor": 1
}
